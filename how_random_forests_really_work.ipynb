{
  "cells": [
    {
      "cell_type": "markdown",
      "metadata": {
        "id": "view-in-github",
        "colab_type": "text"
      },
      "source": [
        "<a href=\"https://colab.research.google.com/github/carlosvelv/curso_fast_ai/blob/main/how_random_forests_really_work.ipynb\" target=\"_parent\"><img src=\"https://colab.research.google.com/assets/colab-badge.svg\" alt=\"Open In Colab\"/></a>"
      ]
    },
    {
      "cell_type": "markdown",
      "id": "06edaf34",
      "metadata": {
        "papermill": {
          "duration": 0.088578,
          "end_time": "2022-05-23T23:52:03.886920",
          "exception": false,
          "start_time": "2022-05-23T23:52:03.798342",
          "status": "completed"
        },
        "tags": [],
        "id": "06edaf34"
      },
      "source": [
        "## Introduction"
      ]
    },
    {
      "cell_type": "markdown",
      "id": "f058b15f",
      "metadata": {
        "papermill": {
          "duration": 0.075585,
          "end_time": "2022-05-23T23:52:04.041562",
          "exception": false,
          "start_time": "2022-05-23T23:52:03.965977",
          "status": "completed"
        },
        "tags": [],
        "id": "f058b15f"
      },
      "source": [
        "Previously I've shown how to create a [linear model and neural net from scratch](https://www.kaggle.com/code/jhoward/linear-model-and-neural-net-from-scratch), and used it to create a solid submission to Kaggle's [Titanic](https://www.kaggle.com/competitions/titanic/) competition. However, for *tabular* data (i.e data that looks like spreadsheet or database tables, such as the data for the Titanic competition) it's more common to see good results by using ensembles of decision trees, such as Random Forests and Gradient Boosting Machines.\n",
        "\n",
        "In this notebook, we're going to learn all about Random Forests, by building one from scratch, and using it to submit to the Titanic competition! That might sound like a pretty big stretch, but I think you'll be surprised to discover how straightforward it actually is.\n",
        "\n",
        "We'll start by importing the basic set of libraries we normally need for data science work, and setting numpy to use our display space more efficiently:"
      ]
    },
    {
      "cell_type": "code",
      "execution_count": 5,
      "id": "d64452b3",
      "metadata": {
        "_cell_guid": "b1076dfc-b9ad-4769-8c92-a6c4dae69d19",
        "_uuid": "8f2839f25d086af736a60e9eeb907d3b93b6e0e5",
        "execution": {
          "iopub.execute_input": "2022-05-23T23:52:04.194966Z",
          "iopub.status.busy": "2022-05-23T23:52:04.194414Z",
          "iopub.status.idle": "2022-05-23T23:52:04.615833Z",
          "shell.execute_reply": "2022-05-23T23:52:04.614881Z"
        },
        "papermill": {
          "duration": 0.501423,
          "end_time": "2022-05-23T23:52:04.618761",
          "exception": false,
          "start_time": "2022-05-23T23:52:04.117338",
          "status": "completed"
        },
        "tags": [],
        "id": "d64452b3"
      },
      "outputs": [],
      "source": [
        "from fastai.imports import *\n",
        "np.set_printoptions(linewidth=130)"
      ]
    },
    {
      "cell_type": "markdown",
      "id": "963b3840",
      "metadata": {
        "papermill": {
          "duration": 0.076015,
          "end_time": "2022-05-23T23:52:04.770832",
          "exception": false,
          "start_time": "2022-05-23T23:52:04.694817",
          "status": "completed"
        },
        "tags": [],
        "id": "963b3840"
      },
      "source": [
        "## Data preprocessing"
      ]
    },
    {
      "cell_type": "markdown",
      "id": "c582e910",
      "metadata": {
        "papermill": {
          "duration": 0.07709,
          "end_time": "2022-05-23T23:52:04.924481",
          "exception": false,
          "start_time": "2022-05-23T23:52:04.847391",
          "status": "completed"
        },
        "tags": [],
        "id": "c582e910"
      },
      "source": [
        "We'll create `DataFrame`s from the CSV files just like we did in the \"*linear model and neural net from scratch*\" notebook, and do much the same preprocessing (so go back and check that out if you're not already familiar with the dataset):"
      ]
    },
    {
      "cell_type": "code",
      "source": [
        "!unzip titanic.zip"
      ],
      "metadata": {
        "colab": {
          "base_uri": "https://localhost:8080/"
        },
        "id": "2_fC0ewKTswu",
        "outputId": "853be7c7-dc94-4243-bd0c-a56d7afdc0f7"
      },
      "id": "2_fC0ewKTswu",
      "execution_count": 6,
      "outputs": [
        {
          "output_type": "stream",
          "name": "stdout",
          "text": [
            "Archive:  titanic.zip\n",
            "replace gender_submission.csv? [y]es, [n]o, [A]ll, [N]one, [r]ename: y\n",
            "  inflating: gender_submission.csv   \n",
            "replace test.csv? [y]es, [n]o, [A]ll, [N]one, [r]ename: y\n",
            "  inflating: test.csv                \n",
            "replace train.csv? [y]es, [n]o, [A]ll, [N]one, [r]ename: y\n",
            "  inflating: train.csv               \n"
          ]
        }
      ]
    },
    {
      "cell_type": "code",
      "execution_count": 7,
      "id": "8c16f049",
      "metadata": {
        "execution": {
          "iopub.execute_input": "2022-05-23T23:52:05.080498Z",
          "iopub.status.busy": "2022-05-23T23:52:05.079868Z",
          "iopub.status.idle": "2022-05-23T23:52:05.132162Z",
          "shell.execute_reply": "2022-05-23T23:52:05.131303Z"
        },
        "papermill": {
          "duration": 0.131266,
          "end_time": "2022-05-23T23:52:05.134686",
          "exception": false,
          "start_time": "2022-05-23T23:52:05.003420",
          "status": "completed"
        },
        "tags": [],
        "id": "8c16f049"
      },
      "outputs": [],
      "source": [
        "\n",
        "df = pd.read_csv('train.csv')\n",
        "tst_df = pd.read_csv('test.csv')\n",
        "modes = df.mode().iloc[0]"
      ]
    },
    {
      "cell_type": "markdown",
      "id": "c0a0c35b",
      "metadata": {
        "papermill": {
          "duration": 0.074326,
          "end_time": "2022-05-23T23:52:05.283755",
          "exception": false,
          "start_time": "2022-05-23T23:52:05.209429",
          "status": "completed"
        },
        "tags": [],
        "id": "c0a0c35b"
      },
      "source": [
        "One difference with Random Forests however is that we don't generally have to create *dummy variables* like we did for non-numeric columns in the linear models and neural network. Instead, we can just convert those fields to *categorical variables*, which internally in Pandas makes a list of all the unique values in the column, and replaces each value with a number. The number is just an index for looking up the value in the list of all unique values."
      ]
    },
    {
      "cell_type": "code",
      "execution_count": 8,
      "id": "1071c1a3",
      "metadata": {
        "execution": {
          "iopub.execute_input": "2022-05-23T23:52:05.438310Z",
          "iopub.status.busy": "2022-05-23T23:52:05.437730Z",
          "iopub.status.idle": "2022-05-23T23:52:05.458998Z",
          "shell.execute_reply": "2022-05-23T23:52:05.458205Z"
        },
        "papermill": {
          "duration": 0.099983,
          "end_time": "2022-05-23T23:52:05.461215",
          "exception": false,
          "start_time": "2022-05-23T23:52:05.361232",
          "status": "completed"
        },
        "tags": [],
        "id": "1071c1a3"
      },
      "outputs": [],
      "source": [
        "def proc_data(df):\n",
        "    df['Fare'] = df.Fare.fillna(0)\n",
        "    df.fillna(modes, inplace=True)\n",
        "    df['LogFare'] = np.log1p(df['Fare'])\n",
        "    df['Embarked'] = pd.Categorical(df.Embarked)\n",
        "    df['Sex'] = pd.Categorical(df.Sex)\n",
        "\n",
        "proc_data(df)\n",
        "proc_data(tst_df)"
      ]
    },
    {
      "cell_type": "markdown",
      "id": "64f0196d",
      "metadata": {
        "papermill": {
          "duration": 0.075622,
          "end_time": "2022-05-23T23:52:05.612873",
          "exception": false,
          "start_time": "2022-05-23T23:52:05.537251",
          "status": "completed"
        },
        "tags": [],
        "id": "64f0196d"
      },
      "source": [
        "We'll make a list of the continuous, categorical, and dependent variables. Note that we no longer consider `Pclass` a categorical variable. That's because it's *ordered* (i.e 1st, 2nd, and 3rd class have an order), and decision trees, as we'll see, only care about order, not about absolute value."
      ]
    },
    {
      "cell_type": "code",
      "execution_count": 9,
      "id": "98336680",
      "metadata": {
        "execution": {
          "iopub.execute_input": "2022-05-23T23:52:05.767333Z",
          "iopub.status.busy": "2022-05-23T23:52:05.766770Z",
          "iopub.status.idle": "2022-05-23T23:52:05.771007Z",
          "shell.execute_reply": "2022-05-23T23:52:05.770353Z"
        },
        "papermill": {
          "duration": 0.082835,
          "end_time": "2022-05-23T23:52:05.772965",
          "exception": false,
          "start_time": "2022-05-23T23:52:05.690130",
          "status": "completed"
        },
        "tags": [],
        "id": "98336680"
      },
      "outputs": [],
      "source": [
        "cats=[\"Sex\",\"Embarked\"]\n",
        "conts=['Age', 'SibSp', 'Parch', 'LogFare',\"Pclass\"]\n",
        "dep=\"Survived\""
      ]
    },
    {
      "cell_type": "markdown",
      "id": "1d73a083",
      "metadata": {
        "papermill": {
          "duration": 0.074566,
          "end_time": "2022-05-23T23:52:05.923051",
          "exception": false,
          "start_time": "2022-05-23T23:52:05.848485",
          "status": "completed"
        },
        "tags": [],
        "id": "1d73a083"
      },
      "source": [
        "Even although we've made the `cats` columns categorical, they are still shown by Pandas as their original values:"
      ]
    },
    {
      "cell_type": "code",
      "execution_count": 10,
      "id": "d986270f",
      "metadata": {
        "execution": {
          "iopub.execute_input": "2022-05-23T23:52:06.075283Z",
          "iopub.status.busy": "2022-05-23T23:52:06.074927Z",
          "iopub.status.idle": "2022-05-23T23:52:06.084866Z",
          "shell.execute_reply": "2022-05-23T23:52:06.084138Z"
        },
        "papermill": {
          "duration": 0.088602,
          "end_time": "2022-05-23T23:52:06.087425",
          "exception": false,
          "start_time": "2022-05-23T23:52:05.998823",
          "status": "completed"
        },
        "tags": [],
        "colab": {
          "base_uri": "https://localhost:8080/"
        },
        "id": "d986270f",
        "outputId": "308627ca-87b2-4a68-b3ef-99cd319b0ecb"
      },
      "outputs": [
        {
          "output_type": "execute_result",
          "data": {
            "text/plain": [
              "0      male\n",
              "1    female\n",
              "2    female\n",
              "3    female\n",
              "4      male\n",
              "Name: Sex, dtype: category\n",
              "Categories (2, object): ['female', 'male']"
            ]
          },
          "metadata": {},
          "execution_count": 10
        }
      ],
      "source": [
        "df.Sex.head()"
      ]
    },
    {
      "cell_type": "markdown",
      "id": "f3213c9b",
      "metadata": {
        "papermill": {
          "duration": 0.075127,
          "end_time": "2022-05-23T23:52:06.239653",
          "exception": false,
          "start_time": "2022-05-23T23:52:06.164526",
          "status": "completed"
        },
        "tags": [],
        "id": "f3213c9b"
      },
      "source": [
        "However behind the scenes they're now stored as integers, with indices that are looked up in the `Categories` list shown in the output above. We can view the stored values by looking in the `cat.codes` attribute:"
      ]
    },
    {
      "cell_type": "code",
      "execution_count": 11,
      "id": "52d11e29",
      "metadata": {
        "execution": {
          "iopub.execute_input": "2022-05-23T23:52:06.393628Z",
          "iopub.status.busy": "2022-05-23T23:52:06.392869Z",
          "iopub.status.idle": "2022-05-23T23:52:06.399858Z",
          "shell.execute_reply": "2022-05-23T23:52:06.398821Z"
        },
        "papermill": {
          "duration": 0.085298,
          "end_time": "2022-05-23T23:52:06.401867",
          "exception": false,
          "start_time": "2022-05-23T23:52:06.316569",
          "status": "completed"
        },
        "tags": [],
        "colab": {
          "base_uri": "https://localhost:8080/"
        },
        "id": "52d11e29",
        "outputId": "1d6745c5-413e-42d6-aea5-570f18a691c9"
      },
      "outputs": [
        {
          "output_type": "execute_result",
          "data": {
            "text/plain": [
              "0    1\n",
              "1    0\n",
              "2    0\n",
              "3    0\n",
              "4    1\n",
              "dtype: int8"
            ]
          },
          "metadata": {},
          "execution_count": 11
        }
      ],
      "source": [
        "df.Sex.cat.codes.head()"
      ]
    },
    {
      "cell_type": "markdown",
      "id": "41672065",
      "metadata": {
        "papermill": {
          "duration": 0.07507,
          "end_time": "2022-05-23T23:52:06.552765",
          "exception": false,
          "start_time": "2022-05-23T23:52:06.477695",
          "status": "completed"
        },
        "tags": [],
        "id": "41672065"
      },
      "source": [
        "## Binary splits"
      ]
    },
    {
      "cell_type": "markdown",
      "id": "d9a0be88",
      "metadata": {
        "papermill": {
          "duration": 0.078022,
          "end_time": "2022-05-23T23:52:06.707522",
          "exception": false,
          "start_time": "2022-05-23T23:52:06.629500",
          "status": "completed"
        },
        "tags": [],
        "id": "d9a0be88"
      },
      "source": [
        "Before we create a Random Forest or Gradient Boosting Machine, we'll first need to learn how to create a *decision tree*, from which both of these models are built.\n",
        "\n",
        "And to create a decision tree, we'll first need to create a *binary split*, since that's what a decision tree is built from.\n",
        "\n",
        "A binary split is where all rows are placed into one of two groups, based on whether they're above or below some threshold of some column. For example, we could split the rows of our dataset into males and females, by using the threshold `0.5` and the column `Sex` (since the values in the column are `0` for `female` and `1` for `male`). We can use a plot to see how that would split up our data -- we'll use the [Seaborn](https://seaborn.pydata.org/) library, which is a layer on top of [matplotlib](https://matplotlib.org/) that makes some useful charts easier to create, and more aesthetically pleasing by default:"
      ]
    },
    {
      "cell_type": "code",
      "execution_count": 12,
      "id": "55f4f7a9",
      "metadata": {
        "execution": {
          "iopub.execute_input": "2022-05-23T23:52:06.861689Z",
          "iopub.status.busy": "2022-05-23T23:52:06.861126Z",
          "iopub.status.idle": "2022-05-23T23:52:07.884110Z",
          "shell.execute_reply": "2022-05-23T23:52:07.883114Z"
        },
        "papermill": {
          "duration": 1.102355,
          "end_time": "2022-05-23T23:52:07.886349",
          "exception": false,
          "start_time": "2022-05-23T23:52:06.783994",
          "status": "completed"
        },
        "tags": [],
        "colab": {
          "base_uri": "https://localhost:8080/",
          "height": 350
        },
        "id": "55f4f7a9",
        "outputId": "2cad36eb-3581-40da-d698-e44721581634"
      },
      "outputs": [
        {
          "output_type": "display_data",
          "data": {
            "text/plain": [
              "<Figure size 792x360 with 2 Axes>"
            ],
            "image/png": "[encoded data removed]"
          },
          "metadata": {
            "needs_background": "light"
          }
        }
      ],
      "source": [
        "import seaborn as sns\n",
        "\n",
        "fig,axs = plt.subplots(1,2, figsize=(11,5))\n",
        "sns.barplot(data=df, y=dep, x=\"Sex\", ax=axs[0]).set(title=\"Survival rate\")\n",
        "sns.countplot(data=df, x=\"Sex\", ax=axs[1]).set(title=\"Histogram\");"
      ]
    },
    {
      "cell_type": "markdown",
      "id": "7e9411ae",
      "metadata": {
        "papermill": {
          "duration": 0.076048,
          "end_time": "2022-05-23T23:52:08.041349",
          "exception": false,
          "start_time": "2022-05-23T23:52:07.965301",
          "status": "completed"
        },
        "tags": [],
        "id": "7e9411ae"
      },
      "source": [
        "Here we see that (on the left) if we split the data into males and females, we'd have groups that have very different survival rates: >70% for females, and <20% for males. We can also see (on the right) that the split would be reasonably even, with over 300 passengers (out of around 900) in each group.\n",
        "\n",
        "We could create a very simple \"model\" which simply says that all females survive, and no males do. To do so, we better first split our data into a training and validation set, to see how accurate this approach turns out to be:"
      ]
    },
    {
      "cell_type": "code",
      "execution_count": 13,
      "id": "7b21423f",
      "metadata": {
        "execution": {
          "iopub.execute_input": "2022-05-23T23:52:08.197669Z",
          "iopub.status.busy": "2022-05-23T23:52:08.197358Z",
          "iopub.status.idle": "2022-05-23T23:52:08.381950Z",
          "shell.execute_reply": "2022-05-23T23:52:08.381258Z"
        },
        "papermill": {
          "duration": 0.266668,
          "end_time": "2022-05-23T23:52:08.384358",
          "exception": false,
          "start_time": "2022-05-23T23:52:08.117690",
          "status": "completed"
        },
        "tags": [],
        "id": "7b21423f"
      },
      "outputs": [],
      "source": [
        "from numpy import random\n",
        "from sklearn.model_selection import train_test_split\n",
        "\n",
        "random.seed(42)\n",
        "trn_df,val_df = train_test_split(df, test_size=0.25)\n",
        "trn_df[cats] = trn_df[cats].apply(lambda x: x.cat.codes)\n",
        "val_df[cats] = val_df[cats].apply(lambda x: x.cat.codes)"
      ]
    },
    {
      "cell_type": "markdown",
      "id": "1ca3d1b4",
      "metadata": {
        "papermill": {
          "duration": 0.076211,
          "end_time": "2022-05-23T23:52:08.538389",
          "exception": false,
          "start_time": "2022-05-23T23:52:08.462178",
          "status": "completed"
        },
        "tags": [],
        "id": "1ca3d1b4"
      },
      "source": [
        "(In the previous step we also replaced the categorical variables with their integer codes, since some of the models we'll be building in a moment require that.)\n",
        "\n",
        "Now we can create our independent variables (the `x` variables) and dependent (the `y` variable):"
      ]
    },
    {
      "cell_type": "code",
      "execution_count": 14,
      "id": "a1bdbf46",
      "metadata": {
        "execution": {
          "iopub.execute_input": "2022-05-23T23:52:08.693767Z",
          "iopub.status.busy": "2022-05-23T23:52:08.692988Z",
          "iopub.status.idle": "2022-05-23T23:52:08.701823Z",
          "shell.execute_reply": "2022-05-23T23:52:08.700843Z"
        },
        "papermill": {
          "duration": 0.08891,
          "end_time": "2022-05-23T23:52:08.704290",
          "exception": false,
          "start_time": "2022-05-23T23:52:08.615380",
          "status": "completed"
        },
        "tags": [],
        "id": "a1bdbf46"
      },
      "outputs": [],
      "source": [
        "def xs_y(df):\n",
        "    xs = df[cats+conts].copy()\n",
        "    return xs,df[dep] if dep in df else None\n",
        "\n",
        "trn_xs,trn_y = xs_y(trn_df)\n",
        "val_xs,val_y = xs_y(val_df)"
      ]
    },
    {
      "cell_type": "markdown",
      "id": "7f1503e1",
      "metadata": {
        "papermill": {
          "duration": 0.075886,
          "end_time": "2022-05-23T23:52:08.857760",
          "exception": false,
          "start_time": "2022-05-23T23:52:08.781874",
          "status": "completed"
        },
        "tags": [],
        "id": "7f1503e1"
      },
      "source": [
        "Here's the predictions for our extremely simple model, where `female` is coded as `0`:"
      ]
    },
    {
      "cell_type": "code",
      "execution_count": 15,
      "id": "4c717040",
      "metadata": {
        "execution": {
          "iopub.execute_input": "2022-05-23T23:52:09.014276Z",
          "iopub.status.busy": "2022-05-23T23:52:09.013681Z",
          "iopub.status.idle": "2022-05-23T23:52:09.018107Z",
          "shell.execute_reply": "2022-05-23T23:52:09.017344Z"
        },
        "papermill": {
          "duration": 0.085919,
          "end_time": "2022-05-23T23:52:09.020308",
          "exception": false,
          "start_time": "2022-05-23T23:52:08.934389",
          "status": "completed"
        },
        "tags": [],
        "id": "4c717040"
      },
      "outputs": [],
      "source": [
        "preds = val_xs.Sex==0"
      ]
    },
    {
      "cell_type": "markdown",
      "id": "b4a11532",
      "metadata": {
        "papermill": {
          "duration": 0.078424,
          "end_time": "2022-05-23T23:52:09.175518",
          "exception": false,
          "start_time": "2022-05-23T23:52:09.097094",
          "status": "completed"
        },
        "tags": [],
        "id": "b4a11532"
      },
      "source": [
        "We'll use mean absolute error to measure how good this model is:"
      ]
    },
    {
      "cell_type": "code",
      "execution_count": 16,
      "id": "0c0d9955",
      "metadata": {
        "execution": {
          "iopub.execute_input": "2022-05-23T23:52:09.331784Z",
          "iopub.status.busy": "2022-05-23T23:52:09.331490Z",
          "iopub.status.idle": "2022-05-23T23:52:09.338210Z",
          "shell.execute_reply": "2022-05-23T23:52:09.337243Z"
        },
        "papermill": {
          "duration": 0.087547,
          "end_time": "2022-05-23T23:52:09.340660",
          "exception": false,
          "start_time": "2022-05-23T23:52:09.253113",
          "status": "completed"
        },
        "tags": [],
        "colab": {
          "base_uri": "https://localhost:8080/"
        },
        "id": "0c0d9955",
        "outputId": "80319c7a-24cf-4060-8f4c-27bd90de3058"
      },
      "outputs": [
        {
          "output_type": "execute_result",
          "data": {
            "text/plain": [
              "0.21524663677130046"
            ]
          },
          "metadata": {},
          "execution_count": 16
        }
      ],
      "source": [
        "from sklearn.metrics import mean_absolute_error\n",
        "mean_absolute_error(val_y, preds)"
      ]
    },
    {
      "cell_type": "markdown",
      "id": "f1c9360b",
      "metadata": {
        "papermill": {
          "duration": 0.076347,
          "end_time": "2022-05-23T23:52:09.494011",
          "exception": false,
          "start_time": "2022-05-23T23:52:09.417664",
          "status": "completed"
        },
        "tags": [],
        "id": "f1c9360b"
      },
      "source": [
        "Alternatively, we could try splitting on a continuous column. We have to use a somewhat different chart to see how this might work -- here's an example of how we could look at `LogFare`:"
      ]
    },
    {
      "cell_type": "code",
      "execution_count": 17,
      "id": "acbdf71a",
      "metadata": {
        "execution": {
          "iopub.execute_input": "2022-05-23T23:52:09.650478Z",
          "iopub.status.busy": "2022-05-23T23:52:09.650134Z",
          "iopub.status.idle": "2022-05-23T23:52:09.932886Z",
          "shell.execute_reply": "2022-05-23T23:52:09.931944Z"
        },
        "papermill": {
          "duration": 0.363754,
          "end_time": "2022-05-23T23:52:09.935270",
          "exception": false,
          "start_time": "2022-05-23T23:52:09.571516",
          "status": "completed"
        },
        "tags": [],
        "colab": {
          "base_uri": "https://localhost:8080/",
          "height": 334
        },
        "id": "acbdf71a",
        "outputId": "243470eb-60f8-4a2d-e2de-4823ba51bb98"
      },
      "outputs": [
        {
          "output_type": "display_data",
          "data": {
            "text/plain": [
              "<Figure size 792x360 with 2 Axes>"
            ],
            "image/png": "[encoded data removed]"
          },
          "metadata": {
            "needs_background": "light"
          }
        }
      ],
      "source": [
        "df_fare = trn_df[trn_df.LogFare>0]\n",
        "fig,axs = plt.subplots(1,2, figsize=(11,5))\n",
        "sns.boxenplot(data=df_fare, x=dep, y=\"LogFare\", ax=axs[0])\n",
        "sns.kdeplot(data=df_fare, x=\"LogFare\", ax=axs[1]);"
      ]
    },
    {
      "cell_type": "markdown",
      "id": "79a5316d",
      "metadata": {
        "papermill": {
          "duration": 0.080153,
          "end_time": "2022-05-23T23:52:10.094741",
          "exception": false,
          "start_time": "2022-05-23T23:52:10.014588",
          "status": "completed"
        },
        "tags": [],
        "id": "79a5316d"
      },
      "source": [
        "The [boxenplot](https://seaborn.pydata.org/generated/seaborn.boxenplot.html) above shows quantiles of `LogFare` for each group of `Survived==0` and `Survived==1`. It shows that the average `LogFare` for passengers that didn't survive is around `2.5`, and for those that did it's around `3.2`. So it seems that people that paid more for their tickets were more likely to get put on a lifeboat.\n",
        "\n",
        "Let's create a simple model based on this observation:"
      ]
    },
    {
      "cell_type": "code",
      "execution_count": 18,
      "id": "1ba429ff",
      "metadata": {
        "execution": {
          "iopub.execute_input": "2022-05-23T23:52:10.253568Z",
          "iopub.status.busy": "2022-05-23T23:52:10.253277Z",
          "iopub.status.idle": "2022-05-23T23:52:10.258015Z",
          "shell.execute_reply": "2022-05-23T23:52:10.257122Z"
        },
        "papermill": {
          "duration": 0.086971,
          "end_time": "2022-05-23T23:52:10.260566",
          "exception": false,
          "start_time": "2022-05-23T23:52:10.173595",
          "status": "completed"
        },
        "tags": [],
        "id": "1ba429ff"
      },
      "outputs": [],
      "source": [
        "preds = val_xs.LogFare>2.7"
      ]
    },
    {
      "cell_type": "markdown",
      "id": "f6d760f2",
      "metadata": {
        "papermill": {
          "duration": 0.078029,
          "end_time": "2022-05-23T23:52:10.418725",
          "exception": false,
          "start_time": "2022-05-23T23:52:10.340696",
          "status": "completed"
        },
        "tags": [],
        "id": "f6d760f2"
      },
      "source": [
        "...and test it out:"
      ]
    },
    {
      "cell_type": "code",
      "execution_count": 19,
      "id": "faa47c50",
      "metadata": {
        "execution": {
          "iopub.execute_input": "2022-05-23T23:52:10.577363Z",
          "iopub.status.busy": "2022-05-23T23:52:10.576760Z",
          "iopub.status.idle": "2022-05-23T23:52:10.583341Z",
          "shell.execute_reply": "2022-05-23T23:52:10.582517Z"
        },
        "papermill": {
          "duration": 0.088187,
          "end_time": "2022-05-23T23:52:10.585326",
          "exception": false,
          "start_time": "2022-05-23T23:52:10.497139",
          "status": "completed"
        },
        "tags": [],
        "colab": {
          "base_uri": "https://localhost:8080/"
        },
        "id": "faa47c50",
        "outputId": "bb8a430e-ef25-4b34-f410-bcde2b7b454d"
      },
      "outputs": [
        {
          "output_type": "execute_result",
          "data": {
            "text/plain": [
              "0.336322869955157"
            ]
          },
          "metadata": {},
          "execution_count": 19
        }
      ],
      "source": [
        "mean_absolute_error(val_y, preds)"
      ]
    },
    {
      "cell_type": "markdown",
      "id": "b1fb2616",
      "metadata": {
        "papermill": {
          "duration": 0.078849,
          "end_time": "2022-05-23T23:52:10.742895",
          "exception": false,
          "start_time": "2022-05-23T23:52:10.664046",
          "status": "completed"
        },
        "tags": [],
        "id": "b1fb2616"
      },
      "source": [
        "This is quite a bit less accurate than our model that used `Sex` as the single binary split.\n",
        "\n",
        "Ideally, we'd like some way to try more columns and breakpoints more easily. We could create a function that returns how good our model is, in order to more quickly try out a few different splits. We'll create a `score` function to do this. Instead of returning the mean absolute error, we'll calculate a measure of *impurity* -- that is, how much the binary split creates two groups where the rows in a group are each similar to each other, or dissimilar.\n",
        "\n",
        "We can measure the similarity of rows inside a group by taking the standard deviation of the dependent variable. If it's higher, then it means the rows are more different to each other. We'll then multiply this by the number of rows, since a bigger group as more impact than a smaller group:"
      ]
    },
    {
      "cell_type": "code",
      "execution_count": 20,
      "id": "b651bfd0",
      "metadata": {
        "execution": {
          "iopub.execute_input": "2022-05-23T23:52:10.902098Z",
          "iopub.status.busy": "2022-05-23T23:52:10.901650Z",
          "iopub.status.idle": "2022-05-23T23:52:10.906471Z",
          "shell.execute_reply": "2022-05-23T23:52:10.905688Z"
        },
        "papermill": {
          "duration": 0.087027,
          "end_time": "2022-05-23T23:52:10.908542",
          "exception": false,
          "start_time": "2022-05-23T23:52:10.821515",
          "status": "completed"
        },
        "tags": [],
        "id": "b651bfd0"
      },
      "outputs": [],
      "source": [
        "def _side_score(side, y):\n",
        "    tot = side.sum()\n",
        "    if tot<=1: return 0\n",
        "    return y[side].std()*tot"
      ]
    },
    {
      "cell_type": "markdown",
      "id": "2e592ee2",
      "metadata": {
        "papermill": {
          "duration": 0.078184,
          "end_time": "2022-05-23T23:52:11.065440",
          "exception": false,
          "start_time": "2022-05-23T23:52:10.987256",
          "status": "completed"
        },
        "tags": [],
        "id": "2e592ee2"
      },
      "source": [
        "Now we've got that written, we can calculate the score for a split by adding up the scores for the \"left hand side\" (lhs) and \"right hand side\" (rhs):"
      ]
    },
    {
      "cell_type": "code",
      "execution_count": 21,
      "id": "516a5e14",
      "metadata": {
        "execution": {
          "iopub.execute_input": "2022-05-23T23:52:11.227933Z",
          "iopub.status.busy": "2022-05-23T23:52:11.227382Z",
          "iopub.status.idle": "2022-05-23T23:52:11.231832Z",
          "shell.execute_reply": "2022-05-23T23:52:11.231159Z"
        },
        "papermill": {
          "duration": 0.089432,
          "end_time": "2022-05-23T23:52:11.233859",
          "exception": false,
          "start_time": "2022-05-23T23:52:11.144427",
          "status": "completed"
        },
        "tags": [],
        "id": "516a5e14"
      },
      "outputs": [],
      "source": [
        "    \n",
        "def score(col, y, split):\n",
        "    lhs = col<=split\n",
        "    return (_side_score(lhs,y) + _side_score(~lhs,y))/len(y)"
      ]
    },
    {
      "cell_type": "markdown",
      "id": "9709bc86",
      "metadata": {
        "papermill": {
          "duration": 0.078311,
          "end_time": "2022-05-23T23:52:11.393682",
          "exception": false,
          "start_time": "2022-05-23T23:52:11.315371",
          "status": "completed"
        },
        "tags": [],
        "id": "9709bc86"
      },
      "source": [
        "For instance, here's the impurity score for the split on `Sex`:"
      ]
    },
    {
      "cell_type": "code",
      "execution_count": 22,
      "id": "fae1fdbc",
      "metadata": {
        "execution": {
          "iopub.execute_input": "2022-05-23T23:52:11.552734Z",
          "iopub.status.busy": "2022-05-23T23:52:11.552167Z",
          "iopub.status.idle": "2022-05-23T23:52:11.559158Z",
          "shell.execute_reply": "2022-05-23T23:52:11.558604Z"
        },
        "papermill": {
          "duration": 0.088961,
          "end_time": "2022-05-23T23:52:11.561023",
          "exception": false,
          "start_time": "2022-05-23T23:52:11.472062",
          "status": "completed"
        },
        "tags": [],
        "colab": {
          "base_uri": "https://localhost:8080/"
        },
        "id": "fae1fdbc",
        "outputId": "4132bdcc-d2f9-42fe-db6e-77708ec4b651"
      },
      "outputs": [
        {
          "output_type": "execute_result",
          "data": {
            "text/plain": [
              "0.40787530982063946"
            ]
          },
          "metadata": {},
          "execution_count": 22
        }
      ],
      "source": [
        "score(trn_xs[\"Sex\"], trn_y, 0.5)"
      ]
    },
    {
      "cell_type": "markdown",
      "id": "364e9f82",
      "metadata": {
        "papermill": {
          "duration": 0.07955,
          "end_time": "2022-05-23T23:52:11.720650",
          "exception": false,
          "start_time": "2022-05-23T23:52:11.641100",
          "status": "completed"
        },
        "tags": [],
        "id": "364e9f82"
      },
      "source": [
        "...and for `LogFare`:"
      ]
    },
    {
      "cell_type": "code",
      "execution_count": 23,
      "id": "e6549176",
      "metadata": {
        "execution": {
          "iopub.execute_input": "2022-05-23T23:52:11.885615Z",
          "iopub.status.busy": "2022-05-23T23:52:11.885055Z",
          "iopub.status.idle": "2022-05-23T23:52:11.892268Z",
          "shell.execute_reply": "2022-05-23T23:52:11.891417Z"
        },
        "papermill": {
          "duration": 0.09165,
          "end_time": "2022-05-23T23:52:11.894535",
          "exception": false,
          "start_time": "2022-05-23T23:52:11.802885",
          "status": "completed"
        },
        "tags": [],
        "colab": {
          "base_uri": "https://localhost:8080/"
        },
        "id": "e6549176",
        "outputId": "b3454893-dcae-43ee-de34-703d7523ab3c"
      },
      "outputs": [
        {
          "output_type": "execute_result",
          "data": {
            "text/plain": [
              "0.47180873952099694"
            ]
          },
          "metadata": {},
          "execution_count": 23
        }
      ],
      "source": [
        "score(trn_xs[\"LogFare\"], trn_y, 2.7)"
      ]
    },
    {
      "cell_type": "markdown",
      "id": "356238b3",
      "metadata": {
        "papermill": {
          "duration": 0.079081,
          "end_time": "2022-05-23T23:52:12.055373",
          "exception": false,
          "start_time": "2022-05-23T23:52:11.976292",
          "status": "completed"
        },
        "tags": [],
        "id": "356238b3"
      },
      "source": [
        "As we'd expect from our earlier tests, `Sex` appears to be a better split.\n",
        "\n",
        "To make it easier to find the best binary split, we can create a simple interactive tool (note that this only works in Kaggle if you click \"Copy and Edit\" in the top right to open the notebook editor):"
      ]
    },
    {
      "cell_type": "code",
      "execution_count": 24,
      "id": "8c928d3b",
      "metadata": {
        "execution": {
          "iopub.execute_input": "2022-05-23T23:52:12.216334Z",
          "iopub.status.busy": "2022-05-23T23:52:12.215970Z",
          "iopub.status.idle": "2022-05-23T23:52:12.265156Z",
          "shell.execute_reply": "2022-05-23T23:52:12.264332Z"
        },
        "papermill": {
          "duration": 0.132469,
          "end_time": "2022-05-23T23:52:12.267078",
          "exception": false,
          "start_time": "2022-05-23T23:52:12.134609",
          "status": "completed"
        },
        "tags": [],
        "colab": {
          "base_uri": "https://localhost:8080/",
          "height": 98,
          "referenced_widgets": [
            "850f1edb50d34b33b1c19a5852a4cade",
            "9af1771b8ea14414915ffb4dd70708c0",
            "5e568db946fd4f2abdff71b9313d3b08",
            "339f327cfc5443a9810d9a3463c557e5",
            "227abceae9954dd38e1937ab05101596",
            "8fa1fbbc6a4947ba8f3247481a586765",
            "66d0bd28b9b142918209191c96a45f5b",
            "2064587b78b44e07a71b607f23238936",
            "f151fac10783413b90f0f3b4d4e27741",
            "1482e9921d89438996a5aef27e4caa0e"
          ]
        },
        "id": "8c928d3b",
        "outputId": "432f5773-4268-48a1-82f1-5c7a907ee89e"
      },
      "outputs": [
        {
          "output_type": "display_data",
          "data": {
            "text/plain": [
              "interactive(children=(Dropdown(description='nm', options=('Age', 'SibSp', 'Parch', 'LogFare', 'Pclass'), value…"
            ],
            "application/vnd.jupyter.widget-view+json": {
              "version_major": 2,
              "version_minor": 0,
              "model_id": "850f1edb50d34b33b1c19a5852a4cade"
            }
          },
          "metadata": {}
        }
      ],
      "source": [
        "def iscore(nm, split):\n",
        "    col = trn_xs[nm]\n",
        "    return score(col, trn_y, split)\n",
        "\n",
        "from ipywidgets import interact\n",
        "interact(nm=conts, split=15.5)(iscore);"
      ]
    },
    {
      "cell_type": "markdown",
      "id": "815eb4ff",
      "metadata": {
        "papermill": {
          "duration": 0.079567,
          "end_time": "2022-05-23T23:52:12.429393",
          "exception": false,
          "start_time": "2022-05-23T23:52:12.349826",
          "status": "completed"
        },
        "tags": [],
        "id": "815eb4ff"
      },
      "source": [
        "Try selecting different columns and split points using the dropdown and slider above. What splits can you find that increase the purity of the data?\n",
        "\n",
        "We can do the same thing for the categorical variables:"
      ]
    },
    {
      "cell_type": "code",
      "execution_count": 25,
      "id": "7a01bf2f",
      "metadata": {
        "execution": {
          "iopub.execute_input": "2022-05-23T23:52:12.590541Z",
          "iopub.status.busy": "2022-05-23T23:52:12.589936Z",
          "iopub.status.idle": "2022-05-23T23:52:12.629855Z",
          "shell.execute_reply": "2022-05-23T23:52:12.629042Z"
        },
        "papermill": {
          "duration": 0.12315,
          "end_time": "2022-05-23T23:52:12.632048",
          "exception": false,
          "start_time": "2022-05-23T23:52:12.508898",
          "status": "completed"
        },
        "tags": [],
        "colab": {
          "base_uri": "https://localhost:8080/",
          "height": 98,
          "referenced_widgets": [
            "a379d86097d94b21998643610ca41804",
            "22ff96a848174213b2668cb02498d613",
            "a73b55f69a9e4c5fa6963db23abc32f8",
            "4f2c5c24053a47048ed44f12b235ea24",
            "0ebfafb5724c4e2c8760f1dce56410ee",
            "38bb84f3ca6e4f8f814a13bc4e6102c4",
            "83005b4556d24cc499586fd59d5d8178",
            "691a0eda085141368e1923edf27664a5",
            "d09aefeb98144729b8faa8e605ad5610",
            "dbab9d08dee04063833ee94cbe4a2c63"
          ]
        },
        "id": "7a01bf2f",
        "outputId": "9e45e1b5-516d-47c6-f144-c2fdc0237990"
      },
      "outputs": [
        {
          "output_type": "display_data",
          "data": {
            "text/plain": [
              "interactive(children=(Dropdown(description='nm', options=('Sex', 'Embarked'), value='Sex'), IntSlider(value=2,…"
            ],
            "application/vnd.jupyter.widget-view+json": {
              "version_major": 2,
              "version_minor": 0,
              "model_id": "a379d86097d94b21998643610ca41804"
            }
          },
          "metadata": {}
        }
      ],
      "source": [
        "interact(nm=cats, split=2)(iscore);"
      ]
    },
    {
      "cell_type": "markdown",
      "id": "2ca21219",
      "metadata": {
        "papermill": {
          "duration": 0.083889,
          "end_time": "2022-05-23T23:52:12.798280",
          "exception": false,
          "start_time": "2022-05-23T23:52:12.714391",
          "status": "completed"
        },
        "tags": [],
        "id": "2ca21219"
      },
      "source": [
        "That works well enough, but it's rather slow and fiddly. Perhaps we could get the computer to automatically find the best split point for a column for us? For example, to find the best split point for `age` we'd first need to make a list of all the possible split points (i.e all the unique values of that field)...:"
      ]
    },
    {
      "cell_type": "code",
      "execution_count": 26,
      "id": "e874abe7",
      "metadata": {
        "execution": {
          "iopub.execute_input": "2022-05-23T23:52:12.966711Z",
          "iopub.status.busy": "2022-05-23T23:52:12.966335Z",
          "iopub.status.idle": "2022-05-23T23:52:12.974377Z",
          "shell.execute_reply": "2022-05-23T23:52:12.973469Z"
        },
        "papermill": {
          "duration": 0.094016,
          "end_time": "2022-05-23T23:52:12.976340",
          "exception": false,
          "start_time": "2022-05-23T23:52:12.882324",
          "status": "completed"
        },
        "tags": [],
        "colab": {
          "base_uri": "https://localhost:8080/"
        },
        "id": "e874abe7",
        "outputId": "a4e12854-356f-469a-ae98-9bd2cea09c29"
      },
      "outputs": [
        {
          "output_type": "execute_result",
          "data": {
            "text/plain": [
              "array([ 0.42,  0.67,  0.75,  0.83,  0.92,  1.  ,  2.  ,  3.  ,  4.  ,  5.  ,  6.  ,  7.  ,  8.  ,  9.  , 10.  , 11.  , 12.  ,\n",
              "       13.  , 14.  , 14.5 , 15.  , 16.  , 17.  , 18.  , 19.  , 20.  , 21.  , 22.  , 23.  , 24.  , 24.5 , 25.  , 26.  , 27.  ,\n",
              "       28.  , 28.5 , 29.  , 30.  , 31.  , 32.  , 32.5 , 33.  , 34.  , 34.5 , 35.  , 36.  , 36.5 , 37.  , 38.  , 39.  , 40.  ,\n",
              "       40.5 , 41.  , 42.  , 43.  , 44.  , 45.  , 45.5 , 46.  , 47.  , 48.  , 49.  , 50.  , 51.  , 52.  , 53.  , 54.  , 55.  ,\n",
              "       55.5 , 56.  , 57.  , 58.  , 59.  , 60.  , 61.  , 62.  , 64.  , 65.  , 70.  , 70.5 , 74.  , 80.  ])"
            ]
          },
          "metadata": {},
          "execution_count": 26
        }
      ],
      "source": [
        "nm = \"Age\"\n",
        "col = trn_xs[nm]\n",
        "unq = col.unique()\n",
        "unq.sort()\n",
        "unq"
      ]
    },
    {
      "cell_type": "markdown",
      "id": "89155c82",
      "metadata": {
        "papermill": {
          "duration": 0.082301,
          "end_time": "2022-05-23T23:52:13.139089",
          "exception": false,
          "start_time": "2022-05-23T23:52:13.056788",
          "status": "completed"
        },
        "tags": [],
        "id": "89155c82"
      },
      "source": [
        "...and find which index of those values is where `score()` is the lowest:"
      ]
    },
    {
      "cell_type": "code",
      "execution_count": 27,
      "id": "46695da8",
      "metadata": {
        "execution": {
          "iopub.execute_input": "2022-05-23T23:52:13.304274Z",
          "iopub.status.busy": "2022-05-23T23:52:13.303102Z",
          "iopub.status.idle": "2022-05-23T23:52:13.380984Z",
          "shell.execute_reply": "2022-05-23T23:52:13.380401Z"
        },
        "papermill": {
          "duration": 0.162462,
          "end_time": "2022-05-23T23:52:13.382996",
          "exception": false,
          "start_time": "2022-05-23T23:52:13.220534",
          "status": "completed"
        },
        "tags": [],
        "colab": {
          "base_uri": "https://localhost:8080/"
        },
        "id": "46695da8",
        "outputId": "e24076c3-6ea2-44fe-c556-0457e722feed"
      },
      "outputs": [
        {
          "output_type": "execute_result",
          "data": {
            "text/plain": [
              "6.0"
            ]
          },
          "metadata": {},
          "execution_count": 27
        }
      ],
      "source": [
        "scores = np.array([score(col, trn_y, o) for o in unq if not np.isnan(o)])\n",
        "unq[scores.argmin()]"
      ]
    },
    {
      "cell_type": "markdown",
      "id": "a16194f3",
      "metadata": {
        "papermill": {
          "duration": 0.081418,
          "end_time": "2022-05-23T23:52:13.547416",
          "exception": false,
          "start_time": "2022-05-23T23:52:13.465998",
          "status": "completed"
        },
        "tags": [],
        "id": "a16194f3"
      },
      "source": [
        "Based on this, it looks like, for instance, that for the `Age` column, `6` is the optimal cutoff according to our training set.\n",
        "\n",
        "We can write a little function that implements this idea:"
      ]
    },
    {
      "cell_type": "code",
      "execution_count": 28,
      "id": "dbfea30b",
      "metadata": {
        "execution": {
          "iopub.execute_input": "2022-05-23T23:52:13.713714Z",
          "iopub.status.busy": "2022-05-23T23:52:13.713139Z",
          "iopub.status.idle": "2022-05-23T23:52:13.796796Z",
          "shell.execute_reply": "2022-05-23T23:52:13.795637Z"
        },
        "papermill": {
          "duration": 0.169239,
          "end_time": "2022-05-23T23:52:13.799146",
          "exception": false,
          "start_time": "2022-05-23T23:52:13.629907",
          "status": "completed"
        },
        "tags": [],
        "colab": {
          "base_uri": "https://localhost:8080/"
        },
        "id": "dbfea30b",
        "outputId": "214f7c02-3c50-4ad4-c99e-22be0ecdd203"
      },
      "outputs": [
        {
          "output_type": "execute_result",
          "data": {
            "text/plain": [
              "(6.0, 0.478316717508991)"
            ]
          },
          "metadata": {},
          "execution_count": 28
        }
      ],
      "source": [
        "def min_col(df, nm):\n",
        "    col,y = df[nm],df[dep]\n",
        "    unq = col.dropna().unique()\n",
        "    scores = np.array([score(col, y, o) for o in unq if not np.isnan(o)])\n",
        "    idx = scores.argmin()\n",
        "    return unq[idx],scores[idx]\n",
        "\n",
        "min_col(trn_df, \"Age\")"
      ]
    },
    {
      "cell_type": "markdown",
      "id": "4982e304",
      "metadata": {
        "papermill": {
          "duration": 0.082152,
          "end_time": "2022-05-23T23:52:13.965025",
          "exception": false,
          "start_time": "2022-05-23T23:52:13.882873",
          "status": "completed"
        },
        "tags": [],
        "id": "4982e304"
      },
      "source": [
        "Let's try all the columns:"
      ]
    },
    {
      "cell_type": "code",
      "execution_count": 29,
      "id": "ea0dd416",
      "metadata": {
        "execution": {
          "iopub.execute_input": "2022-05-23T23:52:14.132925Z",
          "iopub.status.busy": "2022-05-23T23:52:14.132393Z",
          "iopub.status.idle": "2022-05-23T23:52:14.415875Z",
          "shell.execute_reply": "2022-05-23T23:52:14.414970Z"
        },
        "papermill": {
          "duration": 0.368983,
          "end_time": "2022-05-23T23:52:14.418270",
          "exception": false,
          "start_time": "2022-05-23T23:52:14.049287",
          "status": "completed"
        },
        "tags": [],
        "colab": {
          "base_uri": "https://localhost:8080/"
        },
        "id": "ea0dd416",
        "outputId": "4ef6c184-5fb6-4d01-bccb-f3f71a0b8421"
      },
      "outputs": [
        {
          "output_type": "execute_result",
          "data": {
            "text/plain": [
              "{'Sex': (0, 0.40787530982063946),\n",
              " 'Embarked': (0, 0.47883342573147836),\n",
              " 'Age': (6.0, 0.478316717508991),\n",
              " 'SibSp': (4, 0.4783740258817434),\n",
              " 'Parch': (0, 0.4805296527841601),\n",
              " 'LogFare': (2.4390808375825834, 0.4620823937736597),\n",
              " 'Pclass': (2, 0.46048261885806596)}"
            ]
          },
          "metadata": {},
          "execution_count": 29
        }
      ],
      "source": [
        "cols = cats+conts\n",
        "{o:min_col(trn_df, o) for o in cols}"
      ]
    },
    {
      "cell_type": "markdown",
      "id": "b9efce23",
      "metadata": {
        "papermill": {
          "duration": 0.084939,
          "end_time": "2022-05-23T23:52:14.586316",
          "exception": false,
          "start_time": "2022-05-23T23:52:14.501377",
          "status": "completed"
        },
        "tags": [],
        "id": "b9efce23"
      },
      "source": [
        "According to this, `Sex<=0` is the best split we can use.\n",
        "\n",
        "We've just re-invented the [OneR](https://link.springer.com/article/10.1023/A:1022631118932) classifier (or at least, a minor variant of it), which was found to be one of the most effective classifiers in real-world datasets, compared to the algorithms in use in 1993. Since it's so simple and surprisingly effective, it makes for a great *baseline* -- that is, a starting point that you can use to compare your more sophisticated models to.\n",
        "\n",
        "We found earlier that out OneR rule had an error of around `0.215`, so we'll keep that in mind as we try out more sophisticated approaches."
      ]
    },
    {
      "cell_type": "markdown",
      "id": "188dce42",
      "metadata": {
        "papermill": {
          "duration": 0.08557,
          "end_time": "2022-05-23T23:52:14.754376",
          "exception": false,
          "start_time": "2022-05-23T23:52:14.668806",
          "status": "completed"
        },
        "tags": [],
        "id": "188dce42"
      },
      "source": [
        "## Creating a decision tree"
      ]
    },
    {
      "cell_type": "markdown",
      "id": "4b46f3c0",
      "metadata": {
        "papermill": {
          "duration": 0.082087,
          "end_time": "2022-05-23T23:52:14.936889",
          "exception": false,
          "start_time": "2022-05-23T23:52:14.854802",
          "status": "completed"
        },
        "tags": [],
        "id": "4b46f3c0"
      },
      "source": [
        "How can we improve our OneR classifier, which predicts survival based only on `Sex`?\n",
        "\n",
        "How about we take each of our two groups, `female` and `male`, and create one more binary split for each of them. That is: fine the single best split for females, and the single best split for males. To do this, all we have to do is repeat the previous section's steps, once for males, and once for females.\n",
        "\n",
        "First, we'll remove `Sex` from the list of possible splits (since we've already used it, and there's only one possible split for that binary column), and create our two groups:"
      ]
    },
    {
      "cell_type": "code",
      "execution_count": 30,
      "id": "c763fa2d",
      "metadata": {
        "execution": {
          "iopub.execute_input": "2022-05-23T23:52:15.108874Z",
          "iopub.status.busy": "2022-05-23T23:52:15.107962Z",
          "iopub.status.idle": "2022-05-23T23:52:15.113883Z",
          "shell.execute_reply": "2022-05-23T23:52:15.113202Z"
        },
        "papermill": {
          "duration": 0.096166,
          "end_time": "2022-05-23T23:52:15.116020",
          "exception": false,
          "start_time": "2022-05-23T23:52:15.019854",
          "status": "completed"
        },
        "tags": [],
        "id": "c763fa2d"
      },
      "outputs": [],
      "source": [
        "cols.remove(\"Sex\")\n",
        "ismale = trn_df.Sex==1\n",
        "males,females = trn_df[ismale],trn_df[~ismale]"
      ]
    },
    {
      "cell_type": "markdown",
      "id": "6fe0016a",
      "metadata": {
        "papermill": {
          "duration": 0.083992,
          "end_time": "2022-05-23T23:52:15.291509",
          "exception": false,
          "start_time": "2022-05-23T23:52:15.207517",
          "status": "completed"
        },
        "tags": [],
        "id": "6fe0016a"
      },
      "source": [
        "Now let's find the single best binary split for males...:"
      ]
    },
    {
      "cell_type": "code",
      "execution_count": 31,
      "id": "7e2ddff4",
      "metadata": {
        "execution": {
          "iopub.execute_input": "2022-05-23T23:52:15.458872Z",
          "iopub.status.busy": "2022-05-23T23:52:15.458593Z",
          "iopub.status.idle": "2022-05-23T23:52:15.681368Z",
          "shell.execute_reply": "2022-05-23T23:52:15.680415Z"
        },
        "papermill": {
          "duration": 0.308595,
          "end_time": "2022-05-23T23:52:15.683697",
          "exception": false,
          "start_time": "2022-05-23T23:52:15.375102",
          "status": "completed"
        },
        "tags": [],
        "colab": {
          "base_uri": "https://localhost:8080/"
        },
        "id": "7e2ddff4",
        "outputId": "cf859559-9046-44a7-dbe6-9698a031e7fc"
      },
      "outputs": [
        {
          "output_type": "execute_result",
          "data": {
            "text/plain": [
              "{'Embarked': (0, 0.3875581870410906),\n",
              " 'Age': (6.0, 0.3739828371010595),\n",
              " 'SibSp': (4, 0.3875864227586273),\n",
              " 'Parch': (0, 0.3874704821461959),\n",
              " 'LogFare': (2.803360380906535, 0.3804856231758151),\n",
              " 'Pclass': (1, 0.38155442004360934)}"
            ]
          },
          "metadata": {},
          "execution_count": 31
        }
      ],
      "source": [
        "{o:min_col(males, o) for o in cols}"
      ]
    },
    {
      "cell_type": "markdown",
      "id": "9a2311f4",
      "metadata": {
        "papermill": {
          "duration": 0.082834,
          "end_time": "2022-05-23T23:52:15.849096",
          "exception": false,
          "start_time": "2022-05-23T23:52:15.766262",
          "status": "completed"
        },
        "tags": [],
        "id": "9a2311f4"
      },
      "source": [
        "...and for females:"
      ]
    },
    {
      "cell_type": "code",
      "execution_count": 32,
      "id": "9bf7b509",
      "metadata": {
        "execution": {
          "iopub.execute_input": "2022-05-23T23:52:16.018822Z",
          "iopub.status.busy": "2022-05-23T23:52:16.017551Z",
          "iopub.status.idle": "2022-05-23T23:52:16.192436Z",
          "shell.execute_reply": "2022-05-23T23:52:16.191481Z"
        },
        "papermill": {
          "duration": 0.262921,
          "end_time": "2022-05-23T23:52:16.194640",
          "exception": false,
          "start_time": "2022-05-23T23:52:15.931719",
          "status": "completed"
        },
        "tags": [],
        "colab": {
          "base_uri": "https://localhost:8080/"
        },
        "id": "9bf7b509",
        "outputId": "e82240ab-4874-4568-fdca-3b58015ec884"
      },
      "outputs": [
        {
          "output_type": "execute_result",
          "data": {
            "text/plain": [
              "{'Embarked': (0, 0.4295252982857327),\n",
              " 'Age': (50.0, 0.4225927658431649),\n",
              " 'SibSp': (4, 0.42319212059713535),\n",
              " 'Parch': (3, 0.4193314500446158),\n",
              " 'LogFare': (4.256321678298823, 0.41350598332911376),\n",
              " 'Pclass': (2, 0.3335388911567601)}"
            ]
          },
          "metadata": {},
          "execution_count": 32
        }
      ],
      "source": [
        "{o:min_col(females, o) for o in cols}"
      ]
    },
    {
      "cell_type": "markdown",
      "id": "aff7ee6c",
      "metadata": {
        "papermill": {
          "duration": 0.082127,
          "end_time": "2022-05-23T23:52:16.360962",
          "exception": false,
          "start_time": "2022-05-23T23:52:16.278835",
          "status": "completed"
        },
        "tags": [],
        "id": "aff7ee6c"
      },
      "source": [
        "We can see that the best next binary split for males is `Age<=6`, and for females is `Pclass<=2`.\n",
        "\n",
        "By adding these rules, we have created a *decision tree*, where our model will first check whether `Sex` is female or male, and depending on the result will then check either the above `Age` or `Pclass` rules, as appropriate. We could then repeat the process, creating new additional rules for each of the four groups we've now created.\n",
        "\n",
        "Rather than writing that code manually, we can use `DecisionTreeClassifier`, from *sklearn*, which does exactly that for us:"
      ]
    },
    {
      "cell_type": "code",
      "execution_count": 33,
      "id": "ec097da2",
      "metadata": {
        "execution": {
          "iopub.execute_input": "2022-05-23T23:52:16.529664Z",
          "iopub.status.busy": "2022-05-23T23:52:16.529398Z",
          "iopub.status.idle": "2022-05-23T23:52:16.695471Z",
          "shell.execute_reply": "2022-05-23T23:52:16.694497Z"
        },
        "papermill": {
          "duration": 0.252427,
          "end_time": "2022-05-23T23:52:16.697904",
          "exception": false,
          "start_time": "2022-05-23T23:52:16.445477",
          "status": "completed"
        },
        "tags": [],
        "id": "ec097da2"
      },
      "outputs": [],
      "source": [
        "from sklearn.tree import DecisionTreeClassifier, export_graphviz\n",
        "\n",
        "m = DecisionTreeClassifier(max_leaf_nodes=4).fit(trn_xs, trn_y);"
      ]
    },
    {
      "cell_type": "markdown",
      "id": "d99cb625",
      "metadata": {
        "papermill": {
          "duration": 0.083074,
          "end_time": "2022-05-23T23:52:16.867207",
          "exception": false,
          "start_time": "2022-05-23T23:52:16.784133",
          "status": "completed"
        },
        "tags": [],
        "id": "d99cb625"
      },
      "source": [
        "One handy feature or this class is that it provides a function for drawing a tree representing the rules:"
      ]
    },
    {
      "cell_type": "code",
      "execution_count": 34,
      "id": "aecbdf2c",
      "metadata": {
        "execution": {
          "iopub.execute_input": "2022-05-23T23:52:17.035987Z",
          "iopub.status.busy": "2022-05-23T23:52:17.035668Z",
          "iopub.status.idle": "2022-05-23T23:52:17.053247Z",
          "shell.execute_reply": "2022-05-23T23:52:17.052446Z"
        },
        "papermill": {
          "duration": 0.104803,
          "end_time": "2022-05-23T23:52:17.055420",
          "exception": false,
          "start_time": "2022-05-23T23:52:16.950617",
          "status": "completed"
        },
        "tags": [],
        "id": "aecbdf2c"
      },
      "outputs": [],
      "source": [
        "import graphviz\n",
        "\n",
        "def draw_tree(t, df, size=10, ratio=0.6, precision=2, **kwargs):\n",
        "    s=export_graphviz(t, out_file=None, feature_names=df.columns, filled=True, rounded=True,\n",
        "                      special_characters=True, rotate=False, precision=precision, **kwargs)\n",
        "    return graphviz.Source(re.sub('Tree {', f'Tree {{ size={size}; ratio={ratio}', s))"
      ]
    },
    {
      "cell_type": "code",
      "execution_count": 35,
      "id": "1bdc0cef",
      "metadata": {
        "execution": {
          "iopub.execute_input": "2022-05-23T23:52:17.223303Z",
          "iopub.status.busy": "2022-05-23T23:52:17.222716Z",
          "iopub.status.idle": "2022-05-23T23:52:18.363065Z",
          "shell.execute_reply": "2022-05-23T23:52:18.362266Z"
        },
        "papermill": {
          "duration": 1.226978,
          "end_time": "2022-05-23T23:52:18.365861",
          "exception": false,
          "start_time": "2022-05-23T23:52:17.138883",
          "status": "completed"
        },
        "tags": [],
        "colab": {
          "base_uri": "https://localhost:8080/",
          "height": 451
        },
        "id": "1bdc0cef",
        "outputId": "c3cb92cb-d83b-496e-9009-67ef21a30b1e"
      },
      "outputs": [
        {
          "output_type": "execute_result",
          "data": {
            "text/plain": [
              "<graphviz.files.Source at 0x7f944423b690>"
            ],
            "image/svg+xml": "<?xml version=\"1.0\" encoding=\"UTF-8\" standalone=\"no\"?>\n<!DOCTYPE svg PUBLIC \"-//W3C//DTD SVG 1.1//EN\"\n \"http://www.w3.org/Graphics/SVG/1.1/DTD/svg11.dtd\">\n<!-- Generated by graphviz version 2.40.1 (20161225.0304)\n -->\n<!-- Title: Tree Pages: 1 -->\n<svg width=\"532pt\" height=\"322pt\"\n viewBox=\"0.00 0.00 532.00 322.40\" xmlns=\"http://www.w3.org/2000/svg\" xmlns:xlink=\"http://www.w3.org/1999/xlink\">\n<g id=\"graph0\" class=\"graph\" transform=\"scale(1 1) rotate(0) translate(4 318.4)\">\n<title>Tree</title>\n<polygon fill=\"#ffffff\" stroke=\"transparent\" points=\"-4,4 -4,-318.4 528,-318.4 528,4 -4,4\"/>\n<!-- 0 -->\n<g id=\"node1\" class=\"node\">\n<title>0</title>\n<path fill=\"#f5ceb2\" stroke=\"#000000\" d=\"M314,-307C314,-307 206,-307 206,-307 200,-307 194,-301 194,-295 194,-295 194,-251 194,-251 194,-245 200,-239 206,-239 206,-239 314,-239 314,-239 320,-239 326,-245 326,-251 326,-251 326,-295 326,-295 326,-301 320,-307 314,-307\"/>\n<text text-anchor=\"start\" x=\"229.5\" y=\"-291.8\" font-family=\"Helvetica,sans-Serif\" font-size=\"14.00\" fill=\"#000000\">Sex ≤ 0.5</text>\n<text text-anchor=\"start\" x=\"226.5\" y=\"-276.8\" font-family=\"Helvetica,sans-Serif\" font-size=\"14.00\" fill=\"#000000\">gini = 0.47</text>\n<text text-anchor=\"start\" x=\"212\" y=\"-261.8\" font-family=\"Helvetica,sans-Serif\" font-size=\"14.00\" fill=\"#000000\">samples = 668</text>\n<text text-anchor=\"start\" x=\"202\" y=\"-246.8\" font-family=\"Helvetica,sans-Serif\" font-size=\"14.00\" fill=\"#000000\">value = [415, 253]</text>\n</g>\n<!-- 1 -->\n<g id=\"node2\" class=\"node\">\n<title>1</title>\n<path fill=\"#7ebfee\" stroke=\"#000000\" d=\"M239,-182C239,-182 139,-182 139,-182 133,-182 127,-176 127,-170 127,-170 127,-126 127,-126 127,-120 133,-114 139,-114 139,-114 239,-114 239,-114 245,-114 251,-120 251,-126 251,-126 251,-170 251,-170 251,-176 245,-182 239,-182\"/>\n<text text-anchor=\"start\" x=\"149.5\" y=\"-166.8\" font-family=\"Helvetica,sans-Serif\" font-size=\"14.00\" fill=\"#000000\">Pclass ≤ 2.5</text>\n<text text-anchor=\"start\" x=\"155.5\" y=\"-151.8\" font-family=\"Helvetica,sans-Serif\" font-size=\"14.00\" fill=\"#000000\">gini = 0.38</text>\n<text text-anchor=\"start\" x=\"141\" y=\"-136.8\" font-family=\"Helvetica,sans-Serif\" font-size=\"14.00\" fill=\"#000000\">samples = 229</text>\n<text text-anchor=\"start\" x=\"135\" y=\"-121.8\" font-family=\"Helvetica,sans-Serif\" font-size=\"14.00\" fill=\"#000000\">value = [59, 170]</text>\n</g>\n<!-- 0&#45;&gt;1 -->\n<g id=\"edge1\" class=\"edge\">\n<title>0&#45;&gt;1</title>\n<path fill=\"none\" stroke=\"#000000\" d=\"M240.5989,-238.8432C232.2244,-224.0992 222.3333,-206.6854 213.4631,-191.0688\"/>\n<polygon fill=\"#000000\" stroke=\"#000000\" points=\"216.3599,-189.0821 208.3776,-182.1155 210.2732,-192.5394 216.3599,-189.0821\"/>\n<text text-anchor=\"middle\" x=\"201.7373\" y=\"-202.5175\" font-family=\"Helvetica,sans-Serif\" font-size=\"14.00\" fill=\"#000000\">True</text>\n</g>\n<!-- 2 -->\n<g id=\"node5\" class=\"node\">\n<title>2</title>\n<path fill=\"#eb9e67\" stroke=\"#000000\" d=\"M381,-182C381,-182 281,-182 281,-182 275,-182 269,-176 269,-170 269,-170 269,-126 269,-126 269,-120 275,-114 281,-114 281,-114 381,-114 381,-114 387,-114 393,-120 393,-126 393,-126 393,-170 393,-170 393,-176 387,-182 381,-182\"/>\n<text text-anchor=\"start\" x=\"300\" y=\"-166.8\" font-family=\"Helvetica,sans-Serif\" font-size=\"14.00\" fill=\"#000000\">Age ≤ 6.5</text>\n<text text-anchor=\"start\" x=\"297.5\" y=\"-151.8\" font-family=\"Helvetica,sans-Serif\" font-size=\"14.00\" fill=\"#000000\">gini = 0.31</text>\n<text text-anchor=\"start\" x=\"283\" y=\"-136.8\" font-family=\"Helvetica,sans-Serif\" font-size=\"14.00\" fill=\"#000000\">samples = 439</text>\n<text text-anchor=\"start\" x=\"277\" y=\"-121.8\" font-family=\"Helvetica,sans-Serif\" font-size=\"14.00\" fill=\"#000000\">value = [356, 83]</text>\n</g>\n<!-- 0&#45;&gt;2 -->\n<g id=\"edge4\" class=\"edge\">\n<title>0&#45;&gt;2</title>\n<path fill=\"none\" stroke=\"#000000\" d=\"M279.4011,-238.8432C287.7756,-224.0992 297.6667,-206.6854 306.5369,-191.0688\"/>\n<polygon fill=\"#000000\" stroke=\"#000000\" points=\"309.7268,-192.5394 311.6224,-182.1155 303.6401,-189.0821 309.7268,-192.5394\"/>\n<text text-anchor=\"middle\" x=\"318.2627\" y=\"-202.5175\" font-family=\"Helvetica,sans-Serif\" font-size=\"14.00\" fill=\"#000000\">False</text>\n</g>\n<!-- 3 -->\n<g id=\"node3\" class=\"node\">\n<title>3</title>\n<path fill=\"#40a0e6\" stroke=\"#000000\" d=\"M104,-58.5C104,-58.5 12,-58.5 12,-58.5 6,-58.5 0,-52.5 0,-46.5 0,-46.5 0,-17.5 0,-17.5 0,-11.5 6,-5.5 12,-5.5 12,-5.5 104,-5.5 104,-5.5 110,-5.5 116,-11.5 116,-17.5 116,-17.5 116,-46.5 116,-46.5 116,-52.5 110,-58.5 104,-58.5\"/>\n<text text-anchor=\"start\" x=\"24.5\" y=\"-43.3\" font-family=\"Helvetica,sans-Serif\" font-size=\"14.00\" fill=\"#000000\">gini = 0.06</text>\n<text text-anchor=\"start\" x=\"10\" y=\"-28.3\" font-family=\"Helvetica,sans-Serif\" font-size=\"14.00\" fill=\"#000000\">samples = 120</text>\n<text text-anchor=\"start\" x=\"8\" y=\"-13.3\" font-family=\"Helvetica,sans-Serif\" font-size=\"14.00\" fill=\"#000000\">value = [4, 116]</text>\n</g>\n<!-- 1&#45;&gt;3 -->\n<g id=\"edge2\" class=\"edge\">\n<title>1&#45;&gt;3</title>\n<path fill=\"none\" stroke=\"#000000\" d=\"M150.4042,-113.8236C133.1258,-98.5236 112.8242,-80.5466 95.6576,-65.3457\"/>\n<polygon fill=\"#000000\" stroke=\"#000000\" points=\"97.82,-62.5855 88.013,-58.5764 93.1794,-67.8262 97.82,-62.5855\"/>\n</g>\n<!-- 4 -->\n<g id=\"node4\" class=\"node\">\n<title>4</title>\n<path fill=\"#fffdfb\" stroke=\"#000000\" d=\"M238,-58.5C238,-58.5 146,-58.5 146,-58.5 140,-58.5 134,-52.5 134,-46.5 134,-46.5 134,-17.5 134,-17.5 134,-11.5 140,-5.5 146,-5.5 146,-5.5 238,-5.5 238,-5.5 244,-5.5 250,-11.5 250,-17.5 250,-17.5 250,-46.5 250,-46.5 250,-52.5 244,-58.5 238,-58.5\"/>\n<text text-anchor=\"start\" x=\"162.5\" y=\"-43.3\" font-family=\"Helvetica,sans-Serif\" font-size=\"14.00\" fill=\"#000000\">gini = 0.5</text>\n<text text-anchor=\"start\" x=\"144\" y=\"-28.3\" font-family=\"Helvetica,sans-Serif\" font-size=\"14.00\" fill=\"#000000\">samples = 109</text>\n<text text-anchor=\"start\" x=\"142\" y=\"-13.3\" font-family=\"Helvetica,sans-Serif\" font-size=\"14.00\" fill=\"#000000\">value = [55, 54]</text>\n</g>\n<!-- 1&#45;&gt;4 -->\n<g id=\"edge3\" class=\"edge\">\n<title>1&#45;&gt;4</title>\n<path fill=\"none\" stroke=\"#000000\" d=\"M189.8839,-113.8236C190.251,-99.6263 190.6778,-83.124 191.0515,-68.6736\"/>\n<polygon fill=\"#000000\" stroke=\"#000000\" points=\"194.5529,-68.6635 191.3127,-58.5764 187.5552,-68.4825 194.5529,-68.6635\"/>\n</g>\n<!-- 5 -->\n<g id=\"node6\" class=\"node\">\n<title>5</title>\n<path fill=\"#88c4ef\" stroke=\"#000000\" d=\"M369.5,-58.5C369.5,-58.5 286.5,-58.5 286.5,-58.5 280.5,-58.5 274.5,-52.5 274.5,-46.5 274.5,-46.5 274.5,-17.5 274.5,-17.5 274.5,-11.5 280.5,-5.5 286.5,-5.5 286.5,-5.5 369.5,-5.5 369.5,-5.5 375.5,-5.5 381.5,-11.5 381.5,-17.5 381.5,-17.5 381.5,-46.5 381.5,-46.5 381.5,-52.5 375.5,-58.5 369.5,-58.5\"/>\n<text text-anchor=\"start\" x=\"294.5\" y=\"-43.3\" font-family=\"Helvetica,sans-Serif\" font-size=\"14.00\" fill=\"#000000\">gini = 0.41</text>\n<text text-anchor=\"start\" x=\"284\" y=\"-28.3\" font-family=\"Helvetica,sans-Serif\" font-size=\"14.00\" fill=\"#000000\">samples = 21</text>\n<text text-anchor=\"start\" x=\"282.5\" y=\"-13.3\" font-family=\"Helvetica,sans-Serif\" font-size=\"14.00\" fill=\"#000000\">value = [6, 15]</text>\n</g>\n<!-- 2&#45;&gt;5 -->\n<g id=\"edge5\" class=\"edge\">\n<title>2&#45;&gt;5</title>\n<path fill=\"none\" stroke=\"#000000\" d=\"M330.1161,-113.8236C329.749,-99.6263 329.3222,-83.124 328.9485,-68.6736\"/>\n<polygon fill=\"#000000\" stroke=\"#000000\" points=\"332.4448,-68.4825 328.6873,-58.5764 325.4471,-68.6635 332.4448,-68.4825\"/>\n</g>\n<!-- 6 -->\n<g id=\"node7\" class=\"node\">\n<title>6</title>\n<path fill=\"#ea995f\" stroke=\"#000000\" d=\"M512,-58.5C512,-58.5 412,-58.5 412,-58.5 406,-58.5 400,-52.5 400,-46.5 400,-46.5 400,-17.5 400,-17.5 400,-11.5 406,-5.5 412,-5.5 412,-5.5 512,-5.5 512,-5.5 518,-5.5 524,-11.5 524,-17.5 524,-17.5 524,-46.5 524,-46.5 524,-52.5 518,-58.5 512,-58.5\"/>\n<text text-anchor=\"start\" x=\"428.5\" y=\"-43.3\" font-family=\"Helvetica,sans-Serif\" font-size=\"14.00\" fill=\"#000000\">gini = 0.27</text>\n<text text-anchor=\"start\" x=\"414\" y=\"-28.3\" font-family=\"Helvetica,sans-Serif\" font-size=\"14.00\" fill=\"#000000\">samples = 418</text>\n<text text-anchor=\"start\" x=\"408\" y=\"-13.3\" font-family=\"Helvetica,sans-Serif\" font-size=\"14.00\" fill=\"#000000\">value = [350, 68]</text>\n</g>\n<!-- 2&#45;&gt;6 -->\n<g id=\"edge6\" class=\"edge\">\n<title>2&#45;&gt;6</title>\n<path fill=\"none\" stroke=\"#000000\" d=\"M369.5958,-113.8236C386.8742,-98.5236 407.1758,-80.5466 424.3424,-65.3457\"/>\n<polygon fill=\"#000000\" stroke=\"#000000\" points=\"426.8206,-67.8262 431.987,-58.5764 422.18,-62.5855 426.8206,-67.8262\"/>\n</g>\n</g>\n</svg>\n"
          },
          "metadata": {},
          "execution_count": 35
        }
      ],
      "source": [
        "draw_tree(m, trn_xs, size=10)"
      ]
    },
    {
      "cell_type": "markdown",
      "id": "227b4580",
      "metadata": {
        "papermill": {
          "duration": 0.088127,
          "end_time": "2022-05-23T23:52:18.559846",
          "exception": false,
          "start_time": "2022-05-23T23:52:18.471719",
          "status": "completed"
        },
        "tags": [],
        "id": "227b4580"
      },
      "source": [
        "We can see that it's found exactly the same splits as we did!\n",
        "\n",
        "In this picture, the more orange nodes have a lower survival rate, and blue have higher survival. Each node shows how many rows (\"*samples*\") match that set of rules, and shows how many perish or survive (\"*values*\"). There's also something called \"*gini*\". That's another measure of impurity, and it's very similar to the `score()` we created earlier. It's defined as follows:"
      ]
    },
    {
      "cell_type": "code",
      "execution_count": 36,
      "id": "2fa894c2",
      "metadata": {
        "execution": {
          "iopub.execute_input": "2022-05-23T23:52:18.752681Z",
          "iopub.status.busy": "2022-05-23T23:52:18.751920Z",
          "iopub.status.idle": "2022-05-23T23:52:18.758546Z",
          "shell.execute_reply": "2022-05-23T23:52:18.757602Z"
        },
        "papermill": {
          "duration": 0.097829,
          "end_time": "2022-05-23T23:52:18.760992",
          "exception": false,
          "start_time": "2022-05-23T23:52:18.663163",
          "status": "completed"
        },
        "tags": [],
        "id": "2fa894c2"
      },
      "outputs": [],
      "source": [
        "def gini(cond):\n",
        "    act = df.loc[cond, dep]\n",
        "    return 1 - act.mean()**2 - (1-act).mean()**2"
      ]
    },
    {
      "cell_type": "markdown",
      "id": "7dfd7abc",
      "metadata": {
        "papermill": {
          "duration": 0.084105,
          "end_time": "2022-05-23T23:52:18.931050",
          "exception": false,
          "start_time": "2022-05-23T23:52:18.846945",
          "status": "completed"
        },
        "tags": [],
        "id": "7dfd7abc"
      },
      "source": [
        "What this calculates is the probability that, if you pick two rows from a group, you'll get the same `Survived` result each time. If the group is all the same, the probability is `1.0`, and `0.0` if they're all different:"
      ]
    },
    {
      "cell_type": "code",
      "execution_count": 37,
      "id": "4dc6dc0d",
      "metadata": {
        "execution": {
          "iopub.execute_input": "2022-05-23T23:52:19.104861Z",
          "iopub.status.busy": "2022-05-23T23:52:19.104134Z",
          "iopub.status.idle": "2022-05-23T23:52:19.116417Z",
          "shell.execute_reply": "2022-05-23T23:52:19.115262Z"
        },
        "papermill": {
          "duration": 0.103004,
          "end_time": "2022-05-23T23:52:19.118690",
          "exception": false,
          "start_time": "2022-05-23T23:52:19.015686",
          "status": "completed"
        },
        "tags": [],
        "colab": {
          "base_uri": "https://localhost:8080/"
        },
        "id": "4dc6dc0d",
        "outputId": "95f929bc-c5e0-4ca2-8367-e8c09a8ff0db"
      },
      "outputs": [
        {
          "output_type": "execute_result",
          "data": {
            "text/plain": [
              "(0.3828350034484158, 0.3064437162277842)"
            ]
          },
          "metadata": {},
          "execution_count": 37
        }
      ],
      "source": [
        "gini(df.Sex=='female'), gini(df.Sex=='male')"
      ]
    },
    {
      "cell_type": "markdown",
      "id": "fd8824b5",
      "metadata": {
        "papermill": {
          "duration": 0.084331,
          "end_time": "2022-05-23T23:52:19.288293",
          "exception": false,
          "start_time": "2022-05-23T23:52:19.203962",
          "status": "completed"
        },
        "tags": [],
        "id": "fd8824b5"
      },
      "source": [
        "Let's see how this model compares to our OneR version:"
      ]
    },
    {
      "cell_type": "code",
      "execution_count": 38,
      "id": "176028cc",
      "metadata": {
        "execution": {
          "iopub.execute_input": "2022-05-23T23:52:19.457789Z",
          "iopub.status.busy": "2022-05-23T23:52:19.457491Z",
          "iopub.status.idle": "2022-05-23T23:52:19.466175Z",
          "shell.execute_reply": "2022-05-23T23:52:19.465462Z"
        },
        "papermill": {
          "duration": 0.095697,
          "end_time": "2022-05-23T23:52:19.468099",
          "exception": false,
          "start_time": "2022-05-23T23:52:19.372402",
          "status": "completed"
        },
        "tags": [],
        "colab": {
          "base_uri": "https://localhost:8080/"
        },
        "id": "176028cc",
        "outputId": "79e36439-d5f5-43e4-af38-696bd4459b7c"
      },
      "outputs": [
        {
          "output_type": "execute_result",
          "data": {
            "text/plain": [
              "0.2242152466367713"
            ]
          },
          "metadata": {},
          "execution_count": 38
        }
      ],
      "source": [
        "mean_absolute_error(val_y, m.predict(val_xs))"
      ]
    },
    {
      "cell_type": "markdown",
      "id": "a4ca0406",
      "metadata": {
        "papermill": {
          "duration": 0.083894,
          "end_time": "2022-05-23T23:52:19.636103",
          "exception": false,
          "start_time": "2022-05-23T23:52:19.552209",
          "status": "completed"
        },
        "tags": [],
        "id": "a4ca0406"
      },
      "source": [
        "It's a tiny bit worse. Since this is such a small dataset (we've only got around 200 rows in our validation set) this small difference isn't really meaningful. Perhaps we'll see better results if we create a bigger tree:"
      ]
    },
    {
      "cell_type": "code",
      "execution_count": 39,
      "id": "b81bfa65",
      "metadata": {
        "execution": {
          "iopub.execute_input": "2022-05-23T23:52:19.807239Z",
          "iopub.status.busy": "2022-05-23T23:52:19.806662Z",
          "iopub.status.idle": "2022-05-23T23:52:19.855092Z",
          "shell.execute_reply": "2022-05-23T23:52:19.854063Z"
        },
        "papermill": {
          "duration": 0.136732,
          "end_time": "2022-05-23T23:52:19.857341",
          "exception": false,
          "start_time": "2022-05-23T23:52:19.720609",
          "status": "completed"
        },
        "tags": [],
        "colab": {
          "base_uri": "https://localhost:8080/",
          "height": 736
        },
        "id": "b81bfa65",
        "outputId": "f433b08d-036c-4ba9-fba3-cecb40de1a75"
      },
      "outputs": [
        {
          "output_type": "execute_result",
          "data": {
            "text/plain": [
              "<graphviz.files.Source at 0x7f9443f73e10>"
            ],
            "image/svg+xml": "<?xml version=\"1.0\" encoding=\"UTF-8\" standalone=\"no\"?>\n<!DOCTYPE svg PUBLIC \"-//W3C//DTD SVG 1.1//EN\"\n \"http://www.w3.org/Graphics/SVG/1.1/DTD/svg11.dtd\">\n<!-- Generated by graphviz version 2.40.1 (20161225.0304)\n -->\n<!-- Title: Tree Pages: 1 -->\n<svg width=\"864pt\" height=\"521pt\"\n viewBox=\"0.00 0.00 864.00 520.59\" xmlns=\"http://www.w3.org/2000/svg\" xmlns:xlink=\"http://www.w3.org/1999/xlink\">\n<g id=\"graph0\" class=\"graph\" transform=\"scale(.76 .76) rotate(0) translate(4 681)\">\n<title>Tree</title>\n<polygon fill=\"#ffffff\" stroke=\"transparent\" points=\"-4,4 -4,-681 1132.8737,-681 1132.8737,4 -4,4\"/>\n<!-- 0 -->\n<g id=\"node1\" class=\"node\">\n<title>0</title>\n<path fill=\"#f5ceb2\" stroke=\"#000000\" d=\"M600.2834,-677C600.2834,-677 492.2834,-677 492.2834,-677 486.2834,-677 480.2834,-671 480.2834,-665 480.2834,-665 480.2834,-621 480.2834,-621 480.2834,-615 486.2834,-609 492.2834,-609 492.2834,-609 600.2834,-609 600.2834,-609 606.2834,-609 612.2834,-615 612.2834,-621 612.2834,-621 612.2834,-665 612.2834,-665 612.2834,-671 606.2834,-677 600.2834,-677\"/>\n<text text-anchor=\"start\" x=\"515.7834\" y=\"-661.8\" font-family=\"Helvetica,sans-Serif\" font-size=\"14.00\" fill=\"#000000\">Sex ≤ 0.5</text>\n<text text-anchor=\"start\" x=\"512.7834\" y=\"-646.8\" font-family=\"Helvetica,sans-Serif\" font-size=\"14.00\" fill=\"#000000\">gini = 0.47</text>\n<text text-anchor=\"start\" x=\"498.2834\" y=\"-631.8\" font-family=\"Helvetica,sans-Serif\" font-size=\"14.00\" fill=\"#000000\">samples = 668</text>\n<text text-anchor=\"start\" x=\"488.2834\" y=\"-616.8\" font-family=\"Helvetica,sans-Serif\" font-size=\"14.00\" fill=\"#000000\">value = [415, 253]</text>\n</g>\n<!-- 1 -->\n<g id=\"node2\" class=\"node\">\n<title>1</title>\n<path fill=\"#7ebfee\" stroke=\"#000000\" d=\"M453.2834,-573C453.2834,-573 353.2834,-573 353.2834,-573 347.2834,-573 341.2834,-567 341.2834,-561 341.2834,-561 341.2834,-517 341.2834,-517 341.2834,-511 347.2834,-505 353.2834,-505 353.2834,-505 453.2834,-505 453.2834,-505 459.2834,-505 465.2834,-511 465.2834,-517 465.2834,-517 465.2834,-561 465.2834,-561 465.2834,-567 459.2834,-573 453.2834,-573\"/>\n<text text-anchor=\"start\" x=\"363.7834\" y=\"-557.8\" font-family=\"Helvetica,sans-Serif\" font-size=\"14.00\" fill=\"#000000\">Pclass ≤ 2.5</text>\n<text text-anchor=\"start\" x=\"369.7834\" y=\"-542.8\" font-family=\"Helvetica,sans-Serif\" font-size=\"14.00\" fill=\"#000000\">gini = 0.38</text>\n<text text-anchor=\"start\" x=\"355.2834\" y=\"-527.8\" font-family=\"Helvetica,sans-Serif\" font-size=\"14.00\" fill=\"#000000\">samples = 229</text>\n<text text-anchor=\"start\" x=\"349.2834\" y=\"-512.8\" font-family=\"Helvetica,sans-Serif\" font-size=\"14.00\" fill=\"#000000\">value = [59, 170]</text>\n</g>\n<!-- 0&#45;&gt;1 -->\n<g id=\"edge1\" class=\"edge\">\n<title>0&#45;&gt;1</title>\n<path fill=\"none\" stroke=\"#000000\" d=\"M499.4598,-608.9465C486.3736,-599.4293 472.0304,-588.9978 458.5075,-579.163\"/>\n<polygon fill=\"#000000\" stroke=\"#000000\" points=\"460.3581,-576.1812 450.2121,-573.13 456.2409,-581.8423 460.3581,-576.1812\"/>\n<text text-anchor=\"middle\" x=\"454.1112\" y=\"-594.1241\" font-family=\"Helvetica,sans-Serif\" font-size=\"14.00\" fill=\"#000000\">True</text>\n</g>\n<!-- 8 -->\n<g id=\"node9\" class=\"node\">\n<title>8</title>\n<path fill=\"#eb9e67\" stroke=\"#000000\" d=\"M747.2834,-573C747.2834,-573 647.2834,-573 647.2834,-573 641.2834,-573 635.2834,-567 635.2834,-561 635.2834,-561 635.2834,-517 635.2834,-517 635.2834,-511 641.2834,-505 647.2834,-505 647.2834,-505 747.2834,-505 747.2834,-505 753.2834,-505 759.2834,-511 759.2834,-517 759.2834,-517 759.2834,-561 759.2834,-561 759.2834,-567 753.2834,-573 747.2834,-573\"/>\n<text text-anchor=\"start\" x=\"647.7834\" y=\"-557.8\" font-family=\"Helvetica,sans-Serif\" font-size=\"14.00\" fill=\"#000000\">LogFare ≤ 3.31</text>\n<text text-anchor=\"start\" x=\"663.7834\" y=\"-542.8\" font-family=\"Helvetica,sans-Serif\" font-size=\"14.00\" fill=\"#000000\">gini = 0.31</text>\n<text text-anchor=\"start\" x=\"649.2834\" y=\"-527.8\" font-family=\"Helvetica,sans-Serif\" font-size=\"14.00\" fill=\"#000000\">samples = 439</text>\n<text text-anchor=\"start\" x=\"643.2834\" y=\"-512.8\" font-family=\"Helvetica,sans-Serif\" font-size=\"14.00\" fill=\"#000000\">value = [356, 83]</text>\n</g>\n<!-- 0&#45;&gt;8 -->\n<g id=\"edge8\" class=\"edge\">\n<title>0&#45;&gt;8</title>\n<path fill=\"none\" stroke=\"#000000\" d=\"M595.7264,-608.9465C609.6751,-599.3395 624.9762,-588.8009 639.3737,-578.8848\"/>\n<polygon fill=\"#000000\" stroke=\"#000000\" points=\"641.4789,-581.6848 647.7292,-573.13 637.5083,-575.9198 641.4789,-581.6848\"/>\n<text text-anchor=\"middle\" x=\"643.1977\" y=\"-594.0159\" font-family=\"Helvetica,sans-Serif\" font-size=\"14.00\" fill=\"#000000\">False</text>\n</g>\n<!-- 2 -->\n<g id=\"node3\" class=\"node\">\n<title>2</title>\n<path fill=\"#40a0e6\" stroke=\"#000000\" d=\"M239.2834,-469C239.2834,-469 147.2834,-469 147.2834,-469 141.2834,-469 135.2834,-463 135.2834,-457 135.2834,-457 135.2834,-413 135.2834,-413 135.2834,-407 141.2834,-401 147.2834,-401 147.2834,-401 239.2834,-401 239.2834,-401 245.2834,-401 251.2834,-407 251.2834,-413 251.2834,-413 251.2834,-457 251.2834,-457 251.2834,-463 245.2834,-469 239.2834,-469\"/>\n<text text-anchor=\"start\" x=\"155.7834\" y=\"-453.8\" font-family=\"Helvetica,sans-Serif\" font-size=\"14.00\" fill=\"#000000\">SibSp ≤ 0.5</text>\n<text text-anchor=\"start\" x=\"159.7834\" y=\"-438.8\" font-family=\"Helvetica,sans-Serif\" font-size=\"14.00\" fill=\"#000000\">gini = 0.06</text>\n<text text-anchor=\"start\" x=\"145.2834\" y=\"-423.8\" font-family=\"Helvetica,sans-Serif\" font-size=\"14.00\" fill=\"#000000\">samples = 120</text>\n<text text-anchor=\"start\" x=\"143.2834\" y=\"-408.8\" font-family=\"Helvetica,sans-Serif\" font-size=\"14.00\" fill=\"#000000\">value = [4, 116]</text>\n</g>\n<!-- 1&#45;&gt;2 -->\n<g id=\"edge2\" class=\"edge\">\n<title>1&#45;&gt;2</title>\n<path fill=\"none\" stroke=\"#000000\" d=\"M341.1288,-508.2187C315.7043,-495.6275 286.2345,-481.033 260.3271,-468.2026\"/>\n<polygon fill=\"#000000\" stroke=\"#000000\" points=\"261.839,-465.0457 251.3244,-463.7441 258.7323,-471.3186 261.839,-465.0457\"/>\n</g>\n<!-- 5 -->\n<g id=\"node6\" class=\"node\">\n<title>5</title>\n<path fill=\"#fffdfb\" stroke=\"#000000\" d=\"M449.2834,-469C449.2834,-469 357.2834,-469 357.2834,-469 351.2834,-469 345.2834,-463 345.2834,-457 345.2834,-457 345.2834,-413 345.2834,-413 345.2834,-407 351.2834,-401 357.2834,-401 357.2834,-401 449.2834,-401 449.2834,-401 455.2834,-401 461.2834,-407 461.2834,-413 461.2834,-413 461.2834,-457 461.2834,-457 461.2834,-463 455.2834,-469 449.2834,-469\"/>\n<text text-anchor=\"start\" x=\"357.7834\" y=\"-453.8\" font-family=\"Helvetica,sans-Serif\" font-size=\"14.00\" fill=\"#000000\">LogFare ≤ 2.7</text>\n<text text-anchor=\"start\" x=\"373.7834\" y=\"-438.8\" font-family=\"Helvetica,sans-Serif\" font-size=\"14.00\" fill=\"#000000\">gini = 0.5</text>\n<text text-anchor=\"start\" x=\"355.2834\" y=\"-423.8\" font-family=\"Helvetica,sans-Serif\" font-size=\"14.00\" fill=\"#000000\">samples = 109</text>\n<text text-anchor=\"start\" x=\"353.2834\" y=\"-408.8\" font-family=\"Helvetica,sans-Serif\" font-size=\"14.00\" fill=\"#000000\">value = [55, 54]</text>\n</g>\n<!-- 1&#45;&gt;5 -->\n<g id=\"edge5\" class=\"edge\">\n<title>1&#45;&gt;5</title>\n<path fill=\"none\" stroke=\"#000000\" d=\"M403.2834,-504.9465C403.2834,-496.776 403.2834,-487.9318 403.2834,-479.3697\"/>\n<polygon fill=\"#000000\" stroke=\"#000000\" points=\"406.7835,-479.13 403.2834,-469.13 399.7835,-479.13 406.7835,-479.13\"/>\n</g>\n<!-- 3 -->\n<g id=\"node4\" class=\"node\">\n<title>3</title>\n<path fill=\"#3c9ee5\" stroke=\"#000000\" d=\"M99.7834,-357.5C99.7834,-357.5 16.7834,-357.5 16.7834,-357.5 10.7834,-357.5 4.7834,-351.5 4.7834,-345.5 4.7834,-345.5 4.7834,-316.5 4.7834,-316.5 4.7834,-310.5 10.7834,-304.5 16.7834,-304.5 16.7834,-304.5 99.7834,-304.5 99.7834,-304.5 105.7834,-304.5 111.7834,-310.5 111.7834,-316.5 111.7834,-316.5 111.7834,-345.5 111.7834,-345.5 111.7834,-351.5 105.7834,-357.5 99.7834,-357.5\"/>\n<text text-anchor=\"start\" x=\"24.7834\" y=\"-342.3\" font-family=\"Helvetica,sans-Serif\" font-size=\"14.00\" fill=\"#000000\">gini = 0.03</text>\n<text text-anchor=\"start\" x=\"14.2834\" y=\"-327.3\" font-family=\"Helvetica,sans-Serif\" font-size=\"14.00\" fill=\"#000000\">samples = 67</text>\n<text text-anchor=\"start\" x=\"12.7834\" y=\"-312.3\" font-family=\"Helvetica,sans-Serif\" font-size=\"14.00\" fill=\"#000000\">value = [1, 66]</text>\n</g>\n<!-- 2&#45;&gt;3 -->\n<g id=\"edge3\" class=\"edge\">\n<title>2&#45;&gt;3</title>\n<path fill=\"none\" stroke=\"#000000\" d=\"M149.0793,-400.9465C133.6373,-389.0504 116.3412,-375.726 101.0208,-363.9237\"/>\n<polygon fill=\"#000000\" stroke=\"#000000\" points=\"102.795,-360.8723 92.7371,-357.5422 98.523,-366.4176 102.795,-360.8723\"/>\n</g>\n<!-- 4 -->\n<g id=\"node5\" class=\"node\">\n<title>4</title>\n<path fill=\"#45a3e7\" stroke=\"#000000\" d=\"M234.7834,-357.5C234.7834,-357.5 151.7834,-357.5 151.7834,-357.5 145.7834,-357.5 139.7834,-351.5 139.7834,-345.5 139.7834,-345.5 139.7834,-316.5 139.7834,-316.5 139.7834,-310.5 145.7834,-304.5 151.7834,-304.5 151.7834,-304.5 234.7834,-304.5 234.7834,-304.5 240.7834,-304.5 246.7834,-310.5 246.7834,-316.5 246.7834,-316.5 246.7834,-345.5 246.7834,-345.5 246.7834,-351.5 240.7834,-357.5 234.7834,-357.5\"/>\n<text text-anchor=\"start\" x=\"159.7834\" y=\"-342.3\" font-family=\"Helvetica,sans-Serif\" font-size=\"14.00\" fill=\"#000000\">gini = 0.11</text>\n<text text-anchor=\"start\" x=\"149.2834\" y=\"-327.3\" font-family=\"Helvetica,sans-Serif\" font-size=\"14.00\" fill=\"#000000\">samples = 53</text>\n<text text-anchor=\"start\" x=\"147.7834\" y=\"-312.3\" font-family=\"Helvetica,sans-Serif\" font-size=\"14.00\" fill=\"#000000\">value = [3, 50]</text>\n</g>\n<!-- 2&#45;&gt;4 -->\n<g id=\"edge4\" class=\"edge\">\n<title>2&#45;&gt;4</title>\n<path fill=\"none\" stroke=\"#000000\" d=\"M193.2834,-400.9465C193.2834,-390.2621 193.2834,-378.4254 193.2834,-367.5742\"/>\n<polygon fill=\"#000000\" stroke=\"#000000\" points=\"196.7835,-367.5421 193.2834,-357.5422 189.7835,-367.5422 196.7835,-367.5421\"/>\n</g>\n<!-- 6 -->\n<g id=\"node7\" class=\"node\">\n<title>6</title>\n<path fill=\"#cbe5f8\" stroke=\"#000000\" d=\"M379.2834,-357.5C379.2834,-357.5 287.2834,-357.5 287.2834,-357.5 281.2834,-357.5 275.2834,-351.5 275.2834,-345.5 275.2834,-345.5 275.2834,-316.5 275.2834,-316.5 275.2834,-310.5 281.2834,-304.5 287.2834,-304.5 287.2834,-304.5 379.2834,-304.5 379.2834,-304.5 385.2834,-304.5 391.2834,-310.5 391.2834,-316.5 391.2834,-316.5 391.2834,-345.5 391.2834,-345.5 391.2834,-351.5 385.2834,-357.5 379.2834,-357.5\"/>\n<text text-anchor=\"start\" x=\"299.7834\" y=\"-342.3\" font-family=\"Helvetica,sans-Serif\" font-size=\"14.00\" fill=\"#000000\">gini = 0.49</text>\n<text text-anchor=\"start\" x=\"289.2834\" y=\"-327.3\" font-family=\"Helvetica,sans-Serif\" font-size=\"14.00\" fill=\"#000000\">samples = 59</text>\n<text text-anchor=\"start\" x=\"283.2834\" y=\"-312.3\" font-family=\"Helvetica,sans-Serif\" font-size=\"14.00\" fill=\"#000000\">value = [25, 34]</text>\n</g>\n<!-- 5&#45;&gt;6 -->\n<g id=\"edge6\" class=\"edge\">\n<title>5&#45;&gt;6</title>\n<path fill=\"none\" stroke=\"#000000\" d=\"M380.3627,-400.9465C372.8006,-389.7113 364.3809,-377.2021 356.7767,-365.9043\"/>\n<polygon fill=\"#000000\" stroke=\"#000000\" points=\"359.6357,-363.8837 351.1483,-357.5422 353.8285,-367.7924 359.6357,-363.8837\"/>\n</g>\n<!-- 7 -->\n<g id=\"node8\" class=\"node\">\n<title>7</title>\n<path fill=\"#f6d5bd\" stroke=\"#000000\" d=\"M524.2834,-357.5C524.2834,-357.5 432.2834,-357.5 432.2834,-357.5 426.2834,-357.5 420.2834,-351.5 420.2834,-345.5 420.2834,-345.5 420.2834,-316.5 420.2834,-316.5 420.2834,-310.5 426.2834,-304.5 432.2834,-304.5 432.2834,-304.5 524.2834,-304.5 524.2834,-304.5 530.2834,-304.5 536.2834,-310.5 536.2834,-316.5 536.2834,-316.5 536.2834,-345.5 536.2834,-345.5 536.2834,-351.5 530.2834,-357.5 524.2834,-357.5\"/>\n<text text-anchor=\"start\" x=\"444.7834\" y=\"-342.3\" font-family=\"Helvetica,sans-Serif\" font-size=\"14.00\" fill=\"#000000\">gini = 0.48</text>\n<text text-anchor=\"start\" x=\"434.2834\" y=\"-327.3\" font-family=\"Helvetica,sans-Serif\" font-size=\"14.00\" fill=\"#000000\">samples = 50</text>\n<text text-anchor=\"start\" x=\"428.2834\" y=\"-312.3\" font-family=\"Helvetica,sans-Serif\" font-size=\"14.00\" fill=\"#000000\">value = [30, 20]</text>\n</g>\n<!-- 5&#45;&gt;7 -->\n<g id=\"edge7\" class=\"edge\">\n<title>5&#45;&gt;7</title>\n<path fill=\"none\" stroke=\"#000000\" d=\"M427.8412,-400.9465C435.9435,-389.7113 444.9645,-377.2021 453.112,-365.9043\"/>\n<polygon fill=\"#000000\" stroke=\"#000000\" points=\"456.132,-367.7003 459.1424,-357.5422 450.4543,-363.6058 456.132,-367.7003\"/>\n</g>\n<!-- 9 -->\n<g id=\"node10\" class=\"node\">\n<title>9</title>\n<path fill=\"#e99659\" stroke=\"#000000\" d=\"M747.2834,-469C747.2834,-469 647.2834,-469 647.2834,-469 641.2834,-469 635.2834,-463 635.2834,-457 635.2834,-457 635.2834,-413 635.2834,-413 635.2834,-407 641.2834,-401 647.2834,-401 647.2834,-401 747.2834,-401 747.2834,-401 753.2834,-401 759.2834,-407 759.2834,-413 759.2834,-413 759.2834,-457 759.2834,-457 759.2834,-463 753.2834,-469 747.2834,-469\"/>\n<text text-anchor=\"start\" x=\"662.2834\" y=\"-453.8\" font-family=\"Helvetica,sans-Serif\" font-size=\"14.00\" fill=\"#000000\">Age ≤ 20.5</text>\n<text text-anchor=\"start\" x=\"663.7834\" y=\"-438.8\" font-family=\"Helvetica,sans-Serif\" font-size=\"14.00\" fill=\"#000000\">gini = 0.24</text>\n<text text-anchor=\"start\" x=\"649.2834\" y=\"-423.8\" font-family=\"Helvetica,sans-Serif\" font-size=\"14.00\" fill=\"#000000\">samples = 320</text>\n<text text-anchor=\"start\" x=\"643.2834\" y=\"-408.8\" font-family=\"Helvetica,sans-Serif\" font-size=\"14.00\" fill=\"#000000\">value = [275, 45]</text>\n</g>\n<!-- 8&#45;&gt;9 -->\n<g id=\"edge9\" class=\"edge\">\n<title>8&#45;&gt;9</title>\n<path fill=\"none\" stroke=\"#000000\" d=\"M697.2834,-504.9465C697.2834,-496.776 697.2834,-487.9318 697.2834,-479.3697\"/>\n<polygon fill=\"#000000\" stroke=\"#000000\" points=\"700.7835,-479.13 697.2834,-469.13 693.7835,-479.13 700.7835,-479.13\"/>\n</g>\n<!-- 18 -->\n<g id=\"node19\" class=\"node\">\n<title>18</title>\n<path fill=\"#f1bc96\" stroke=\"#000000\" d=\"M967.2834,-469C967.2834,-469 875.2834,-469 875.2834,-469 869.2834,-469 863.2834,-463 863.2834,-457 863.2834,-457 863.2834,-413 863.2834,-413 863.2834,-407 869.2834,-401 875.2834,-401 875.2834,-401 967.2834,-401 967.2834,-401 973.2834,-401 979.2834,-407 979.2834,-413 979.2834,-413 979.2834,-457 979.2834,-457 979.2834,-463 973.2834,-469 967.2834,-469\"/>\n<text text-anchor=\"start\" x=\"883.7834\" y=\"-453.8\" font-family=\"Helvetica,sans-Serif\" font-size=\"14.00\" fill=\"#000000\">SibSp ≤ 0.5</text>\n<text text-anchor=\"start\" x=\"887.7834\" y=\"-438.8\" font-family=\"Helvetica,sans-Serif\" font-size=\"14.00\" fill=\"#000000\">gini = 0.43</text>\n<text text-anchor=\"start\" x=\"873.2834\" y=\"-423.8\" font-family=\"Helvetica,sans-Serif\" font-size=\"14.00\" fill=\"#000000\">samples = 119</text>\n<text text-anchor=\"start\" x=\"871.2834\" y=\"-408.8\" font-family=\"Helvetica,sans-Serif\" font-size=\"14.00\" fill=\"#000000\">value = [81, 38]</text>\n</g>\n<!-- 8&#45;&gt;18 -->\n<g id=\"edge18\" class=\"edge\">\n<title>8&#45;&gt;18</title>\n<path fill=\"none\" stroke=\"#000000\" d=\"M759.3824,-510.1683C788.7168,-496.5488 823.7918,-480.2639 853.7831,-466.3394\"/>\n<polygon fill=\"#000000\" stroke=\"#000000\" points=\"855.3193,-469.4851 862.9155,-462.0994 852.3715,-463.136 855.3193,-469.4851\"/>\n</g>\n<!-- 10 -->\n<g id=\"node11\" class=\"node\">\n<title>10</title>\n<path fill=\"#f1b992\" stroke=\"#000000\" d=\"M669.2834,-357.5C669.2834,-357.5 577.2834,-357.5 577.2834,-357.5 571.2834,-357.5 565.2834,-351.5 565.2834,-345.5 565.2834,-345.5 565.2834,-316.5 565.2834,-316.5 565.2834,-310.5 571.2834,-304.5 577.2834,-304.5 577.2834,-304.5 669.2834,-304.5 669.2834,-304.5 675.2834,-304.5 681.2834,-310.5 681.2834,-316.5 681.2834,-316.5 681.2834,-345.5 681.2834,-345.5 681.2834,-351.5 675.2834,-357.5 669.2834,-357.5\"/>\n<text text-anchor=\"start\" x=\"589.7834\" y=\"-342.3\" font-family=\"Helvetica,sans-Serif\" font-size=\"14.00\" fill=\"#000000\">gini = 0.43</text>\n<text text-anchor=\"start\" x=\"579.2834\" y=\"-327.3\" font-family=\"Helvetica,sans-Serif\" font-size=\"14.00\" fill=\"#000000\">samples = 55</text>\n<text text-anchor=\"start\" x=\"573.2834\" y=\"-312.3\" font-family=\"Helvetica,sans-Serif\" font-size=\"14.00\" fill=\"#000000\">value = [38, 17]</text>\n</g>\n<!-- 9&#45;&gt;10 -->\n<g id=\"edge10\" class=\"edge\">\n<title>9&#45;&gt;10</title>\n<path fill=\"none\" stroke=\"#000000\" d=\"M673.053,-400.9465C665.0587,-389.7113 656.1579,-377.2021 648.1191,-365.9043\"/>\n<polygon fill=\"#000000\" stroke=\"#000000\" points=\"650.8185,-363.6609 642.1691,-357.5422 645.115,-367.7192 650.8185,-363.6609\"/>\n</g>\n<!-- 11 -->\n<g id=\"node12\" class=\"node\">\n<title>11</title>\n<path fill=\"#e89050\" stroke=\"#000000\" d=\"M822.2834,-365C822.2834,-365 722.2834,-365 722.2834,-365 716.2834,-365 710.2834,-359 710.2834,-353 710.2834,-353 710.2834,-309 710.2834,-309 710.2834,-303 716.2834,-297 722.2834,-297 722.2834,-297 822.2834,-297 822.2834,-297 828.2834,-297 834.2834,-303 834.2834,-309 834.2834,-309 834.2834,-353 834.2834,-353 834.2834,-359 828.2834,-365 822.2834,-365\"/>\n<text text-anchor=\"start\" x=\"737.2834\" y=\"-349.8\" font-family=\"Helvetica,sans-Serif\" font-size=\"14.00\" fill=\"#000000\">Age ≤ 32.5</text>\n<text text-anchor=\"start\" x=\"738.7834\" y=\"-334.8\" font-family=\"Helvetica,sans-Serif\" font-size=\"14.00\" fill=\"#000000\">gini = 0.19</text>\n<text text-anchor=\"start\" x=\"724.2834\" y=\"-319.8\" font-family=\"Helvetica,sans-Serif\" font-size=\"14.00\" fill=\"#000000\">samples = 265</text>\n<text text-anchor=\"start\" x=\"718.2834\" y=\"-304.8\" font-family=\"Helvetica,sans-Serif\" font-size=\"14.00\" fill=\"#000000\">value = [237, 28]</text>\n</g>\n<!-- 9&#45;&gt;11 -->\n<g id=\"edge11\" class=\"edge\">\n<title>9&#45;&gt;11</title>\n<path fill=\"none\" stroke=\"#000000\" d=\"M721.8412,-400.9465C728.1866,-392.1475 735.0955,-382.5672 741.707,-373.3993\"/>\n<polygon fill=\"#000000\" stroke=\"#000000\" points=\"744.66,-375.2882 747.6704,-365.13 738.9823,-371.1937 744.66,-375.2882\"/>\n</g>\n<!-- 12 -->\n<g id=\"node13\" class=\"node\">\n<title>12</title>\n<path fill=\"#e99356\" stroke=\"#000000\" d=\"M750.2834,-261C750.2834,-261 650.2834,-261 650.2834,-261 644.2834,-261 638.2834,-255 638.2834,-249 638.2834,-249 638.2834,-205 638.2834,-205 638.2834,-199 644.2834,-193 650.2834,-193 650.2834,-193 750.2834,-193 750.2834,-193 756.2834,-193 762.2834,-199 762.2834,-205 762.2834,-205 762.2834,-249 762.2834,-249 762.2834,-255 756.2834,-261 750.2834,-261\"/>\n<text text-anchor=\"start\" x=\"660.7834\" y=\"-245.8\" font-family=\"Helvetica,sans-Serif\" font-size=\"14.00\" fill=\"#000000\">Age ≤ 24.75</text>\n<text text-anchor=\"start\" x=\"666.7834\" y=\"-230.8\" font-family=\"Helvetica,sans-Serif\" font-size=\"14.00\" fill=\"#000000\">gini = 0.22</text>\n<text text-anchor=\"start\" x=\"652.2834\" y=\"-215.8\" font-family=\"Helvetica,sans-Serif\" font-size=\"14.00\" fill=\"#000000\">samples = 181</text>\n<text text-anchor=\"start\" x=\"646.2834\" y=\"-200.8\" font-family=\"Helvetica,sans-Serif\" font-size=\"14.00\" fill=\"#000000\">value = [158, 23]</text>\n</g>\n<!-- 11&#45;&gt;12 -->\n<g id=\"edge12\" class=\"edge\">\n<title>11&#45;&gt;12</title>\n<path fill=\"none\" stroke=\"#000000\" d=\"M748.7079,-296.9465C742.6163,-288.1475 735.9837,-278.5672 729.6367,-269.3993\"/>\n<polygon fill=\"#000000\" stroke=\"#000000\" points=\"732.4816,-267.3597 723.9118,-261.13 726.7263,-271.3442 732.4816,-267.3597\"/>\n</g>\n<!-- 17 -->\n<g id=\"node18\" class=\"node\">\n<title>17</title>\n<path fill=\"#e78946\" stroke=\"#000000\" d=\"M885.7834,-253.5C885.7834,-253.5 802.7834,-253.5 802.7834,-253.5 796.7834,-253.5 790.7834,-247.5 790.7834,-241.5 790.7834,-241.5 790.7834,-212.5 790.7834,-212.5 790.7834,-206.5 796.7834,-200.5 802.7834,-200.5 802.7834,-200.5 885.7834,-200.5 885.7834,-200.5 891.7834,-200.5 897.7834,-206.5 897.7834,-212.5 897.7834,-212.5 897.7834,-241.5 897.7834,-241.5 897.7834,-247.5 891.7834,-253.5 885.7834,-253.5\"/>\n<text text-anchor=\"start\" x=\"810.7834\" y=\"-238.3\" font-family=\"Helvetica,sans-Serif\" font-size=\"14.00\" fill=\"#000000\">gini = 0.11</text>\n<text text-anchor=\"start\" x=\"800.2834\" y=\"-223.3\" font-family=\"Helvetica,sans-Serif\" font-size=\"14.00\" fill=\"#000000\">samples = 84</text>\n<text text-anchor=\"start\" x=\"798.7834\" y=\"-208.3\" font-family=\"Helvetica,sans-Serif\" font-size=\"14.00\" fill=\"#000000\">value = [79, 5]</text>\n</g>\n<!-- 11&#45;&gt;17 -->\n<g id=\"edge17\" class=\"edge\">\n<title>11&#45;&gt;17</title>\n<path fill=\"none\" stroke=\"#000000\" d=\"M795.8589,-296.9465C803.6371,-285.7113 812.2973,-273.2021 820.1188,-261.9043\"/>\n<polygon fill=\"#000000\" stroke=\"#000000\" points=\"823.0936,-263.7564 825.908,-253.5422 817.3382,-259.7719 823.0936,-263.7564\"/>\n</g>\n<!-- 13 -->\n<g id=\"node14\" class=\"node\">\n<title>13</title>\n<path fill=\"#e88d4c\" stroke=\"#000000\" d=\"M675.2834,-157C675.2834,-157 575.2834,-157 575.2834,-157 569.2834,-157 563.2834,-151 563.2834,-145 563.2834,-145 563.2834,-101 563.2834,-101 563.2834,-95 569.2834,-89 575.2834,-89 575.2834,-89 675.2834,-89 675.2834,-89 681.2834,-89 687.2834,-95 687.2834,-101 687.2834,-101 687.2834,-145 687.2834,-145 687.2834,-151 681.2834,-157 675.2834,-157\"/>\n<text text-anchor=\"start\" x=\"575.7834\" y=\"-141.8\" font-family=\"Helvetica,sans-Serif\" font-size=\"14.00\" fill=\"#000000\">LogFare ≤ 2.18</text>\n<text text-anchor=\"start\" x=\"591.7834\" y=\"-126.8\" font-family=\"Helvetica,sans-Serif\" font-size=\"14.00\" fill=\"#000000\">gini = 0.16</text>\n<text text-anchor=\"start\" x=\"577.2834\" y=\"-111.8\" font-family=\"Helvetica,sans-Serif\" font-size=\"14.00\" fill=\"#000000\">samples = 114</text>\n<text text-anchor=\"start\" x=\"571.2834\" y=\"-96.8\" font-family=\"Helvetica,sans-Serif\" font-size=\"14.00\" fill=\"#000000\">value = [104, 10]</text>\n</g>\n<!-- 12&#45;&gt;13 -->\n<g id=\"edge13\" class=\"edge\">\n<title>12&#45;&gt;13</title>\n<path fill=\"none\" stroke=\"#000000\" d=\"M675.7256,-192.9465C669.3802,-184.1475 662.4712,-174.5672 655.8598,-165.3993\"/>\n<polygon fill=\"#000000\" stroke=\"#000000\" points=\"658.5844,-163.1937 649.8963,-157.13 652.9068,-167.2882 658.5844,-163.1937\"/>\n</g>\n<!-- 16 -->\n<g id=\"node17\" class=\"node\">\n<title>16</title>\n<path fill=\"#eb9f69\" stroke=\"#000000\" d=\"M820.2834,-149.5C820.2834,-149.5 728.2834,-149.5 728.2834,-149.5 722.2834,-149.5 716.2834,-143.5 716.2834,-137.5 716.2834,-137.5 716.2834,-108.5 716.2834,-108.5 716.2834,-102.5 722.2834,-96.5 728.2834,-96.5 728.2834,-96.5 820.2834,-96.5 820.2834,-96.5 826.2834,-96.5 832.2834,-102.5 832.2834,-108.5 832.2834,-108.5 832.2834,-137.5 832.2834,-137.5 832.2834,-143.5 826.2834,-149.5 820.2834,-149.5\"/>\n<text text-anchor=\"start\" x=\"740.7834\" y=\"-134.3\" font-family=\"Helvetica,sans-Serif\" font-size=\"14.00\" fill=\"#000000\">gini = 0.31</text>\n<text text-anchor=\"start\" x=\"730.2834\" y=\"-119.3\" font-family=\"Helvetica,sans-Serif\" font-size=\"14.00\" fill=\"#000000\">samples = 67</text>\n<text text-anchor=\"start\" x=\"724.2834\" y=\"-104.3\" font-family=\"Helvetica,sans-Serif\" font-size=\"14.00\" fill=\"#000000\">value = [54, 13]</text>\n</g>\n<!-- 12&#45;&gt;16 -->\n<g id=\"edge16\" class=\"edge\">\n<title>12&#45;&gt;16</title>\n<path fill=\"none\" stroke=\"#000000\" d=\"M724.5137,-192.9465C732.508,-181.7113 741.4088,-169.2021 749.4476,-157.9043\"/>\n<polygon fill=\"#000000\" stroke=\"#000000\" points=\"752.4518,-159.7192 755.3976,-149.5422 746.7482,-155.6609 752.4518,-159.7192\"/>\n</g>\n<!-- 14 -->\n<g id=\"node15\" class=\"node\">\n<title>14</title>\n<path fill=\"#e99254\" stroke=\"#000000\" d=\"M599.7834,-52.5C599.7834,-52.5 516.7834,-52.5 516.7834,-52.5 510.7834,-52.5 504.7834,-46.5 504.7834,-40.5 504.7834,-40.5 504.7834,-11.5 504.7834,-11.5 504.7834,-5.5 510.7834,.5 516.7834,.5 516.7834,.5 599.7834,.5 599.7834,.5 605.7834,.5 611.7834,-5.5 611.7834,-11.5 611.7834,-11.5 611.7834,-40.5 611.7834,-40.5 611.7834,-46.5 605.7834,-52.5 599.7834,-52.5\"/>\n<text text-anchor=\"start\" x=\"524.7834\" y=\"-37.3\" font-family=\"Helvetica,sans-Serif\" font-size=\"14.00\" fill=\"#000000\">gini = 0.21</text>\n<text text-anchor=\"start\" x=\"514.2834\" y=\"-22.3\" font-family=\"Helvetica,sans-Serif\" font-size=\"14.00\" fill=\"#000000\">samples = 50</text>\n<text text-anchor=\"start\" x=\"512.7834\" y=\"-7.3\" font-family=\"Helvetica,sans-Serif\" font-size=\"14.00\" fill=\"#000000\">value = [44, 6]</text>\n</g>\n<!-- 13&#45;&gt;14 -->\n<g id=\"edge14\" class=\"edge\">\n<title>13&#45;&gt;14</title>\n<path fill=\"none\" stroke=\"#000000\" d=\"M601.6617,-88.8014C595.4376,-79.7905 588.7139,-70.0562 582.461,-61.0035\"/>\n<polygon fill=\"#000000\" stroke=\"#000000\" points=\"585.2051,-58.8177 576.6419,-52.5788 579.4454,-62.796 585.2051,-58.8177\"/>\n</g>\n<!-- 15 -->\n<g id=\"node16\" class=\"node\">\n<title>15</title>\n<path fill=\"#e78946\" stroke=\"#000000\" d=\"M734.7834,-52.5C734.7834,-52.5 651.7834,-52.5 651.7834,-52.5 645.7834,-52.5 639.7834,-46.5 639.7834,-40.5 639.7834,-40.5 639.7834,-11.5 639.7834,-11.5 639.7834,-5.5 645.7834,.5 651.7834,.5 651.7834,.5 734.7834,.5 734.7834,.5 740.7834,.5 746.7834,-5.5 746.7834,-11.5 746.7834,-11.5 746.7834,-40.5 746.7834,-40.5 746.7834,-46.5 740.7834,-52.5 734.7834,-52.5\"/>\n<text text-anchor=\"start\" x=\"659.7834\" y=\"-37.3\" font-family=\"Helvetica,sans-Serif\" font-size=\"14.00\" fill=\"#000000\">gini = 0.12</text>\n<text text-anchor=\"start\" x=\"649.2834\" y=\"-22.3\" font-family=\"Helvetica,sans-Serif\" font-size=\"14.00\" fill=\"#000000\">samples = 64</text>\n<text text-anchor=\"start\" x=\"647.7834\" y=\"-7.3\" font-family=\"Helvetica,sans-Serif\" font-size=\"14.00\" fill=\"#000000\">value = [60, 4]</text>\n</g>\n<!-- 13&#45;&gt;15 -->\n<g id=\"edge15\" class=\"edge\">\n<title>13&#45;&gt;15</title>\n<path fill=\"none\" stroke=\"#000000\" d=\"M649.2576,-88.8014C655.5746,-79.7905 662.3986,-70.0562 668.7448,-61.0035\"/>\n<polygon fill=\"#000000\" stroke=\"#000000\" points=\"671.7764,-62.7763 674.6508,-52.5788 666.0445,-58.7581 671.7764,-62.7763\"/>\n</g>\n<!-- 19 -->\n<g id=\"node20\" class=\"node\">\n<title>19</title>\n<path fill=\"#f6d5bd\" stroke=\"#000000\" d=\"M967.2834,-357.5C967.2834,-357.5 875.2834,-357.5 875.2834,-357.5 869.2834,-357.5 863.2834,-351.5 863.2834,-345.5 863.2834,-345.5 863.2834,-316.5 863.2834,-316.5 863.2834,-310.5 869.2834,-304.5 875.2834,-304.5 875.2834,-304.5 967.2834,-304.5 967.2834,-304.5 973.2834,-304.5 979.2834,-310.5 979.2834,-316.5 979.2834,-316.5 979.2834,-345.5 979.2834,-345.5 979.2834,-351.5 973.2834,-357.5 967.2834,-357.5\"/>\n<text text-anchor=\"start\" x=\"887.7834\" y=\"-342.3\" font-family=\"Helvetica,sans-Serif\" font-size=\"14.00\" fill=\"#000000\">gini = 0.48</text>\n<text text-anchor=\"start\" x=\"877.2834\" y=\"-327.3\" font-family=\"Helvetica,sans-Serif\" font-size=\"14.00\" fill=\"#000000\">samples = 60</text>\n<text text-anchor=\"start\" x=\"871.2834\" y=\"-312.3\" font-family=\"Helvetica,sans-Serif\" font-size=\"14.00\" fill=\"#000000\">value = [36, 24]</text>\n</g>\n<!-- 18&#45;&gt;19 -->\n<g id=\"edge19\" class=\"edge\">\n<title>18&#45;&gt;19</title>\n<path fill=\"none\" stroke=\"#000000\" d=\"M921.2834,-400.9465C921.2834,-390.2621 921.2834,-378.4254 921.2834,-367.5742\"/>\n<polygon fill=\"#000000\" stroke=\"#000000\" points=\"924.7835,-367.5421 921.2834,-357.5422 917.7835,-367.5422 924.7835,-367.5421\"/>\n</g>\n<!-- 20 -->\n<g id=\"node21\" class=\"node\">\n<title>20</title>\n<path fill=\"#eda877\" stroke=\"#000000\" d=\"M1112.2834,-357.5C1112.2834,-357.5 1020.2834,-357.5 1020.2834,-357.5 1014.2834,-357.5 1008.2834,-351.5 1008.2834,-345.5 1008.2834,-345.5 1008.2834,-316.5 1008.2834,-316.5 1008.2834,-310.5 1014.2834,-304.5 1020.2834,-304.5 1020.2834,-304.5 1112.2834,-304.5 1112.2834,-304.5 1118.2834,-304.5 1124.2834,-310.5 1124.2834,-316.5 1124.2834,-316.5 1124.2834,-345.5 1124.2834,-345.5 1124.2834,-351.5 1118.2834,-357.5 1112.2834,-357.5\"/>\n<text text-anchor=\"start\" x=\"1032.7834\" y=\"-342.3\" font-family=\"Helvetica,sans-Serif\" font-size=\"14.00\" fill=\"#000000\">gini = 0.36</text>\n<text text-anchor=\"start\" x=\"1022.2834\" y=\"-327.3\" font-family=\"Helvetica,sans-Serif\" font-size=\"14.00\" fill=\"#000000\">samples = 59</text>\n<text text-anchor=\"start\" x=\"1016.2834\" y=\"-312.3\" font-family=\"Helvetica,sans-Serif\" font-size=\"14.00\" fill=\"#000000\">value = [45, 14]</text>\n</g>\n<!-- 18&#45;&gt;20 -->\n<g id=\"edge20\" class=\"edge\">\n<title>18&#45;&gt;20</title>\n<path fill=\"none\" stroke=\"#000000\" d=\"M968.7618,-400.9465C985.5013,-388.9403 1004.2692,-375.4791 1020.8367,-363.5962\"/>\n<polygon fill=\"#000000\" stroke=\"#000000\" points=\"1023.1914,-366.2146 1029.2775,-357.5422 1019.1116,-360.5264 1023.1914,-366.2146\"/>\n</g>\n</g>\n</svg>\n"
          },
          "metadata": {},
          "execution_count": 39
        }
      ],
      "source": [
        "m = DecisionTreeClassifier(min_samples_leaf=50)\n",
        "m.fit(trn_xs, trn_y)\n",
        "draw_tree(m, trn_xs, size=12)"
      ]
    },
    {
      "cell_type": "code",
      "execution_count": 40,
      "id": "5d82961e",
      "metadata": {
        "execution": {
          "iopub.execute_input": "2022-05-23T23:52:20.034875Z",
          "iopub.status.busy": "2022-05-23T23:52:20.034551Z",
          "iopub.status.idle": "2022-05-23T23:52:20.044976Z",
          "shell.execute_reply": "2022-05-23T23:52:20.044315Z"
        },
        "papermill": {
          "duration": 0.10291,
          "end_time": "2022-05-23T23:52:20.046905",
          "exception": false,
          "start_time": "2022-05-23T23:52:19.943995",
          "status": "completed"
        },
        "tags": [],
        "colab": {
          "base_uri": "https://localhost:8080/"
        },
        "id": "5d82961e",
        "outputId": "9834d63e-9067-4295-b2b6-30af548ab79f"
      },
      "outputs": [
        {
          "output_type": "execute_result",
          "data": {
            "text/plain": [
              "0.18385650224215247"
            ]
          },
          "metadata": {},
          "execution_count": 40
        }
      ],
      "source": [
        "mean_absolute_error(val_y, m.predict(val_xs))"
      ]
    },
    {
      "cell_type": "markdown",
      "id": "ccfb9c35",
      "metadata": {
        "papermill": {
          "duration": 0.085949,
          "end_time": "2022-05-23T23:52:20.220973",
          "exception": false,
          "start_time": "2022-05-23T23:52:20.135024",
          "status": "completed"
        },
        "tags": [],
        "id": "ccfb9c35"
      },
      "source": [
        "It looks like this is an improvement, although again it's a bit hard to tell with small datasets like this. Let's try submitting it to Kaggle:"
      ]
    },
    {
      "cell_type": "code",
      "execution_count": 41,
      "id": "061feaf1",
      "metadata": {
        "execution": {
          "iopub.execute_input": "2022-05-23T23:52:20.396929Z",
          "iopub.status.busy": "2022-05-23T23:52:20.396607Z",
          "iopub.status.idle": "2022-05-23T23:52:20.418077Z",
          "shell.execute_reply": "2022-05-23T23:52:20.417266Z"
        },
        "papermill": {
          "duration": 0.112139,
          "end_time": "2022-05-23T23:52:20.420499",
          "exception": false,
          "start_time": "2022-05-23T23:52:20.308360",
          "status": "completed"
        },
        "tags": [],
        "id": "061feaf1"
      },
      "outputs": [],
      "source": [
        "tst_df[cats] = tst_df[cats].apply(lambda x: x.cat.codes)\n",
        "tst_xs,_ = xs_y(tst_df)\n",
        "\n",
        "def subm(preds, suff):\n",
        "    tst_df['Survived'] = preds\n",
        "    sub_df = tst_df[['PassengerId','Survived']]\n",
        "    sub_df.to_csv(f'sub-{suff}.csv', index=False)\n",
        "\n",
        "subm(m.predict(tst_xs), 'tree')"
      ]
    },
    {
      "cell_type": "markdown",
      "id": "d66f526e",
      "metadata": {
        "papermill": {
          "duration": 0.085412,
          "end_time": "2022-05-23T23:52:20.593822",
          "exception": false,
          "start_time": "2022-05-23T23:52:20.508410",
          "status": "completed"
        },
        "tags": [],
        "id": "d66f526e"
      },
      "source": [
        "When I submitted this, I got a score of 0.765, which isn't as good as our linear models or most of our neural nets, but it's pretty close to those results.\n",
        "\n",
        "Hopefully you can now see why we didn't really need to create dummy variables, but instead just converted the labels into numbers using some (potentially arbitary) ordering of categories. For instance, here's how the first few items of `Embarked` are labeled:"
      ]
    },
    {
      "cell_type": "code",
      "execution_count": 42,
      "id": "44582a9f",
      "metadata": {
        "execution": {
          "iopub.execute_input": "2022-05-23T23:52:20.770788Z",
          "iopub.status.busy": "2022-05-23T23:52:20.770281Z",
          "iopub.status.idle": "2022-05-23T23:52:20.778767Z",
          "shell.execute_reply": "2022-05-23T23:52:20.777390Z"
        },
        "papermill": {
          "duration": 0.102015,
          "end_time": "2022-05-23T23:52:20.781428",
          "exception": false,
          "start_time": "2022-05-23T23:52:20.679413",
          "status": "completed"
        },
        "tags": [],
        "colab": {
          "base_uri": "https://localhost:8080/"
        },
        "id": "44582a9f",
        "outputId": "befa97b4-e4a5-4b75-df43-578f08307d3c"
      },
      "outputs": [
        {
          "output_type": "execute_result",
          "data": {
            "text/plain": [
              "0    S\n",
              "1    C\n",
              "2    S\n",
              "3    S\n",
              "4    S\n",
              "Name: Embarked, dtype: category\n",
              "Categories (3, object): ['C', 'Q', 'S']"
            ]
          },
          "metadata": {},
          "execution_count": 42
        }
      ],
      "source": [
        "df.Embarked.head()"
      ]
    },
    {
      "cell_type": "markdown",
      "id": "dac18715",
      "metadata": {
        "papermill": {
          "duration": 0.087676,
          "end_time": "2022-05-23T23:52:20.957609",
          "exception": false,
          "start_time": "2022-05-23T23:52:20.869933",
          "status": "completed"
        },
        "tags": [],
        "id": "dac18715"
      },
      "source": [
        "...resulting in these integer codes:"
      ]
    },
    {
      "cell_type": "code",
      "execution_count": 43,
      "id": "70dcfd2b",
      "metadata": {
        "execution": {
          "iopub.execute_input": "2022-05-23T23:52:21.134608Z",
          "iopub.status.busy": "2022-05-23T23:52:21.133972Z",
          "iopub.status.idle": "2022-05-23T23:52:21.141145Z",
          "shell.execute_reply": "2022-05-23T23:52:21.140254Z"
        },
        "papermill": {
          "duration": 0.09824,
          "end_time": "2022-05-23T23:52:21.143476",
          "exception": false,
          "start_time": "2022-05-23T23:52:21.045236",
          "status": "completed"
        },
        "tags": [],
        "colab": {
          "base_uri": "https://localhost:8080/"
        },
        "id": "70dcfd2b",
        "outputId": "d34c4364-d04f-4944-9217-b6444b492428"
      },
      "outputs": [
        {
          "output_type": "execute_result",
          "data": {
            "text/plain": [
              "0    2\n",
              "1    0\n",
              "2    2\n",
              "3    2\n",
              "4    2\n",
              "dtype: int8"
            ]
          },
          "metadata": {},
          "execution_count": 43
        }
      ],
      "source": [
        "df.Embarked.cat.codes.head()"
      ]
    },
    {
      "cell_type": "markdown",
      "id": "3daae03b",
      "metadata": {
        "papermill": {
          "duration": 0.08905,
          "end_time": "2022-05-23T23:52:21.320942",
          "exception": false,
          "start_time": "2022-05-23T23:52:21.231892",
          "status": "completed"
        },
        "tags": [],
        "id": "3daae03b"
      },
      "source": [
        "So let's say we wanted to split into \"C\" in one group, vs \"Q\" or \"S\" in the other group. Then we just have to split on codes `<=0` (since `C` is mapped to category `0`). Note that if we wanted to split into \"Q\" in one group, we'd need to use two binary splits, first to separate \"C\" from \"Q\" and \"S\", and then a second split to separate \"Q\" from \"S\". For this reason, sometimes it can still be helpful to use dummy variables for categorical variables with few levels (like this one).\n",
        "\n",
        "In practice, I often use dummy variables for <4 levels, and numeric codes for >=4 levels."
      ]
    },
    {
      "cell_type": "markdown",
      "id": "2b45887e",
      "metadata": {
        "papermill": {
          "duration": 0.086779,
          "end_time": "2022-05-23T23:52:21.494320",
          "exception": false,
          "start_time": "2022-05-23T23:52:21.407541",
          "status": "completed"
        },
        "tags": [],
        "id": "2b45887e"
      },
      "source": [
        "## The random forest"
      ]
    },
    {
      "cell_type": "markdown",
      "id": "1976d0fb",
      "metadata": {
        "papermill": {
          "duration": 0.086362,
          "end_time": "2022-05-23T23:52:21.667495",
          "exception": false,
          "start_time": "2022-05-23T23:52:21.581133",
          "status": "completed"
        },
        "tags": [],
        "id": "1976d0fb"
      },
      "source": [
        "We can't make the decision tree much bigger than the example above, since some leaf nodes already have only 50 rows in them. That's not a lot of data to make a prediction.\n",
        "\n",
        "So how could we use bigger trees? One big insight came from Leo Breiman: what if we create lots of bigger trees, and take the average of their predictions? Taking the average prediction of a bunch of models in this way is known as [bagging](https://link.springer.com/article/10.1007/BF00058655).\n",
        "\n",
        "The idea is that we want each model's predictions in the averaged ensemble to be uncorrelated with each other model. That way, if we average the predictions, the average will be equal to the true target value -- that's because the average of lots of uncorrelated random errors is zero. That's quite an amazing insight!\n",
        "\n",
        "One way we can create a bunch of uncorrelated models is to train each of them on a different random subset of the data. Here's how we can create a tree on a random subset of the data:"
      ]
    },
    {
      "cell_type": "code",
      "execution_count": 44,
      "id": "08aa92ef",
      "metadata": {
        "execution": {
          "iopub.execute_input": "2022-05-23T23:52:21.850413Z",
          "iopub.status.busy": "2022-05-23T23:52:21.849900Z",
          "iopub.status.idle": "2022-05-23T23:52:21.854882Z",
          "shell.execute_reply": "2022-05-23T23:52:21.854244Z"
        },
        "papermill": {
          "duration": 0.096075,
          "end_time": "2022-05-23T23:52:21.856770",
          "exception": false,
          "start_time": "2022-05-23T23:52:21.760695",
          "status": "completed"
        },
        "tags": [],
        "id": "08aa92ef"
      },
      "outputs": [],
      "source": [
        "def get_tree(prop=0.75):\n",
        "    n = len(trn_y)\n",
        "    idxs = random.choice(n, int(n*prop))\n",
        "    return DecisionTreeClassifier(min_samples_leaf=5).fit(trn_xs.iloc[idxs], trn_y.iloc[idxs])"
      ]
    },
    {
      "cell_type": "markdown",
      "id": "2325174f",
      "metadata": {
        "papermill": {
          "duration": 0.087327,
          "end_time": "2022-05-23T23:52:22.032957",
          "exception": false,
          "start_time": "2022-05-23T23:52:21.945630",
          "status": "completed"
        },
        "tags": [],
        "id": "2325174f"
      },
      "source": [
        "Now we can create as many trees as we want:"
      ]
    },
    {
      "cell_type": "code",
      "execution_count": 45,
      "id": "0fcc811f",
      "metadata": {
        "execution": {
          "iopub.execute_input": "2022-05-23T23:52:22.211835Z",
          "iopub.status.busy": "2022-05-23T23:52:22.211276Z",
          "iopub.status.idle": "2022-05-23T23:52:22.483121Z",
          "shell.execute_reply": "2022-05-23T23:52:22.482418Z"
        },
        "papermill": {
          "duration": 0.364166,
          "end_time": "2022-05-23T23:52:22.485456",
          "exception": false,
          "start_time": "2022-05-23T23:52:22.121290",
          "status": "completed"
        },
        "tags": [],
        "id": "0fcc811f"
      },
      "outputs": [],
      "source": [
        "trees = [get_tree() for t in range(100)]"
      ]
    },
    {
      "cell_type": "markdown",
      "id": "4171fcfb",
      "metadata": {
        "papermill": {
          "duration": 0.086759,
          "end_time": "2022-05-23T23:52:22.659496",
          "exception": false,
          "start_time": "2022-05-23T23:52:22.572737",
          "status": "completed"
        },
        "tags": [],
        "id": "4171fcfb"
      },
      "source": [
        "Our prediction will be the average of these trees' predictions:"
      ]
    },
    {
      "cell_type": "code",
      "execution_count": 46,
      "id": "69a26910",
      "metadata": {
        "execution": {
          "iopub.execute_input": "2022-05-23T23:52:22.835922Z",
          "iopub.status.busy": "2022-05-23T23:52:22.835355Z",
          "iopub.status.idle": "2022-05-23T23:52:22.976514Z",
          "shell.execute_reply": "2022-05-23T23:52:22.975799Z"
        },
        "papermill": {
          "duration": 0.231614,
          "end_time": "2022-05-23T23:52:22.978449",
          "exception": false,
          "start_time": "2022-05-23T23:52:22.746835",
          "status": "completed"
        },
        "tags": [],
        "colab": {
          "base_uri": "https://localhost:8080/"
        },
        "id": "69a26910",
        "outputId": "c8624b26-c061-48c7-fe1e-50752bb0b115"
      },
      "outputs": [
        {
          "output_type": "execute_result",
          "data": {
            "text/plain": [
              "0.2272645739910314"
            ]
          },
          "metadata": {},
          "execution_count": 46
        }
      ],
      "source": [
        "all_probs = [t.predict(val_xs) for t in trees]\n",
        "avg_probs = np.stack(all_probs).mean(0)\n",
        "\n",
        "mean_absolute_error(val_y, avg_probs)"
      ]
    },
    {
      "cell_type": "markdown",
      "id": "2ab6c8b4",
      "metadata": {
        "papermill": {
          "duration": 0.086497,
          "end_time": "2022-05-23T23:52:23.151915",
          "exception": false,
          "start_time": "2022-05-23T23:52:23.065418",
          "status": "completed"
        },
        "tags": [],
        "id": "2ab6c8b4"
      },
      "source": [
        "This is nearly identical to what `sklearn`'s `RandomForestClassifier` does. The main extra piece in a \"real\" random forest is that as well as choosing a random sample of data for each tree, it also picks a random subset of columns for each split. Here's how we repeat the above process with a random forest:"
      ]
    },
    {
      "cell_type": "code",
      "execution_count": 47,
      "id": "3ec0ada5",
      "metadata": {
        "execution": {
          "iopub.execute_input": "2022-05-23T23:52:23.328862Z",
          "iopub.status.busy": "2022-05-23T23:52:23.328403Z",
          "iopub.status.idle": "2022-05-23T23:52:23.622038Z",
          "shell.execute_reply": "2022-05-23T23:52:23.620968Z"
        },
        "papermill": {
          "duration": 0.385511,
          "end_time": "2022-05-23T23:52:23.624308",
          "exception": false,
          "start_time": "2022-05-23T23:52:23.238797",
          "status": "completed"
        },
        "tags": [],
        "colab": {
          "base_uri": "https://localhost:8080/"
        },
        "id": "3ec0ada5",
        "outputId": "f08f31e2-4005-4348-db93-eb36cb120bea"
      },
      "outputs": [
        {
          "output_type": "execute_result",
          "data": {
            "text/plain": [
              "0.18834080717488788"
            ]
          },
          "metadata": {},
          "execution_count": 47
        }
      ],
      "source": [
        "from sklearn.ensemble import RandomForestClassifier\n",
        "\n",
        "rf = RandomForestClassifier(100, min_samples_leaf=5)\n",
        "rf.fit(trn_xs, trn_y);\n",
        "mean_absolute_error(val_y, rf.predict(val_xs))"
      ]
    },
    {
      "cell_type": "markdown",
      "id": "2495c6d7",
      "metadata": {
        "papermill": {
          "duration": 0.086944,
          "end_time": "2022-05-23T23:52:23.799357",
          "exception": false,
          "start_time": "2022-05-23T23:52:23.712413",
          "status": "completed"
        },
        "tags": [],
        "id": "2495c6d7"
      },
      "source": [
        "We can submit that to Kaggle too:"
      ]
    },
    {
      "cell_type": "code",
      "execution_count": 48,
      "id": "83c6187f",
      "metadata": {
        "execution": {
          "iopub.execute_input": "2022-05-23T23:52:23.979091Z",
          "iopub.status.busy": "2022-05-23T23:52:23.978811Z",
          "iopub.status.idle": "2022-05-23T23:52:24.005874Z",
          "shell.execute_reply": "2022-05-23T23:52:24.005221Z"
        },
        "papermill": {
          "duration": 0.120066,
          "end_time": "2022-05-23T23:52:24.008236",
          "exception": false,
          "start_time": "2022-05-23T23:52:23.888170",
          "status": "completed"
        },
        "tags": [],
        "id": "83c6187f"
      },
      "outputs": [],
      "source": [
        "subm(rf.predict(tst_xs), 'rf')"
      ]
    },
    {
      "cell_type": "markdown",
      "id": "1afe6ee9",
      "metadata": {
        "papermill": {
          "duration": 0.086793,
          "end_time": "2022-05-23T23:52:24.182155",
          "exception": false,
          "start_time": "2022-05-23T23:52:24.095362",
          "status": "completed"
        },
        "tags": [],
        "id": "1afe6ee9"
      },
      "source": [
        "I found that gave nearly an identical result as our single tree (which, in turn, was slightly lower than our linear and neural net models in the previous notebook)."
      ]
    },
    {
      "cell_type": "markdown",
      "id": "86e64d72",
      "metadata": {
        "papermill": {
          "duration": 0.087065,
          "end_time": "2022-05-23T23:52:24.357493",
          "exception": false,
          "start_time": "2022-05-23T23:52:24.270428",
          "status": "completed"
        },
        "tags": [],
        "id": "86e64d72"
      },
      "source": [
        "One particularly nice feature of random forests is they can tell us which independent variables were the most important in the model, using `feature_importances_`:"
      ]
    },
    {
      "cell_type": "code",
      "execution_count": 49,
      "id": "3af99972",
      "metadata": {
        "execution": {
          "iopub.execute_input": "2022-05-23T23:52:24.533906Z",
          "iopub.status.busy": "2022-05-23T23:52:24.533390Z",
          "iopub.status.idle": "2022-05-23T23:52:24.766416Z",
          "shell.execute_reply": "2022-05-23T23:52:24.765411Z"
        },
        "papermill": {
          "duration": 0.324146,
          "end_time": "2022-05-23T23:52:24.768794",
          "exception": false,
          "start_time": "2022-05-23T23:52:24.444648",
          "status": "completed"
        },
        "tags": [],
        "colab": {
          "base_uri": "https://localhost:8080/",
          "height": 0
        },
        "id": "3af99972",
        "outputId": "aba80380-2235-4549-d2fe-8b8240539b40"
      },
      "outputs": [
        {
          "output_type": "display_data",
          "data": {
            "text/plain": [
              "<Figure size 432x288 with 1 Axes>"
            ],
            "image/png": "[encoded data removed]"
          },
          "metadata": {
            "needs_background": "light"
          }
        }
      ],
      "source": [
        "pd.DataFrame(dict(cols=trn_xs.columns, imp=m.feature_importances_)).plot('cols', 'imp', 'barh');"
      ]
    },
    {
      "cell_type": "markdown",
      "id": "288344e4",
      "metadata": {
        "papermill": {
          "duration": 0.088243,
          "end_time": "2022-05-23T23:52:24.947669",
          "exception": false,
          "start_time": "2022-05-23T23:52:24.859426",
          "status": "completed"
        },
        "tags": [],
        "id": "288344e4"
      },
      "source": [
        "We can see that `Sex` is by far the most important predictor, with `Pclass` a distant second, and `LogFare` and `Age` behind that. In datasets with many columns, I generally recommend creating a feature importance plot as soon as possible, in order to find which columns are worth studying more closely. (Note also that we didn't really need to take the `log()` of `Fare`, since random forests only care about order, and `log()` doesn't change the order -- we only did it to make our graphs earlier easier to read.)\n",
        "\n",
        "For details about deriving and understanding feature importances, and the many other important diagnostic tools provided by random forests, take a look at [chapter 8](https://github.com/fastai/fastbook/blob/master/08_collab.ipynb) of [our book](https://www.amazon.com/Deep-Learning-Coders-fastai-PyTorch/dp/1492045527)."
      ]
    },
    {
      "cell_type": "markdown",
      "id": "2721efdd",
      "metadata": {
        "papermill": {
          "duration": 0.089775,
          "end_time": "2022-05-23T23:52:25.126465",
          "exception": false,
          "start_time": "2022-05-23T23:52:25.036690",
          "status": "completed"
        },
        "tags": [],
        "id": "2721efdd"
      },
      "source": [
        "## Conclusion"
      ]
    },
    {
      "cell_type": "markdown",
      "id": "3c6d7087",
      "metadata": {
        "papermill": {
          "duration": 0.090308,
          "end_time": "2022-05-23T23:52:25.305738",
          "exception": false,
          "start_time": "2022-05-23T23:52:25.215430",
          "status": "completed"
        },
        "tags": [],
        "id": "3c6d7087"
      },
      "source": [
        "So what can we take away from all this?\n",
        "\n",
        "I think the first thing I'd note from this is that, clearly, more complex models aren't always better. Our \"OneR\" model, consisting of a single binary split, was nearly as good as our more complex models. Perhaps in practice a simple model like this might be much easier to use, and could be worth considering. Our random forest wasn't an improvement on the single decision tree at all.\n",
        "\n",
        "So we should always be careful to benchmark simple models, as see if they're good enough for our needs. In practice, you will often find that simple models will have trouble providing adequate accuracy for more complex tasks, such as recommendation systems, NLP, computer vision, or multivariate time series. But there's no need to guess -- it's so easy to try a few different models, there's no reason not to give the simpler ones a go too!\n",
        "\n",
        "Another thing I think we can take away is that random forests aren't actually that complicated at all. We were able to implement the key features of them in a notebook quite quickly. And they aren't sensitive to issues like normalization, interactions, or non-linear transformations, which make them extremely easy to work with, and hard to mess up!"
      ]
    },
    {
      "cell_type": "markdown",
      "id": "7b4df4a4",
      "metadata": {
        "papermill": {
          "duration": 0.087358,
          "end_time": "2022-05-23T23:52:25.482959",
          "exception": false,
          "start_time": "2022-05-23T23:52:25.395601",
          "status": "completed"
        },
        "tags": [],
        "id": "7b4df4a4"
      },
      "source": [
        "If you found this notebook useful, please remember to click the little up-arrow at the top to upvote it, since I like to know when people have found my work useful, and it helps others find it too. (BTW, be sure you're looking at my [original notebook here](https://www.kaggle.com/jhoward/how-random-forests-work) when you do that, and are not on your own copy of it, otherwise your upvote won't get counted!) And if you have any questions or comments, please pop them below -- I read every comment I receive!"
      ]
    },
    {
      "cell_type": "code",
      "execution_count": 49,
      "id": "4fecbc09",
      "metadata": {
        "papermill": {
          "duration": 0.088049,
          "end_time": "2022-05-23T23:52:25.659455",
          "exception": false,
          "start_time": "2022-05-23T23:52:25.571406",
          "status": "completed"
        },
        "tags": [],
        "id": "4fecbc09"
      },
      "outputs": [],
      "source": []
    }
  ],
  "metadata": {
    "kernelspec": {
      "display_name": "Python 3",
      "language": "python",
      "name": "python3"
    },
    "language_info": {
      "codemirror_mode": {
        "name": "ipython",
        "version": 3
      },
      "file_extension": ".py",
      "mimetype": "text/x-python",
      "name": "python",
      "nbconvert_exporter": "python",
      "pygments_lexer": "ipython3",
      "version": "3.7.12"
    },
    "papermill": {
      "default_parameters": {},
      "duration": 33.243357,
      "end_time": "2022-05-23T23:52:26.679734",
      "environment_variables": {},
      "exception": null,
      "input_path": "__notebook__.ipynb",
      "output_path": "__notebook__.ipynb",
      "parameters": {},
      "start_time": "2022-05-23T23:51:53.436377",
      "version": "2.3.4"
    },
    "widgets": {
      "application/vnd.jupyter.widget-state+json": {
        "850f1edb50d34b33b1c19a5852a4cade": {
          "model_module": "@jupyter-widgets/controls",
          "model_name": "VBoxModel",
          "model_module_version": "1.5.0",
          "state": {
            "_dom_classes": [
              "widget-interact"
            ],
            "_model_module": "@jupyter-widgets/controls",
            "_model_module_version": "1.5.0",
            "_model_name": "VBoxModel",
            "_view_count": null,
            "_view_module": "@jupyter-widgets/controls",
            "_view_module_version": "1.5.0",
            "_view_name": "VBoxView",
            "box_style": "",
            "children": [
              "IPY_MODEL_9af1771b8ea14414915ffb4dd70708c0",
              "IPY_MODEL_5e568db946fd4f2abdff71b9313d3b08",
              "IPY_MODEL_339f327cfc5443a9810d9a3463c557e5"
            ],
            "layout": "IPY_MODEL_227abceae9954dd38e1937ab05101596"
          }
        },
        "9af1771b8ea14414915ffb4dd70708c0": {
          "model_module": "@jupyter-widgets/controls",
          "model_name": "DropdownModel",
          "model_module_version": "1.5.0",
          "state": {
            "_dom_classes": [],
            "_model_module": "@jupyter-widgets/controls",
            "_model_module_version": "1.5.0",
            "_model_name": "DropdownModel",
            "_options_labels": [
              "Age",
              "SibSp",
              "Parch",
              "LogFare",
              "Pclass"
            ],
            "_view_count": null,
            "_view_module": "@jupyter-widgets/controls",
            "_view_module_version": "1.5.0",
            "_view_name": "DropdownView",
            "description": "nm",
            "description_tooltip": null,
            "disabled": false,
            "index": 0,
            "layout": "IPY_MODEL_8fa1fbbc6a4947ba8f3247481a586765",
            "style": "IPY_MODEL_66d0bd28b9b142918209191c96a45f5b"
          }
        },
        "5e568db946fd4f2abdff71b9313d3b08": {
          "model_module": "@jupyter-widgets/controls",
          "model_name": "FloatSliderModel",
          "model_module_version": "1.5.0",
          "state": {
            "_dom_classes": [],
            "_model_module": "@jupyter-widgets/controls",
            "_model_module_version": "1.5.0",
            "_model_name": "FloatSliderModel",
            "_view_count": null,
            "_view_module": "@jupyter-widgets/controls",
            "_view_module_version": "1.5.0",
            "_view_name": "FloatSliderView",
            "continuous_update": true,
            "description": "split",
            "description_tooltip": null,
            "disabled": false,
            "layout": "IPY_MODEL_2064587b78b44e07a71b607f23238936",
            "max": 46.5,
            "min": -15.5,
            "orientation": "horizontal",
            "readout": true,
            "readout_format": ".2f",
            "step": 0.1,
            "style": "IPY_MODEL_f151fac10783413b90f0f3b4d4e27741",
            "value": 15.5
          }
        },
        "339f327cfc5443a9810d9a3463c557e5": {
          "model_module": "@jupyter-widgets/output",
          "model_name": "OutputModel",
          "model_module_version": "1.0.0",
          "state": {
            "_dom_classes": [],
            "_model_module": "@jupyter-widgets/output",
            "_model_module_version": "1.0.0",
            "_model_name": "OutputModel",
            "_view_count": null,
            "_view_module": "@jupyter-widgets/output",
            "_view_module_version": "1.0.0",
            "_view_name": "OutputView",
            "layout": "IPY_MODEL_1482e9921d89438996a5aef27e4caa0e",
            "msg_id": "",
            "outputs": [
              {
                "output_type": "display_data",
                "data": {
                  "text/plain": "0.48105614369455413"
                },
                "metadata": {}
              }
            ]
          }
        },
        "227abceae9954dd38e1937ab05101596": {
          "model_module": "@jupyter-widgets/base",
          "model_name": "LayoutModel",
          "model_module_version": "1.2.0",
          "state": {
            "_model_module": "@jupyter-widgets/base",
            "_model_module_version": "1.2.0",
            "_model_name": "LayoutModel",
            "_view_count": null,
            "_view_module": "@jupyter-widgets/base",
            "_view_module_version": "1.2.0",
            "_view_name": "LayoutView",
            "align_content": null,
            "align_items": null,
            "align_self": null,
            "border": null,
            "bottom": null,
            "display": null,
            "flex": null,
            "flex_flow": null,
            "grid_area": null,
            "grid_auto_columns": null,
            "grid_auto_flow": null,
            "grid_auto_rows": null,
            "grid_column": null,
            "grid_gap": null,
            "grid_row": null,
            "grid_template_areas": null,
            "grid_template_columns": null,
            "grid_template_rows": null,
            "height": null,
            "justify_content": null,
            "justify_items": null,
            "left": null,
            "margin": null,
            "max_height": null,
            "max_width": null,
            "min_height": null,
            "min_width": null,
            "object_fit": null,
            "object_position": null,
            "order": null,
            "overflow": null,
            "overflow_x": null,
            "overflow_y": null,
            "padding": null,
            "right": null,
            "top": null,
            "visibility": null,
            "width": null
          }
        },
        "8fa1fbbc6a4947ba8f3247481a586765": {
          "model_module": "@jupyter-widgets/base",
          "model_name": "LayoutModel",
          "model_module_version": "1.2.0",
          "state": {
            "_model_module": "@jupyter-widgets/base",
            "_model_module_version": "1.2.0",
            "_model_name": "LayoutModel",
            "_view_count": null,
            "_view_module": "@jupyter-widgets/base",
            "_view_module_version": "1.2.0",
            "_view_name": "LayoutView",
            "align_content": null,
            "align_items": null,
            "align_self": null,
            "border": null,
            "bottom": null,
            "display": null,
            "flex": null,
            "flex_flow": null,
            "grid_area": null,
            "grid_auto_columns": null,
            "grid_auto_flow": null,
            "grid_auto_rows": null,
            "grid_column": null,
            "grid_gap": null,
            "grid_row": null,
            "grid_template_areas": null,
            "grid_template_columns": null,
            "grid_template_rows": null,
            "height": null,
            "justify_content": null,
            "justify_items": null,
            "left": null,
            "margin": null,
            "max_height": null,
            "max_width": null,
            "min_height": null,
            "min_width": null,
            "object_fit": null,
            "object_position": null,
            "order": null,
            "overflow": null,
            "overflow_x": null,
            "overflow_y": null,
            "padding": null,
            "right": null,
            "top": null,
            "visibility": null,
            "width": null
          }
        },
        "66d0bd28b9b142918209191c96a45f5b": {
          "model_module": "@jupyter-widgets/controls",
          "model_name": "DescriptionStyleModel",
          "model_module_version": "1.5.0",
          "state": {
            "_model_module": "@jupyter-widgets/controls",
            "_model_module_version": "1.5.0",
            "_model_name": "DescriptionStyleModel",
            "_view_count": null,
            "_view_module": "@jupyter-widgets/base",
            "_view_module_version": "1.2.0",
            "_view_name": "StyleView",
            "description_width": ""
          }
        },
        "2064587b78b44e07a71b607f23238936": {
          "model_module": "@jupyter-widgets/base",
          "model_name": "LayoutModel",
          "model_module_version": "1.2.0",
          "state": {
            "_model_module": "@jupyter-widgets/base",
            "_model_module_version": "1.2.0",
            "_model_name": "LayoutModel",
            "_view_count": null,
            "_view_module": "@jupyter-widgets/base",
            "_view_module_version": "1.2.0",
            "_view_name": "LayoutView",
            "align_content": null,
            "align_items": null,
            "align_self": null,
            "border": null,
            "bottom": null,
            "display": null,
            "flex": null,
            "flex_flow": null,
            "grid_area": null,
            "grid_auto_columns": null,
            "grid_auto_flow": null,
            "grid_auto_rows": null,
            "grid_column": null,
            "grid_gap": null,
            "grid_row": null,
            "grid_template_areas": null,
            "grid_template_columns": null,
            "grid_template_rows": null,
            "height": null,
            "justify_content": null,
            "justify_items": null,
            "left": null,
            "margin": null,
            "max_height": null,
            "max_width": null,
            "min_height": null,
            "min_width": null,
            "object_fit": null,
            "object_position": null,
            "order": null,
            "overflow": null,
            "overflow_x": null,
            "overflow_y": null,
            "padding": null,
            "right": null,
            "top": null,
            "visibility": null,
            "width": null
          }
        },
        "f151fac10783413b90f0f3b4d4e27741": {
          "model_module": "@jupyter-widgets/controls",
          "model_name": "SliderStyleModel",
          "model_module_version": "1.5.0",
          "state": {
            "_model_module": "@jupyter-widgets/controls",
            "_model_module_version": "1.5.0",
            "_model_name": "SliderStyleModel",
            "_view_count": null,
            "_view_module": "@jupyter-widgets/base",
            "_view_module_version": "1.2.0",
            "_view_name": "StyleView",
            "description_width": "",
            "handle_color": null
          }
        },
        "1482e9921d89438996a5aef27e4caa0e": {
          "model_module": "@jupyter-widgets/base",
          "model_name": "LayoutModel",
          "model_module_version": "1.2.0",
          "state": {
            "_model_module": "@jupyter-widgets/base",
            "_model_module_version": "1.2.0",
            "_model_name": "LayoutModel",
            "_view_count": null,
            "_view_module": "@jupyter-widgets/base",
            "_view_module_version": "1.2.0",
            "_view_name": "LayoutView",
            "align_content": null,
            "align_items": null,
            "align_self": null,
            "border": null,
            "bottom": null,
            "display": null,
            "flex": null,
            "flex_flow": null,
            "grid_area": null,
            "grid_auto_columns": null,
            "grid_auto_flow": null,
            "grid_auto_rows": null,
            "grid_column": null,
            "grid_gap": null,
            "grid_row": null,
            "grid_template_areas": null,
            "grid_template_columns": null,
            "grid_template_rows": null,
            "height": null,
            "justify_content": null,
            "justify_items": null,
            "left": null,
            "margin": null,
            "max_height": null,
            "max_width": null,
            "min_height": null,
            "min_width": null,
            "object_fit": null,
            "object_position": null,
            "order": null,
            "overflow": null,
            "overflow_x": null,
            "overflow_y": null,
            "padding": null,
            "right": null,
            "top": null,
            "visibility": null,
            "width": null
          }
        },
        "a379d86097d94b21998643610ca41804": {
          "model_module": "@jupyter-widgets/controls",
          "model_name": "VBoxModel",
          "model_module_version": "1.5.0",
          "state": {
            "_dom_classes": [
              "widget-interact"
            ],
            "_model_module": "@jupyter-widgets/controls",
            "_model_module_version": "1.5.0",
            "_model_name": "VBoxModel",
            "_view_count": null,
            "_view_module": "@jupyter-widgets/controls",
            "_view_module_version": "1.5.0",
            "_view_name": "VBoxView",
            "box_style": "",
            "children": [
              "IPY_MODEL_22ff96a848174213b2668cb02498d613",
              "IPY_MODEL_a73b55f69a9e4c5fa6963db23abc32f8",
              "IPY_MODEL_4f2c5c24053a47048ed44f12b235ea24"
            ],
            "layout": "IPY_MODEL_0ebfafb5724c4e2c8760f1dce56410ee"
          }
        },
        "22ff96a848174213b2668cb02498d613": {
          "model_module": "@jupyter-widgets/controls",
          "model_name": "DropdownModel",
          "model_module_version": "1.5.0",
          "state": {
            "_dom_classes": [],
            "_model_module": "@jupyter-widgets/controls",
            "_model_module_version": "1.5.0",
            "_model_name": "DropdownModel",
            "_options_labels": [
              "Sex",
              "Embarked"
            ],
            "_view_count": null,
            "_view_module": "@jupyter-widgets/controls",
            "_view_module_version": "1.5.0",
            "_view_name": "DropdownView",
            "description": "nm",
            "description_tooltip": null,
            "disabled": false,
            "index": 0,
            "layout": "IPY_MODEL_38bb84f3ca6e4f8f814a13bc4e6102c4",
            "style": "IPY_MODEL_83005b4556d24cc499586fd59d5d8178"
          }
        },
        "a73b55f69a9e4c5fa6963db23abc32f8": {
          "model_module": "@jupyter-widgets/controls",
          "model_name": "IntSliderModel",
          "model_module_version": "1.5.0",
          "state": {
            "_dom_classes": [],
            "_model_module": "@jupyter-widgets/controls",
            "_model_module_version": "1.5.0",
            "_model_name": "IntSliderModel",
            "_view_count": null,
            "_view_module": "@jupyter-widgets/controls",
            "_view_module_version": "1.5.0",
            "_view_name": "IntSliderView",
            "continuous_update": true,
            "description": "split",
            "description_tooltip": null,
            "disabled": false,
            "layout": "IPY_MODEL_691a0eda085141368e1923edf27664a5",
            "max": 6,
            "min": -2,
            "orientation": "horizontal",
            "readout": true,
            "readout_format": "d",
            "step": 1,
            "style": "IPY_MODEL_d09aefeb98144729b8faa8e605ad5610",
            "value": 2
          }
        },
        "4f2c5c24053a47048ed44f12b235ea24": {
          "model_module": "@jupyter-widgets/output",
          "model_name": "OutputModel",
          "model_module_version": "1.0.0",
          "state": {
            "_dom_classes": [],
            "_model_module": "@jupyter-widgets/output",
            "_model_module_version": "1.0.0",
            "_model_name": "OutputModel",
            "_view_count": null,
            "_view_module": "@jupyter-widgets/output",
            "_view_module_version": "1.0.0",
            "_view_name": "OutputView",
            "layout": "IPY_MODEL_dbab9d08dee04063833ee94cbe4a2c63",
            "msg_id": "",
            "outputs": [
              {
                "output_type": "display_data",
                "data": {
                  "text/plain": "0.4854373192013831"
                },
                "metadata": {}
              }
            ]
          }
        },
        "0ebfafb5724c4e2c8760f1dce56410ee": {
          "model_module": "@jupyter-widgets/base",
          "model_name": "LayoutModel",
          "model_module_version": "1.2.0",
          "state": {
            "_model_module": "@jupyter-widgets/base",
            "_model_module_version": "1.2.0",
            "_model_name": "LayoutModel",
            "_view_count": null,
            "_view_module": "@jupyter-widgets/base",
            "_view_module_version": "1.2.0",
            "_view_name": "LayoutView",
            "align_content": null,
            "align_items": null,
            "align_self": null,
            "border": null,
            "bottom": null,
            "display": null,
            "flex": null,
            "flex_flow": null,
            "grid_area": null,
            "grid_auto_columns": null,
            "grid_auto_flow": null,
            "grid_auto_rows": null,
            "grid_column": null,
            "grid_gap": null,
            "grid_row": null,
            "grid_template_areas": null,
            "grid_template_columns": null,
            "grid_template_rows": null,
            "height": null,
            "justify_content": null,
            "justify_items": null,
            "left": null,
            "margin": null,
            "max_height": null,
            "max_width": null,
            "min_height": null,
            "min_width": null,
            "object_fit": null,
            "object_position": null,
            "order": null,
            "overflow": null,
            "overflow_x": null,
            "overflow_y": null,
            "padding": null,
            "right": null,
            "top": null,
            "visibility": null,
            "width": null
          }
        },
        "38bb84f3ca6e4f8f814a13bc4e6102c4": {
          "model_module": "@jupyter-widgets/base",
          "model_name": "LayoutModel",
          "model_module_version": "1.2.0",
          "state": {
            "_model_module": "@jupyter-widgets/base",
            "_model_module_version": "1.2.0",
            "_model_name": "LayoutModel",
            "_view_count": null,
            "_view_module": "@jupyter-widgets/base",
            "_view_module_version": "1.2.0",
            "_view_name": "LayoutView",
            "align_content": null,
            "align_items": null,
            "align_self": null,
            "border": null,
            "bottom": null,
            "display": null,
            "flex": null,
            "flex_flow": null,
            "grid_area": null,
            "grid_auto_columns": null,
            "grid_auto_flow": null,
            "grid_auto_rows": null,
            "grid_column": null,
            "grid_gap": null,
            "grid_row": null,
            "grid_template_areas": null,
            "grid_template_columns": null,
            "grid_template_rows": null,
            "height": null,
            "justify_content": null,
            "justify_items": null,
            "left": null,
            "margin": null,
            "max_height": null,
            "max_width": null,
            "min_height": null,
            "min_width": null,
            "object_fit": null,
            "object_position": null,
            "order": null,
            "overflow": null,
            "overflow_x": null,
            "overflow_y": null,
            "padding": null,
            "right": null,
            "top": null,
            "visibility": null,
            "width": null
          }
        },
        "83005b4556d24cc499586fd59d5d8178": {
          "model_module": "@jupyter-widgets/controls",
          "model_name": "DescriptionStyleModel",
          "model_module_version": "1.5.0",
          "state": {
            "_model_module": "@jupyter-widgets/controls",
            "_model_module_version": "1.5.0",
            "_model_name": "DescriptionStyleModel",
            "_view_count": null,
            "_view_module": "@jupyter-widgets/base",
            "_view_module_version": "1.2.0",
            "_view_name": "StyleView",
            "description_width": ""
          }
        },
        "691a0eda085141368e1923edf27664a5": {
          "model_module": "@jupyter-widgets/base",
          "model_name": "LayoutModel",
          "model_module_version": "1.2.0",
          "state": {
            "_model_module": "@jupyter-widgets/base",
            "_model_module_version": "1.2.0",
            "_model_name": "LayoutModel",
            "_view_count": null,
            "_view_module": "@jupyter-widgets/base",
            "_view_module_version": "1.2.0",
            "_view_name": "LayoutView",
            "align_content": null,
            "align_items": null,
            "align_self": null,
            "border": null,
            "bottom": null,
            "display": null,
            "flex": null,
            "flex_flow": null,
            "grid_area": null,
            "grid_auto_columns": null,
            "grid_auto_flow": null,
            "grid_auto_rows": null,
            "grid_column": null,
            "grid_gap": null,
            "grid_row": null,
            "grid_template_areas": null,
            "grid_template_columns": null,
            "grid_template_rows": null,
            "height": null,
            "justify_content": null,
            "justify_items": null,
            "left": null,
            "margin": null,
            "max_height": null,
            "max_width": null,
            "min_height": null,
            "min_width": null,
            "object_fit": null,
            "object_position": null,
            "order": null,
            "overflow": null,
            "overflow_x": null,
            "overflow_y": null,
            "padding": null,
            "right": null,
            "top": null,
            "visibility": null,
            "width": null
          }
        },
        "d09aefeb98144729b8faa8e605ad5610": {
          "model_module": "@jupyter-widgets/controls",
          "model_name": "SliderStyleModel",
          "model_module_version": "1.5.0",
          "state": {
            "_model_module": "@jupyter-widgets/controls",
            "_model_module_version": "1.5.0",
            "_model_name": "SliderStyleModel",
            "_view_count": null,
            "_view_module": "@jupyter-widgets/base",
            "_view_module_version": "1.2.0",
            "_view_name": "StyleView",
            "description_width": "",
            "handle_color": null
          }
        },
        "dbab9d08dee04063833ee94cbe4a2c63": {
          "model_module": "@jupyter-widgets/base",
          "model_name": "LayoutModel",
          "model_module_version": "1.2.0",
          "state": {
            "_model_module": "@jupyter-widgets/base",
            "_model_module_version": "1.2.0",
            "_model_name": "LayoutModel",
            "_view_count": null,
            "_view_module": "@jupyter-widgets/base",
            "_view_module_version": "1.2.0",
            "_view_name": "LayoutView",
            "align_content": null,
            "align_items": null,
            "align_self": null,
            "border": null,
            "bottom": null,
            "display": null,
            "flex": null,
            "flex_flow": null,
            "grid_area": null,
            "grid_auto_columns": null,
            "grid_auto_flow": null,
            "grid_auto_rows": null,
            "grid_column": null,
            "grid_gap": null,
            "grid_row": null,
            "grid_template_areas": null,
            "grid_template_columns": null,
            "grid_template_rows": null,
            "height": null,
            "justify_content": null,
            "justify_items": null,
            "left": null,
            "margin": null,
            "max_height": null,
            "max_width": null,
            "min_height": null,
            "min_width": null,
            "object_fit": null,
            "object_position": null,
            "order": null,
            "overflow": null,
            "overflow_x": null,
            "overflow_y": null,
            "padding": null,
            "right": null,
            "top": null,
            "visibility": null,
            "width": null
          }
        }
      }
    },
    "colab": {
      "provenance": [],
      "include_colab_link": true
    }
  },
  "nbformat": 4,
  "nbformat_minor": 5
}