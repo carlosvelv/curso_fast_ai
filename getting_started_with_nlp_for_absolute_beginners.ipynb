{
  "cells": [
    {
      "cell_type": "markdown",
      "metadata": {
        "id": "view-in-github",
        "colab_type": "text"
      },
      "source": [
        "<a href=\"https://colab.research.google.com/github/carlosvelv/curso_fast_ai/blob/main/getting_started_with_nlp_for_absolute_beginners.ipynb\" target=\"_parent\"><img src=\"https://colab.research.google.com/assets/colab-badge.svg\" alt=\"Open In Colab\"/></a>"
      ]
    },
    {
      "cell_type": "code",
      "source": [
        "!pip install transformers\n",
        "!pip install sentencepiece\n",
        "!pip install datasets"
      ],
      "metadata": {
        "colab": {
          "base_uri": "https://localhost:8080/"
        },
        "id": "upcfoRUWR91c",
        "outputId": "6e29f664-f7bd-4279-b083-716ffeab399d"
      },
      "id": "upcfoRUWR91c",
      "execution_count": 1,
      "outputs": [
        {
          "output_type": "stream",
          "name": "stdout",
          "text": [
            "Looking in indexes: https://pypi.org/simple, https://us-python.pkg.dev/colab-wheels/public/simple/\n",
            "Requirement already satisfied: transformers in /usr/local/lib/python3.7/dist-packages (4.24.0)\n",
            "Requirement already satisfied: regex!=2019.12.17 in /usr/local/lib/python3.7/dist-packages (from transformers) (2022.6.2)\n",
            "Requirement already satisfied: importlib-metadata in /usr/local/lib/python3.7/dist-packages (from transformers) (4.13.0)\n",
            "Requirement already satisfied: tqdm>=4.27 in /usr/local/lib/python3.7/dist-packages (from transformers) (4.64.1)\n",
            "Requirement already satisfied: packaging>=20.0 in /usr/local/lib/python3.7/dist-packages (from transformers) (21.3)\n",
            "Requirement already satisfied: tokenizers!=0.11.3,<0.14,>=0.11.1 in /usr/local/lib/python3.7/dist-packages (from transformers) (0.13.2)\n",
            "Requirement already satisfied: huggingface-hub<1.0,>=0.10.0 in /usr/local/lib/python3.7/dist-packages (from transformers) (0.11.1)\n",
            "Requirement already satisfied: filelock in /usr/local/lib/python3.7/dist-packages (from transformers) (3.8.0)\n",
            "Requirement already satisfied: requests in /usr/local/lib/python3.7/dist-packages (from transformers) (2.23.0)\n",
            "Requirement already satisfied: numpy>=1.17 in /usr/local/lib/python3.7/dist-packages (from transformers) (1.21.6)\n",
            "Requirement already satisfied: pyyaml>=5.1 in /usr/local/lib/python3.7/dist-packages (from transformers) (6.0)\n",
            "Requirement already satisfied: typing-extensions>=3.7.4.3 in /usr/local/lib/python3.7/dist-packages (from huggingface-hub<1.0,>=0.10.0->transformers) (4.1.1)\n",
            "Requirement already satisfied: pyparsing!=3.0.5,>=2.0.2 in /usr/local/lib/python3.7/dist-packages (from packaging>=20.0->transformers) (3.0.9)\n",
            "Requirement already satisfied: zipp>=0.5 in /usr/local/lib/python3.7/dist-packages (from importlib-metadata->transformers) (3.10.0)\n",
            "Requirement already satisfied: certifi>=2017.4.17 in /usr/local/lib/python3.7/dist-packages (from requests->transformers) (2022.9.24)\n",
            "Requirement already satisfied: chardet<4,>=3.0.2 in /usr/local/lib/python3.7/dist-packages (from requests->transformers) (3.0.4)\n",
            "Requirement already satisfied: urllib3!=1.25.0,!=1.25.1,<1.26,>=1.21.1 in /usr/local/lib/python3.7/dist-packages (from requests->transformers) (1.25.11)\n",
            "Requirement already satisfied: idna<3,>=2.5 in /usr/local/lib/python3.7/dist-packages (from requests->transformers) (2.10)\n",
            "Looking in indexes: https://pypi.org/simple, https://us-python.pkg.dev/colab-wheels/public/simple/\n",
            "Requirement already satisfied: sentencepiece in /usr/local/lib/python3.7/dist-packages (0.1.97)\n",
            "Looking in indexes: https://pypi.org/simple, https://us-python.pkg.dev/colab-wheels/public/simple/\n",
            "Requirement already satisfied: datasets in /usr/local/lib/python3.7/dist-packages (2.7.1)\n",
            "Requirement already satisfied: fsspec[http]>=2021.11.1 in /usr/local/lib/python3.7/dist-packages (from datasets) (2022.11.0)\n",
            "Requirement already satisfied: importlib-metadata in /usr/local/lib/python3.7/dist-packages (from datasets) (4.13.0)\n",
            "Requirement already satisfied: numpy>=1.17 in /usr/local/lib/python3.7/dist-packages (from datasets) (1.21.6)\n",
            "Requirement already satisfied: pyyaml>=5.1 in /usr/local/lib/python3.7/dist-packages (from datasets) (6.0)\n",
            "Requirement already satisfied: pyarrow>=6.0.0 in /usr/local/lib/python3.7/dist-packages (from datasets) (9.0.0)\n",
            "Requirement already satisfied: huggingface-hub<1.0.0,>=0.2.0 in /usr/local/lib/python3.7/dist-packages (from datasets) (0.11.1)\n",
            "Requirement already satisfied: pandas in /usr/local/lib/python3.7/dist-packages (from datasets) (1.3.5)\n",
            "Requirement already satisfied: responses<0.19 in /usr/local/lib/python3.7/dist-packages (from datasets) (0.18.0)\n",
            "Requirement already satisfied: tqdm>=4.62.1 in /usr/local/lib/python3.7/dist-packages (from datasets) (4.64.1)\n",
            "Requirement already satisfied: multiprocess in /usr/local/lib/python3.7/dist-packages (from datasets) (0.70.14)\n",
            "Requirement already satisfied: aiohttp in /usr/local/lib/python3.7/dist-packages (from datasets) (3.8.3)\n",
            "Requirement already satisfied: dill<0.3.7 in /usr/local/lib/python3.7/dist-packages (from datasets) (0.3.6)\n",
            "Requirement already satisfied: packaging in /usr/local/lib/python3.7/dist-packages (from datasets) (21.3)\n",
            "Requirement already satisfied: xxhash in /usr/local/lib/python3.7/dist-packages (from datasets) (3.1.0)\n",
            "Requirement already satisfied: requests>=2.19.0 in /usr/local/lib/python3.7/dist-packages (from datasets) (2.23.0)\n",
            "Requirement already satisfied: aiosignal>=1.1.2 in /usr/local/lib/python3.7/dist-packages (from aiohttp->datasets) (1.3.1)\n",
            "Requirement already satisfied: multidict<7.0,>=4.5 in /usr/local/lib/python3.7/dist-packages (from aiohttp->datasets) (6.0.2)\n",
            "Requirement already satisfied: frozenlist>=1.1.1 in /usr/local/lib/python3.7/dist-packages (from aiohttp->datasets) (1.3.3)\n",
            "Requirement already satisfied: typing-extensions>=3.7.4 in /usr/local/lib/python3.7/dist-packages (from aiohttp->datasets) (4.1.1)\n",
            "Requirement already satisfied: yarl<2.0,>=1.0 in /usr/local/lib/python3.7/dist-packages (from aiohttp->datasets) (1.8.1)\n",
            "Requirement already satisfied: asynctest==0.13.0 in /usr/local/lib/python3.7/dist-packages (from aiohttp->datasets) (0.13.0)\n",
            "Requirement already satisfied: charset-normalizer<3.0,>=2.0 in /usr/local/lib/python3.7/dist-packages (from aiohttp->datasets) (2.1.1)\n",
            "Requirement already satisfied: async-timeout<5.0,>=4.0.0a3 in /usr/local/lib/python3.7/dist-packages (from aiohttp->datasets) (4.0.2)\n",
            "Requirement already satisfied: attrs>=17.3.0 in /usr/local/lib/python3.7/dist-packages (from aiohttp->datasets) (22.1.0)\n",
            "Requirement already satisfied: filelock in /usr/local/lib/python3.7/dist-packages (from huggingface-hub<1.0.0,>=0.2.0->datasets) (3.8.0)\n",
            "Requirement already satisfied: pyparsing!=3.0.5,>=2.0.2 in /usr/local/lib/python3.7/dist-packages (from packaging->datasets) (3.0.9)\n",
            "Requirement already satisfied: idna<3,>=2.5 in /usr/local/lib/python3.7/dist-packages (from requests>=2.19.0->datasets) (2.10)\n",
            "Requirement already satisfied: urllib3!=1.25.0,!=1.25.1,<1.26,>=1.21.1 in /usr/local/lib/python3.7/dist-packages (from requests>=2.19.0->datasets) (1.25.11)\n",
            "Requirement already satisfied: certifi>=2017.4.17 in /usr/local/lib/python3.7/dist-packages (from requests>=2.19.0->datasets) (2022.9.24)\n",
            "Requirement already satisfied: chardet<4,>=3.0.2 in /usr/local/lib/python3.7/dist-packages (from requests>=2.19.0->datasets) (3.0.4)\n",
            "Requirement already satisfied: zipp>=0.5 in /usr/local/lib/python3.7/dist-packages (from importlib-metadata->datasets) (3.10.0)\n",
            "Requirement already satisfied: python-dateutil>=2.7.3 in /usr/local/lib/python3.7/dist-packages (from pandas->datasets) (2.8.2)\n",
            "Requirement already satisfied: pytz>=2017.3 in /usr/local/lib/python3.7/dist-packages (from pandas->datasets) (2022.6)\n",
            "Requirement already satisfied: six>=1.5 in /usr/local/lib/python3.7/dist-packages (from python-dateutil>=2.7.3->pandas->datasets) (1.15.0)\n"
          ]
        }
      ]
    },
    {
      "cell_type": "markdown",
      "id": "ece9e8d9",
      "metadata": {
        "papermill": {
          "duration": 0.102825,
          "end_time": "2022-05-16T23:18:18.905047",
          "exception": false,
          "start_time": "2022-05-16T23:18:18.802222",
          "status": "completed"
        },
        "tags": [],
        "id": "ece9e8d9"
      },
      "source": [
        "## Introduction"
      ]
    },
    {
      "cell_type": "markdown",
      "id": "0407b5a9",
      "metadata": {
        "papermill": {
          "duration": 0.098538,
          "end_time": "2022-05-16T23:18:19.107274",
          "exception": false,
          "start_time": "2022-05-16T23:18:19.008736",
          "status": "completed"
        },
        "tags": [],
        "id": "0407b5a9"
      },
      "source": [
        "One area where deep learning has dramatically improved in the last couple of years is natural language processing (NLP). Computers can now generate text, translate automatically from one language to another, analyze comments, label words in sentences, and much more.\n",
        "\n",
        "Perhaps the most widely practically useful application of NLP is *classification* -- that is, classifying a document automatically into some category. This can be used, for instance, for:\n",
        "\n",
        "- Sentiment analysis (e.g are people saying *positive* or *negative* things about your product)\n",
        "- Author identification (what author most likely wrote some document)\n",
        "- Legal discovery (which documents are in scope for a trial)\n",
        "- Organizing documents by topic\n",
        "- Triaging inbound emails\n",
        "- ...and much more!\n",
        "\n",
        "Classification models can also be used to solve problems that are not, at first, obviously appropriate. For instance, consider the Kaggle [U.S. Patent Phrase to Phrase Matching](https://www.kaggle.com/competitions/us-patent-phrase-to-phrase-matching/) competition. In this, we are tasked with comparing two words or short phrases, and scoring them based on whether they're similar or not, based on which patent class they were used in. With a score of `1` it is considered that the two inputs have identical meaning, and `0` means they have totally different meaning. For instance, *abatement* and *eliminating process* have a score of `0.5`, meaning they're somewhat similar, but not identical.\n",
        "\n",
        "It turns out that this can be represented as a classification problem. How? By representing the question like this:\n",
        "\n",
        "> For the following text...: \"TEXT1: abatement; TEXT2: eliminating process\" ...chose a category of meaning similarity: \"Different; Similar; Identical\".\n",
        "\n",
        "In this notebook we'll see how to solve the Patent Phrase Matching problem by treating it as a classification task, by representing it in a very similar way to that shown above."
      ]
    },
    {
      "cell_type": "markdown",
      "id": "72aef3e5",
      "metadata": {
        "papermill": {
          "duration": 0.096761,
          "end_time": "2022-05-16T23:18:19.299885",
          "exception": false,
          "start_time": "2022-05-16T23:18:19.203124",
          "status": "completed"
        },
        "tags": [],
        "id": "72aef3e5"
      },
      "source": [
        "### On Kaggle"
      ]
    },
    {
      "cell_type": "markdown",
      "id": "d7ba1b00",
      "metadata": {
        "papermill": {
          "duration": 0.095382,
          "end_time": "2022-05-16T23:18:19.492836",
          "exception": false,
          "start_time": "2022-05-16T23:18:19.397454",
          "status": "completed"
        },
        "tags": [],
        "id": "d7ba1b00"
      },
      "source": [
        "Kaggle is an awesome resource for aspiring data scientists or anyone looking to improve their machine learning skills. There is nothing like being able to get hands-on practice and receiving real-time feedback to help you improve your skills. It provides:\n",
        "\n",
        "1. Interesting data sets\n",
        "1. Feedback on how you're doing\n",
        "1. A leader board to see what's good, what's possible, and what's state-of-art\n",
        "1. Notebooks and blog posts by winning contestants share useful tips and techniques.\n",
        "\n",
        "The dataset we will be using here is only available from Kaggle. Therefore, you will need to register on the site, then go to the [page for the competition](https://www.kaggle.com/c/us-patent-phrase-to-phrase-matching). On that page click \"Rules,\" then \"I Understand and Accept.\" (Although the competition has finished, and you will not be entering it, you still have to agree to the rules to be allowed to download the data.)\n",
        "\n",
        "There are two ways to then use this data:\n",
        "\n",
        "- Easiest: run this notebook directly on Kaggle, or\n",
        "- Most flexible: download the data locally and run it on your PC or GPU server\n",
        "\n",
        "If you are running this on Kaggle.com, you can skip the next section. Just make sure that on Kaggle you've selected to use a GPU during your session, by clicking on the hamburger menu (3 dots in the top right) and clicking \"Accelerator\" -- it should look like this:"
      ]
    },
    {
      "cell_type": "markdown",
      "id": "bfd7f80a",
      "metadata": {
        "papermill": {
          "duration": 0.094882,
          "end_time": "2022-05-16T23:18:19.873521",
          "exception": false,
          "start_time": "2022-05-16T23:18:19.778639",
          "status": "completed"
        },
        "tags": [],
        "id": "bfd7f80a"
      },
      "source": [
        "We'll need slightly different code depending on whether we're running on Kaggle or not, so we'll use this variable to track where we are:"
      ]
    },
    {
      "cell_type": "code",
      "execution_count": 1,
      "id": "a2fd6427",
      "metadata": {
        "execution": {
          "iopub.execute_input": "2022-05-16T23:18:20.069718Z",
          "iopub.status.busy": "2022-05-16T23:18:20.068198Z",
          "iopub.status.idle": "2022-05-16T23:18:20.077629Z",
          "shell.execute_reply": "2022-05-16T23:18:20.078082Z",
          "shell.execute_reply.started": "2022-04-19T22:50:15.58802Z"
        },
        "papermill": {
          "duration": 0.110699,
          "end_time": "2022-05-16T23:18:20.078308",
          "exception": false,
          "start_time": "2022-05-16T23:18:19.967609",
          "status": "completed"
        },
        "tags": [],
        "id": "a2fd6427"
      },
      "outputs": [],
      "source": [
        "import os\n",
        "iskaggle = os.environ.get('KAGGLE_KERNEL_RUN_TYPE', '')"
      ]
    },
    {
      "cell_type": "markdown",
      "id": "48759fa0",
      "metadata": {
        "papermill": {
          "duration": 0.088837,
          "end_time": "2022-05-16T23:18:20.263924",
          "exception": false,
          "start_time": "2022-05-16T23:18:20.175087",
          "status": "completed"
        },
        "tags": [],
        "id": "48759fa0"
      },
      "source": [
        "### Using Kaggle data on your own machine"
      ]
    },
    {
      "cell_type": "markdown",
      "id": "8b1ca433",
      "metadata": {
        "papermill": {
          "duration": 0.15651,
          "end_time": "2022-05-16T23:18:20.564625",
          "exception": false,
          "start_time": "2022-05-16T23:18:20.408115",
          "status": "completed"
        },
        "tags": [],
        "id": "8b1ca433"
      },
      "source": [
        "Kaggle limits your weekly time using a GPU machine. The limits are very generous, but you may well still find it's not enough! In that case, you'll want to use your own GPU server, or a cloud server such as Colab, Paperspace Gradient, or SageMaker Studio Lab (all of which have free options). To do so, you'll need to be able to download Kaggle datasets.\n",
        "\n",
        "The easiest way to download Kaggle datasets is to use the Kaggle API. You can install this using `pip` by running this in a notebook cell:\n",
        "\n",
        "    !pip install kaggle\n",
        "\n",
        "You need an API key to use the Kaggle API; to get one, click on your profile picture on the Kaggle website, and choose My Account, then click Create New API Token. This will save a file called *kaggle.json* to your PC. You need to copy this key on your GPU server. To do so, open the file you downloaded, copy the contents, and paste them in the following cell (e.g., `creds = '{\"username\":\"xxx\",\"key\":\"xxx\"}'`):"
      ]
    },
    {
      "cell_type": "code",
      "source": [
        "!pip install kaggle"
      ],
      "metadata": {
        "colab": {
          "base_uri": "https://localhost:8080/"
        },
        "id": "icCga-8jOFsT",
        "outputId": "5f0d54fe-e73d-4fc0-98c9-7c0edfd9534f"
      },
      "id": "icCga-8jOFsT",
      "execution_count": 3,
      "outputs": [
        {
          "output_type": "stream",
          "name": "stdout",
          "text": [
            "Looking in indexes: https://pypi.org/simple, https://us-python.pkg.dev/colab-wheels/public/simple/\n",
            "Requirement already satisfied: kaggle in /usr/local/lib/python3.7/dist-packages (1.5.12)\n",
            "Requirement already satisfied: six>=1.10 in /usr/local/lib/python3.7/dist-packages (from kaggle) (1.15.0)\n",
            "Requirement already satisfied: requests in /usr/local/lib/python3.7/dist-packages (from kaggle) (2.23.0)\n",
            "Requirement already satisfied: python-dateutil in /usr/local/lib/python3.7/dist-packages (from kaggle) (2.8.2)\n",
            "Requirement already satisfied: tqdm in /usr/local/lib/python3.7/dist-packages (from kaggle) (4.64.1)\n",
            "Requirement already satisfied: certifi in /usr/local/lib/python3.7/dist-packages (from kaggle) (2022.9.24)\n",
            "Requirement already satisfied: urllib3 in /usr/local/lib/python3.7/dist-packages (from kaggle) (1.24.3)\n",
            "Requirement already satisfied: python-slugify in /usr/local/lib/python3.7/dist-packages (from kaggle) (6.1.2)\n",
            "Requirement already satisfied: text-unidecode>=1.3 in /usr/local/lib/python3.7/dist-packages (from python-slugify->kaggle) (1.3)\n",
            "Requirement already satisfied: idna<3,>=2.5 in /usr/local/lib/python3.7/dist-packages (from requests->kaggle) (2.10)\n",
            "Requirement already satisfied: chardet<4,>=3.0.2 in /usr/local/lib/python3.7/dist-packages (from requests->kaggle) (3.0.4)\n"
          ]
        }
      ]
    },
    {
      "cell_type": "code",
      "execution_count": 4,
      "id": "6c52e24b",
      "metadata": {
        "execution": {
          "iopub.execute_input": "2022-05-16T23:18:20.878123Z",
          "iopub.status.busy": "2022-05-16T23:18:20.877241Z",
          "iopub.status.idle": "2022-05-16T23:18:20.879522Z",
          "shell.execute_reply": "2022-05-16T23:18:20.878859Z",
          "shell.execute_reply.started": "2022-04-19T22:50:15.619534Z"
        },
        "papermill": {
          "duration": 0.161714,
          "end_time": "2022-05-16T23:18:20.879673",
          "exception": false,
          "start_time": "2022-05-16T23:18:20.717959",
          "status": "completed"
        },
        "tags": [],
        "id": "6c52e24b"
      },
      "outputs": [],
      "source": [
        "creds = ''"
      ]
    },
    {
      "cell_type": "markdown",
      "id": "f73d2a77",
      "metadata": {
        "papermill": {
          "duration": 0.091829,
          "end_time": "2022-05-16T23:18:21.075422",
          "exception": false,
          "start_time": "2022-05-16T23:18:20.983593",
          "status": "completed"
        },
        "tags": [],
        "id": "f73d2a77"
      },
      "source": [
        "Then execute this cell (this only needs to be run once):"
      ]
    },
    {
      "cell_type": "code",
      "execution_count": 5,
      "id": "41a7fe66",
      "metadata": {
        "execution": {
          "iopub.execute_input": "2022-05-16T23:18:21.273100Z",
          "iopub.status.busy": "2022-05-16T23:18:21.272324Z",
          "iopub.status.idle": "2022-05-16T23:18:21.275167Z",
          "shell.execute_reply": "2022-05-16T23:18:21.274735Z",
          "shell.execute_reply.started": "2022-04-19T22:50:15.625454Z"
        },
        "papermill": {
          "duration": 0.105467,
          "end_time": "2022-05-16T23:18:21.275293",
          "exception": false,
          "start_time": "2022-05-16T23:18:21.169826",
          "status": "completed"
        },
        "tags": [],
        "id": "41a7fe66"
      },
      "outputs": [],
      "source": [
        "# for working with paths in Python, I recommend using `pathlib.Path`\n",
        "from pathlib import Path\n",
        "\n",
        "cred_path = Path('~/.kaggle/kaggle.json').expanduser()\n",
        "if not cred_path.exists():\n",
        "    cred_path.parent.mkdir(exist_ok=True)\n",
        "    cred_path.write_text(creds)\n",
        "    cred_path.chmod(0o600)"
      ]
    },
    {
      "cell_type": "markdown",
      "id": "8cc398d8",
      "metadata": {
        "papermill": {
          "duration": 0.096152,
          "end_time": "2022-05-16T23:18:21.470375",
          "exception": false,
          "start_time": "2022-05-16T23:18:21.374223",
          "status": "completed"
        },
        "tags": [],
        "id": "8cc398d8"
      },
      "source": [
        "Now you can download datasets from Kaggle."
      ]
    },
    {
      "cell_type": "code",
      "execution_count": 6,
      "id": "f9240dd6",
      "metadata": {
        "execution": {
          "iopub.execute_input": "2022-05-16T23:18:21.669472Z",
          "iopub.status.busy": "2022-05-16T23:18:21.668423Z",
          "iopub.status.idle": "2022-05-16T23:18:21.671180Z",
          "shell.execute_reply": "2022-05-16T23:18:21.670701Z",
          "shell.execute_reply.started": "2022-04-19T22:50:15.636168Z"
        },
        "papermill": {
          "duration": 0.104227,
          "end_time": "2022-05-16T23:18:21.671310",
          "exception": false,
          "start_time": "2022-05-16T23:18:21.567083",
          "status": "completed"
        },
        "tags": [],
        "id": "f9240dd6"
      },
      "outputs": [],
      "source": [
        "path = Path('us-patent-phrase-to-phrase-matching')"
      ]
    },
    {
      "cell_type": "markdown",
      "id": "d3a9b31d",
      "metadata": {
        "papermill": {
          "duration": 0.097029,
          "end_time": "2022-05-16T23:18:21.865372",
          "exception": false,
          "start_time": "2022-05-16T23:18:21.768343",
          "status": "completed"
        },
        "tags": [],
        "id": "d3a9b31d"
      },
      "source": [
        "And use the Kaggle API to download the dataset to that path, and extract it:"
      ]
    },
    {
      "cell_type": "code",
      "execution_count": 12,
      "id": "76cd493d",
      "metadata": {
        "execution": {
          "iopub.execute_input": "2022-05-16T23:18:22.063705Z",
          "iopub.status.busy": "2022-05-16T23:18:22.062698Z",
          "iopub.status.idle": "2022-05-16T23:18:22.065286Z",
          "shell.execute_reply": "2022-05-16T23:18:22.064712Z",
          "shell.execute_reply.started": "2022-04-19T22:50:15.645742Z"
        },
        "papermill": {
          "duration": 0.105373,
          "end_time": "2022-05-16T23:18:22.065424",
          "exception": false,
          "start_time": "2022-05-16T23:18:21.960051",
          "status": "completed"
        },
        "tags": [],
        "colab": {
          "base_uri": "https://localhost:8080/"
        },
        "id": "76cd493d",
        "outputId": "6aec9513-ea04-4d69-c84d-17b01fe1f906"
      },
      "outputs": [
        {
          "output_type": "stream",
          "name": "stdout",
          "text": [
            "Archive:  /content/us-patent-phrase-to-phrase-matching.zip\n",
            "  inflating: sample_submission.csv   \n",
            "  inflating: test.csv                \n",
            "  inflating: train.csv               \n"
          ]
        }
      ],
      "source": [
        "!unzip /content/us-patent-phrase-to-phrase-matching.zip"
      ]
    },
    {
      "cell_type": "markdown",
      "id": "1d234710",
      "metadata": {
        "papermill": {
          "duration": 0.096966,
          "end_time": "2022-05-16T23:18:22.259134",
          "exception": false,
          "start_time": "2022-05-16T23:18:22.162168",
          "status": "completed"
        },
        "tags": [],
        "id": "1d234710"
      },
      "source": [
        "Note that you can easily download notebooks from Kaggle and upload them to other cloud services. So if you're low on Kaggle GPU credits, give this a try!"
      ]
    },
    {
      "cell_type": "markdown",
      "id": "04d27700",
      "metadata": {
        "papermill": {
          "duration": 0.096057,
          "end_time": "2022-05-16T23:18:22.452686",
          "exception": false,
          "start_time": "2022-05-16T23:18:22.356629",
          "status": "completed"
        },
        "tags": [],
        "id": "04d27700"
      },
      "source": [
        "## Import and EDA"
      ]
    },
    {
      "cell_type": "markdown",
      "id": "e33c3324",
      "metadata": {
        "papermill": {
          "duration": 0.148707,
          "end_time": "2022-05-16T23:18:31.616056",
          "exception": false,
          "start_time": "2022-05-16T23:18:31.467349",
          "status": "completed"
        },
        "tags": [],
        "id": "e33c3324"
      },
      "source": [
        "Documents in NLP datasets are generally in one of two main forms:\n",
        "\n",
        "- **Larger documents**: One text file per document, often organised into one folder per category\n",
        "- **Smaller documents**: One document (or document pair, optionally with metadata) per row in a [CSV file](https://realpython.com/python-csv/).\n",
        "\n",
        "Let's look at our data and see what we've got. In Jupyter you can use any bash/shell command by starting a line with a `!`, and use `{}` to include python variables, like so:"
      ]
    },
    {
      "cell_type": "markdown",
      "id": "925425fe",
      "metadata": {
        "papermill": {
          "duration": 0.086033,
          "end_time": "2022-05-16T23:18:32.724591",
          "exception": false,
          "start_time": "2022-05-16T23:18:32.638558",
          "status": "completed"
        },
        "tags": [],
        "id": "925425fe"
      },
      "source": [
        "It looks like this competition uses CSV files. For opening, manipulating, and viewing CSV files, it's generally best to use the Pandas library, which is explained brilliantly in [this book](https://wesmckinney.com/book/) by the lead developer (it's also an excellent introduction to matplotlib and numpy, both of which I use in this notebook). Generally it's imported as the abbreviation `pd`."
      ]
    },
    {
      "cell_type": "code",
      "execution_count": 2,
      "id": "1ccad14f",
      "metadata": {
        "execution": {
          "iopub.execute_input": "2022-05-16T23:18:32.903526Z",
          "iopub.status.busy": "2022-05-16T23:18:32.902787Z",
          "iopub.status.idle": "2022-05-16T23:18:32.904904Z",
          "shell.execute_reply": "2022-05-16T23:18:32.905273Z",
          "shell.execute_reply.started": "2022-04-19T22:50:25.029375Z"
        },
        "papermill": {
          "duration": 0.094094,
          "end_time": "2022-05-16T23:18:32.905420",
          "exception": false,
          "start_time": "2022-05-16T23:18:32.811326",
          "status": "completed"
        },
        "tags": [],
        "id": "1ccad14f"
      },
      "outputs": [],
      "source": [
        "import pandas as pd"
      ]
    },
    {
      "cell_type": "markdown",
      "id": "b8f0f88b",
      "metadata": {
        "papermill": {
          "duration": 0.088323,
          "end_time": "2022-05-16T23:18:33.079444",
          "exception": false,
          "start_time": "2022-05-16T23:18:32.991121",
          "status": "completed"
        },
        "tags": [],
        "id": "b8f0f88b"
      },
      "source": [
        "Let's set a path to our data:"
      ]
    },
    {
      "cell_type": "code",
      "execution_count": 3,
      "id": "410bf8a8",
      "metadata": {
        "execution": {
          "iopub.execute_input": "2022-05-16T23:18:33.257861Z",
          "iopub.status.busy": "2022-05-16T23:18:33.257213Z",
          "iopub.status.idle": "2022-05-16T23:18:33.338741Z",
          "shell.execute_reply": "2022-05-16T23:18:33.338223Z",
          "shell.execute_reply.started": "2022-04-19T22:50:25.036197Z"
        },
        "papermill": {
          "duration": 0.173142,
          "end_time": "2022-05-16T23:18:33.338883",
          "exception": false,
          "start_time": "2022-05-16T23:18:33.165741",
          "status": "completed"
        },
        "tags": [],
        "id": "410bf8a8"
      },
      "outputs": [],
      "source": [
        "df = pd.read_csv('train.csv')"
      ]
    },
    {
      "cell_type": "markdown",
      "id": "121e2210",
      "metadata": {
        "papermill": {
          "duration": 0.087101,
          "end_time": "2022-05-16T23:18:33.513985",
          "exception": false,
          "start_time": "2022-05-16T23:18:33.426884",
          "status": "completed"
        },
        "tags": [],
        "id": "121e2210"
      },
      "source": [
        "This creates a [DataFrame](https://pandas.pydata.org/docs/user_guide/10min.html), which is a table of named columns, a bit like a database table. To view the first and last rows, and row count of a DataFrame, just type its name:"
      ]
    },
    {
      "cell_type": "code",
      "execution_count": 4,
      "id": "4b298ff1",
      "metadata": {
        "execution": {
          "iopub.execute_input": "2022-05-16T23:18:33.700493Z",
          "iopub.status.busy": "2022-05-16T23:18:33.699888Z",
          "iopub.status.idle": "2022-05-16T23:18:33.715083Z",
          "shell.execute_reply": "2022-05-16T23:18:33.715531Z",
          "shell.execute_reply.started": "2022-04-19T22:50:25.122204Z"
        },
        "papermill": {
          "duration": 0.114426,
          "end_time": "2022-05-16T23:18:33.715685",
          "exception": false,
          "start_time": "2022-05-16T23:18:33.601259",
          "status": "completed"
        },
        "tags": [],
        "colab": {
          "base_uri": "https://localhost:8080/",
          "height": 424
        },
        "id": "4b298ff1",
        "outputId": "9ba6d4b1-0759-4216-d5b2-51407c115c2a"
      },
      "outputs": [
        {
          "output_type": "execute_result",
          "data": {
            "text/plain": [
              "                     id        anchor                  target context  score\n",
              "0      37d61fd2272659b1     abatement  abatement of pollution     A47   0.50\n",
              "1      7b9652b17b68b7a4     abatement          act of abating     A47   0.75\n",
              "2      36d72442aefd8232     abatement         active catalyst     A47   0.25\n",
              "3      5296b0c19e1ce60e     abatement     eliminating process     A47   0.50\n",
              "4      54c1e3b9184cb5b6     abatement           forest region     A47   0.00\n",
              "...                 ...           ...                     ...     ...    ...\n",
              "36468  8e1386cbefd7f245  wood article          wooden article     B44   1.00\n",
              "36469  42d9e032d1cd3242  wood article              wooden box     B44   0.50\n",
              "36470  208654ccb9e14fa3  wood article           wooden handle     B44   0.50\n",
              "36471  756ec035e694722b  wood article         wooden material     B44   0.75\n",
              "36472  8d135da0b55b8c88  wood article        wooden substrate     B44   0.50\n",
              "\n",
              "[36473 rows x 5 columns]"
            ],
            "text/html": [
              "\n",
              "  <div id=\"df-187cc9cc-1d7d-47a1-86b2-f228394dad3f\">\n",
              "    <div class=\"colab-df-container\">\n",
              "      <div>\n",
              "<style scoped>\n",
              "    .dataframe tbody tr th:only-of-type {\n",
              "        vertical-align: middle;\n",
              "    }\n",
              "\n",
              "    .dataframe tbody tr th {\n",
              "        vertical-align: top;\n",
              "    }\n",
              "\n",
              "    .dataframe thead th {\n",
              "        text-align: right;\n",
              "    }\n",
              "</style>\n",
              "<table border=\"1\" class=\"dataframe\">\n",
              "  <thead>\n",
              "    <tr style=\"text-align: right;\">\n",
              "      <th></th>\n",
              "      <th>id</th>\n",
              "      <th>anchor</th>\n",
              "      <th>target</th>\n",
              "      <th>context</th>\n",
              "      <th>score</th>\n",
              "    </tr>\n",
              "  </thead>\n",
              "  <tbody>\n",
              "    <tr>\n",
              "      <th>0</th>\n",
              "      <td>37d61fd2272659b1</td>\n",
              "      <td>abatement</td>\n",
              "      <td>abatement of pollution</td>\n",
              "      <td>A47</td>\n",
              "      <td>0.50</td>\n",
              "    </tr>\n",
              "    <tr>\n",
              "      <th>1</th>\n",
              "      <td>7b9652b17b68b7a4</td>\n",
              "      <td>abatement</td>\n",
              "      <td>act of abating</td>\n",
              "      <td>A47</td>\n",
              "      <td>0.75</td>\n",
              "    </tr>\n",
              "    <tr>\n",
              "      <th>2</th>\n",
              "      <td>36d72442aefd8232</td>\n",
              "      <td>abatement</td>\n",
              "      <td>active catalyst</td>\n",
              "      <td>A47</td>\n",
              "      <td>0.25</td>\n",
              "    </tr>\n",
              "    <tr>\n",
              "      <th>3</th>\n",
              "      <td>5296b0c19e1ce60e</td>\n",
              "      <td>abatement</td>\n",
              "      <td>eliminating process</td>\n",
              "      <td>A47</td>\n",
              "      <td>0.50</td>\n",
              "    </tr>\n",
              "    <tr>\n",
              "      <th>4</th>\n",
              "      <td>54c1e3b9184cb5b6</td>\n",
              "      <td>abatement</td>\n",
              "      <td>forest region</td>\n",
              "      <td>A47</td>\n",
              "      <td>0.00</td>\n",
              "    </tr>\n",
              "    <tr>\n",
              "      <th>...</th>\n",
              "      <td>...</td>\n",
              "      <td>...</td>\n",
              "      <td>...</td>\n",
              "      <td>...</td>\n",
              "      <td>...</td>\n",
              "    </tr>\n",
              "    <tr>\n",
              "      <th>36468</th>\n",
              "      <td>8e1386cbefd7f245</td>\n",
              "      <td>wood article</td>\n",
              "      <td>wooden article</td>\n",
              "      <td>B44</td>\n",
              "      <td>1.00</td>\n",
              "    </tr>\n",
              "    <tr>\n",
              "      <th>36469</th>\n",
              "      <td>42d9e032d1cd3242</td>\n",
              "      <td>wood article</td>\n",
              "      <td>wooden box</td>\n",
              "      <td>B44</td>\n",
              "      <td>0.50</td>\n",
              "    </tr>\n",
              "    <tr>\n",
              "      <th>36470</th>\n",
              "      <td>208654ccb9e14fa3</td>\n",
              "      <td>wood article</td>\n",
              "      <td>wooden handle</td>\n",
              "      <td>B44</td>\n",
              "      <td>0.50</td>\n",
              "    </tr>\n",
              "    <tr>\n",
              "      <th>36471</th>\n",
              "      <td>756ec035e694722b</td>\n",
              "      <td>wood article</td>\n",
              "      <td>wooden material</td>\n",
              "      <td>B44</td>\n",
              "      <td>0.75</td>\n",
              "    </tr>\n",
              "    <tr>\n",
              "      <th>36472</th>\n",
              "      <td>8d135da0b55b8c88</td>\n",
              "      <td>wood article</td>\n",
              "      <td>wooden substrate</td>\n",
              "      <td>B44</td>\n",
              "      <td>0.50</td>\n",
              "    </tr>\n",
              "  </tbody>\n",
              "</table>\n",
              "<p>36473 rows × 5 columns</p>\n",
              "</div>\n",
              "      <button class=\"colab-df-convert\" onclick=\"convertToInteractive('df-187cc9cc-1d7d-47a1-86b2-f228394dad3f')\"\n",
              "              title=\"Convert this dataframe to an interactive table.\"\n",
              "              style=\"display:none;\">\n",
              "        \n",
              "  <svg xmlns=\"http://www.w3.org/2000/svg\" height=\"24px\"viewBox=\"0 0 24 24\"\n",
              "       width=\"24px\">\n",
              "    <path d=\"M0 0h24v24H0V0z\" fill=\"none\"/>\n",
              "    <path d=\"M18.56 5.44l.94 2.06.94-2.06 2.06-.94-2.06-.94-.94-2.06-.94 2.06-2.06.94zm-11 1L8.5 8.5l.94-2.06 2.06-.94-2.06-.94L8.5 2.5l-.94 2.06-2.06.94zm10 10l.94 2.06.94-2.06 2.06-.94-2.06-.94-.94-2.06-.94 2.06-2.06.94z\"/><path d=\"M17.41 7.96l-1.37-1.37c-.4-.4-.92-.59-1.43-.59-.52 0-1.04.2-1.43.59L10.3 9.45l-7.72 7.72c-.78.78-.78 2.05 0 2.83L4 21.41c.39.39.9.59 1.41.59.51 0 1.02-.2 1.41-.59l7.78-7.78 2.81-2.81c.8-.78.8-2.07 0-2.86zM5.41 20L4 18.59l7.72-7.72 1.47 1.35L5.41 20z\"/>\n",
              "  </svg>\n",
              "      </button>\n",
              "      \n",
              "  <style>\n",
              "    .colab-df-container {\n",
              "      display:flex;\n",
              "      flex-wrap:wrap;\n",
              "      gap: 12px;\n",
              "    }\n",
              "\n",
              "    .colab-df-convert {\n",
              "      background-color: #E8F0FE;\n",
              "      border: none;\n",
              "      border-radius: 50%;\n",
              "      cursor: pointer;\n",
              "      display: none;\n",
              "      fill: #1967D2;\n",
              "      height: 32px;\n",
              "      padding: 0 0 0 0;\n",
              "      width: 32px;\n",
              "    }\n",
              "\n",
              "    .colab-df-convert:hover {\n",
              "      background-color: #E2EBFA;\n",
              "      box-shadow: 0px 1px 2px rgba(60, 64, 67, 0.3), 0px 1px 3px 1px rgba(60, 64, 67, 0.15);\n",
              "      fill: #174EA6;\n",
              "    }\n",
              "\n",
              "    [theme=dark] .colab-df-convert {\n",
              "      background-color: #3B4455;\n",
              "      fill: #D2E3FC;\n",
              "    }\n",
              "\n",
              "    [theme=dark] .colab-df-convert:hover {\n",
              "      background-color: #434B5C;\n",
              "      box-shadow: 0px 1px 3px 1px rgba(0, 0, 0, 0.15);\n",
              "      filter: drop-shadow(0px 1px 2px rgba(0, 0, 0, 0.3));\n",
              "      fill: #FFFFFF;\n",
              "    }\n",
              "  </style>\n",
              "\n",
              "      <script>\n",
              "        const buttonEl =\n",
              "          document.querySelector('#df-187cc9cc-1d7d-47a1-86b2-f228394dad3f button.colab-df-convert');\n",
              "        buttonEl.style.display =\n",
              "          google.colab.kernel.accessAllowed ? 'block' : 'none';\n",
              "\n",
              "        async function convertToInteractive(key) {\n",
              "          const element = document.querySelector('#df-187cc9cc-1d7d-47a1-86b2-f228394dad3f');\n",
              "          const dataTable =\n",
              "            await google.colab.kernel.invokeFunction('convertToInteractive',\n",
              "                                                     [key], {});\n",
              "          if (!dataTable) return;\n",
              "\n",
              "          const docLinkHtml = 'Like what you see? Visit the ' +\n",
              "            '<a target=\"_blank\" href=https://colab.research.google.com/notebooks/data_table.ipynb>data table notebook</a>'\n",
              "            + ' to learn more about interactive tables.';\n",
              "          element.innerHTML = '';\n",
              "          dataTable['output_type'] = 'display_data';\n",
              "          await google.colab.output.renderOutput(dataTable, element);\n",
              "          const docLink = document.createElement('div');\n",
              "          docLink.innerHTML = docLinkHtml;\n",
              "          element.appendChild(docLink);\n",
              "        }\n",
              "      </script>\n",
              "    </div>\n",
              "  </div>\n",
              "  "
            ]
          },
          "metadata": {},
          "execution_count": 4
        }
      ],
      "source": [
        "df"
      ]
    },
    {
      "cell_type": "markdown",
      "id": "14efc19d",
      "metadata": {
        "papermill": {
          "duration": 0.087104,
          "end_time": "2022-05-16T23:18:33.890429",
          "exception": false,
          "start_time": "2022-05-16T23:18:33.803325",
          "status": "completed"
        },
        "tags": [],
        "id": "14efc19d"
      },
      "source": [
        "It's important to carefully read the [dataset description](https://www.kaggle.com/competitions/us-patent-phrase-to-phrase-matching/data) to understand how each of these columns is used.\n",
        "\n",
        "One of the most useful features of `DataFrame` is the `describe()` method:"
      ]
    },
    {
      "cell_type": "code",
      "execution_count": 5,
      "id": "21982274",
      "metadata": {
        "execution": {
          "iopub.execute_input": "2022-05-16T23:18:34.098355Z",
          "iopub.status.busy": "2022-05-16T23:18:34.097454Z",
          "iopub.status.idle": "2022-05-16T23:18:34.145806Z",
          "shell.execute_reply": "2022-05-16T23:18:34.146201Z",
          "shell.execute_reply.started": "2022-04-19T22:50:25.149735Z"
        },
        "papermill": {
          "duration": 0.16831,
          "end_time": "2022-05-16T23:18:34.146345",
          "exception": false,
          "start_time": "2022-05-16T23:18:33.978035",
          "status": "completed"
        },
        "tags": [],
        "colab": {
          "base_uri": "https://localhost:8080/",
          "height": 175
        },
        "id": "21982274",
        "outputId": "f6a9eac3-67a5-4998-9007-618b9fd17ed9"
      },
      "outputs": [
        {
          "output_type": "execute_result",
          "data": {
            "text/plain": [
              "                      id                       anchor       target context\n",
              "count              36473                        36473        36473   36473\n",
              "unique             36473                          733        29340     106\n",
              "top     37d61fd2272659b1  component composite coating  composition     H01\n",
              "freq                   1                          152           24    2186"
            ],
            "text/html": [
              "\n",
              "  <div id=\"df-6358328f-3f95-4d2b-96f6-a361b225e186\">\n",
              "    <div class=\"colab-df-container\">\n",
              "      <div>\n",
              "<style scoped>\n",
              "    .dataframe tbody tr th:only-of-type {\n",
              "        vertical-align: middle;\n",
              "    }\n",
              "\n",
              "    .dataframe tbody tr th {\n",
              "        vertical-align: top;\n",
              "    }\n",
              "\n",
              "    .dataframe thead th {\n",
              "        text-align: right;\n",
              "    }\n",
              "</style>\n",
              "<table border=\"1\" class=\"dataframe\">\n",
              "  <thead>\n",
              "    <tr style=\"text-align: right;\">\n",
              "      <th></th>\n",
              "      <th>id</th>\n",
              "      <th>anchor</th>\n",
              "      <th>target</th>\n",
              "      <th>context</th>\n",
              "    </tr>\n",
              "  </thead>\n",
              "  <tbody>\n",
              "    <tr>\n",
              "      <th>count</th>\n",
              "      <td>36473</td>\n",
              "      <td>36473</td>\n",
              "      <td>36473</td>\n",
              "      <td>36473</td>\n",
              "    </tr>\n",
              "    <tr>\n",
              "      <th>unique</th>\n",
              "      <td>36473</td>\n",
              "      <td>733</td>\n",
              "      <td>29340</td>\n",
              "      <td>106</td>\n",
              "    </tr>\n",
              "    <tr>\n",
              "      <th>top</th>\n",
              "      <td>37d61fd2272659b1</td>\n",
              "      <td>component composite coating</td>\n",
              "      <td>composition</td>\n",
              "      <td>H01</td>\n",
              "    </tr>\n",
              "    <tr>\n",
              "      <th>freq</th>\n",
              "      <td>1</td>\n",
              "      <td>152</td>\n",
              "      <td>24</td>\n",
              "      <td>2186</td>\n",
              "    </tr>\n",
              "  </tbody>\n",
              "</table>\n",
              "</div>\n",
              "      <button class=\"colab-df-convert\" onclick=\"convertToInteractive('df-6358328f-3f95-4d2b-96f6-a361b225e186')\"\n",
              "              title=\"Convert this dataframe to an interactive table.\"\n",
              "              style=\"display:none;\">\n",
              "        \n",
              "  <svg xmlns=\"http://www.w3.org/2000/svg\" height=\"24px\"viewBox=\"0 0 24 24\"\n",
              "       width=\"24px\">\n",
              "    <path d=\"M0 0h24v24H0V0z\" fill=\"none\"/>\n",
              "    <path d=\"M18.56 5.44l.94 2.06.94-2.06 2.06-.94-2.06-.94-.94-2.06-.94 2.06-2.06.94zm-11 1L8.5 8.5l.94-2.06 2.06-.94-2.06-.94L8.5 2.5l-.94 2.06-2.06.94zm10 10l.94 2.06.94-2.06 2.06-.94-2.06-.94-.94-2.06-.94 2.06-2.06.94z\"/><path d=\"M17.41 7.96l-1.37-1.37c-.4-.4-.92-.59-1.43-.59-.52 0-1.04.2-1.43.59L10.3 9.45l-7.72 7.72c-.78.78-.78 2.05 0 2.83L4 21.41c.39.39.9.59 1.41.59.51 0 1.02-.2 1.41-.59l7.78-7.78 2.81-2.81c.8-.78.8-2.07 0-2.86zM5.41 20L4 18.59l7.72-7.72 1.47 1.35L5.41 20z\"/>\n",
              "  </svg>\n",
              "      </button>\n",
              "      \n",
              "  <style>\n",
              "    .colab-df-container {\n",
              "      display:flex;\n",
              "      flex-wrap:wrap;\n",
              "      gap: 12px;\n",
              "    }\n",
              "\n",
              "    .colab-df-convert {\n",
              "      background-color: #E8F0FE;\n",
              "      border: none;\n",
              "      border-radius: 50%;\n",
              "      cursor: pointer;\n",
              "      display: none;\n",
              "      fill: #1967D2;\n",
              "      height: 32px;\n",
              "      padding: 0 0 0 0;\n",
              "      width: 32px;\n",
              "    }\n",
              "\n",
              "    .colab-df-convert:hover {\n",
              "      background-color: #E2EBFA;\n",
              "      box-shadow: 0px 1px 2px rgba(60, 64, 67, 0.3), 0px 1px 3px 1px rgba(60, 64, 67, 0.15);\n",
              "      fill: #174EA6;\n",
              "    }\n",
              "\n",
              "    [theme=dark] .colab-df-convert {\n",
              "      background-color: #3B4455;\n",
              "      fill: #D2E3FC;\n",
              "    }\n",
              "\n",
              "    [theme=dark] .colab-df-convert:hover {\n",
              "      background-color: #434B5C;\n",
              "      box-shadow: 0px 1px 3px 1px rgba(0, 0, 0, 0.15);\n",
              "      filter: drop-shadow(0px 1px 2px rgba(0, 0, 0, 0.3));\n",
              "      fill: #FFFFFF;\n",
              "    }\n",
              "  </style>\n",
              "\n",
              "      <script>\n",
              "        const buttonEl =\n",
              "          document.querySelector('#df-6358328f-3f95-4d2b-96f6-a361b225e186 button.colab-df-convert');\n",
              "        buttonEl.style.display =\n",
              "          google.colab.kernel.accessAllowed ? 'block' : 'none';\n",
              "\n",
              "        async function convertToInteractive(key) {\n",
              "          const element = document.querySelector('#df-6358328f-3f95-4d2b-96f6-a361b225e186');\n",
              "          const dataTable =\n",
              "            await google.colab.kernel.invokeFunction('convertToInteractive',\n",
              "                                                     [key], {});\n",
              "          if (!dataTable) return;\n",
              "\n",
              "          const docLinkHtml = 'Like what you see? Visit the ' +\n",
              "            '<a target=\"_blank\" href=https://colab.research.google.com/notebooks/data_table.ipynb>data table notebook</a>'\n",
              "            + ' to learn more about interactive tables.';\n",
              "          element.innerHTML = '';\n",
              "          dataTable['output_type'] = 'display_data';\n",
              "          await google.colab.output.renderOutput(dataTable, element);\n",
              "          const docLink = document.createElement('div');\n",
              "          docLink.innerHTML = docLinkHtml;\n",
              "          element.appendChild(docLink);\n",
              "        }\n",
              "      </script>\n",
              "    </div>\n",
              "  </div>\n",
              "  "
            ]
          },
          "metadata": {},
          "execution_count": 5
        }
      ],
      "source": [
        "df.describe(include='object')"
      ]
    },
    {
      "cell_type": "markdown",
      "id": "625b4e8b",
      "metadata": {
        "papermill": {
          "duration": 0.08891,
          "end_time": "2022-05-16T23:18:34.323267",
          "exception": false,
          "start_time": "2022-05-16T23:18:34.234357",
          "status": "completed"
        },
        "tags": [],
        "id": "625b4e8b"
      },
      "source": [
        "We can see that in the 36473 rows, there are 733 unique anchors, 106 contexts, and nearly 30000 targets. Some anchors are very common, with \"component composite coating\" for instance appearing 152 times.\n",
        "\n",
        "Earlier, I suggested we could represent the input to the model as something like \"*TEXT1: abatement; TEXT2: eliminating process*\". We'll need to add the context to this too. In Pandas, we just use `+` to concatenate, like so:"
      ]
    },
    {
      "cell_type": "code",
      "execution_count": 6,
      "id": "d950dfad",
      "metadata": {
        "execution": {
          "iopub.execute_input": "2022-05-16T23:18:34.525187Z",
          "iopub.status.busy": "2022-05-16T23:18:34.509818Z",
          "iopub.status.idle": "2022-05-16T23:18:34.535058Z",
          "shell.execute_reply": "2022-05-16T23:18:34.534144Z",
          "shell.execute_reply.started": "2022-04-19T22:50:25.226549Z"
        },
        "papermill": {
          "duration": 0.123242,
          "end_time": "2022-05-16T23:18:34.535176",
          "exception": false,
          "start_time": "2022-05-16T23:18:34.411934",
          "status": "completed"
        },
        "tags": [],
        "id": "d950dfad"
      },
      "outputs": [],
      "source": [
        "df['input'] = 'TEXT1: ' + df.context + '; TEXT2: ' + df.target + '; ANC1: ' + df.anchor"
      ]
    },
    {
      "cell_type": "markdown",
      "id": "7e74bcd3",
      "metadata": {
        "papermill": {
          "duration": 0.088484,
          "end_time": "2022-05-16T23:18:34.712258",
          "exception": false,
          "start_time": "2022-05-16T23:18:34.623774",
          "status": "completed"
        },
        "tags": [],
        "id": "7e74bcd3"
      },
      "source": [
        "We can refer to a column (also known as a *series*) either using regular python \"dotted\" notation, or access it like a dictionary. To get the first few rows, use `head()`:"
      ]
    },
    {
      "cell_type": "code",
      "execution_count": 7,
      "id": "c9bbe94c",
      "metadata": {
        "execution": {
          "iopub.execute_input": "2022-05-16T23:18:34.896887Z",
          "iopub.status.busy": "2022-05-16T23:18:34.896259Z",
          "iopub.status.idle": "2022-05-16T23:18:34.899014Z",
          "shell.execute_reply": "2022-05-16T23:18:34.899432Z",
          "shell.execute_reply.started": "2022-04-19T22:50:25.25829Z"
        },
        "papermill": {
          "duration": 0.09874,
          "end_time": "2022-05-16T23:18:34.899569",
          "exception": false,
          "start_time": "2022-05-16T23:18:34.800829",
          "status": "completed"
        },
        "tags": [],
        "colab": {
          "base_uri": "https://localhost:8080/"
        },
        "id": "c9bbe94c",
        "outputId": "fec246b4-1985-4bb9-fe95-91eefec372bf"
      },
      "outputs": [
        {
          "output_type": "execute_result",
          "data": {
            "text/plain": [
              "0    TEXT1: A47; TEXT2: abatement of pollution; ANC...\n",
              "1    TEXT1: A47; TEXT2: act of abating; ANC1: abate...\n",
              "2    TEXT1: A47; TEXT2: active catalyst; ANC1: abat...\n",
              "3    TEXT1: A47; TEXT2: eliminating process; ANC1: ...\n",
              "4    TEXT1: A47; TEXT2: forest region; ANC1: abatement\n",
              "Name: input, dtype: object"
            ]
          },
          "metadata": {},
          "execution_count": 7
        }
      ],
      "source": [
        "df.input.head()"
      ]
    },
    {
      "cell_type": "markdown",
      "id": "528ae2cf",
      "metadata": {
        "papermill": {
          "duration": 0.090197,
          "end_time": "2022-05-16T23:18:35.078246",
          "exception": false,
          "start_time": "2022-05-16T23:18:34.988049",
          "status": "completed"
        },
        "tags": [],
        "id": "528ae2cf"
      },
      "source": [
        "## Tokenization"
      ]
    },
    {
      "cell_type": "markdown",
      "id": "ff7d7a2a",
      "metadata": {
        "papermill": {
          "duration": 0.08786,
          "end_time": "2022-05-16T23:18:35.254344",
          "exception": false,
          "start_time": "2022-05-16T23:18:35.166484",
          "status": "completed"
        },
        "tags": [],
        "id": "ff7d7a2a"
      },
      "source": [
        "Transformers uses a `Dataset` object for storing a... well a dataset, of course! We can create one like so:"
      ]
    },
    {
      "cell_type": "code",
      "execution_count": 8,
      "id": "46fe2b83",
      "metadata": {
        "execution": {
          "iopub.execute_input": "2022-05-16T23:18:35.438352Z",
          "iopub.status.busy": "2022-05-16T23:18:35.437675Z",
          "iopub.status.idle": "2022-05-16T23:18:37.535196Z",
          "shell.execute_reply": "2022-05-16T23:18:37.534706Z",
          "shell.execute_reply.started": "2022-04-19T22:50:25.267906Z"
        },
        "papermill": {
          "duration": 2.190631,
          "end_time": "2022-05-16T23:18:37.535330",
          "exception": false,
          "start_time": "2022-05-16T23:18:35.344699",
          "status": "completed"
        },
        "tags": [],
        "id": "46fe2b83"
      },
      "outputs": [],
      "source": [
        "from datasets import Dataset,DatasetDict\n",
        "\n",
        "ds = Dataset.from_pandas(df)"
      ]
    },
    {
      "cell_type": "markdown",
      "id": "2a9712b2",
      "metadata": {
        "papermill": {
          "duration": 0.094487,
          "end_time": "2022-05-16T23:18:37.724881",
          "exception": false,
          "start_time": "2022-05-16T23:18:37.630394",
          "status": "completed"
        },
        "tags": [],
        "id": "2a9712b2"
      },
      "source": [
        "Here's how it's displayed in a notebook:"
      ]
    },
    {
      "cell_type": "code",
      "execution_count": 9,
      "id": "26089735",
      "metadata": {
        "execution": {
          "iopub.execute_input": "2022-05-16T23:18:37.917875Z",
          "iopub.status.busy": "2022-05-16T23:18:37.916717Z",
          "iopub.status.idle": "2022-05-16T23:18:37.920232Z",
          "shell.execute_reply": "2022-05-16T23:18:37.919832Z",
          "shell.execute_reply.started": "2022-04-19T22:50:27.331754Z"
        },
        "papermill": {
          "duration": 0.097799,
          "end_time": "2022-05-16T23:18:37.920352",
          "exception": false,
          "start_time": "2022-05-16T23:18:37.822553",
          "status": "completed"
        },
        "tags": [],
        "colab": {
          "base_uri": "https://localhost:8080/"
        },
        "id": "26089735",
        "outputId": "6fb96ccc-ce15-469e-b6c2-903b28b1309d"
      },
      "outputs": [
        {
          "output_type": "execute_result",
          "data": {
            "text/plain": [
              "Dataset({\n",
              "    features: ['id', 'anchor', 'target', 'context', 'score', 'input'],\n",
              "    num_rows: 36473\n",
              "})"
            ]
          },
          "metadata": {},
          "execution_count": 9
        }
      ],
      "source": [
        "ds"
      ]
    },
    {
      "cell_type": "markdown",
      "id": "73bff7b1",
      "metadata": {
        "papermill": {
          "duration": 0.090915,
          "end_time": "2022-05-16T23:18:38.100934",
          "exception": false,
          "start_time": "2022-05-16T23:18:38.010019",
          "status": "completed"
        },
        "tags": [],
        "id": "73bff7b1"
      },
      "source": [
        "But we can't pass the texts directly into a model. A deep learning model expects numbers as inputs, not English sentences! So we need to do two things:\n",
        "\n",
        "- *Tokenization*: Split each text up into words (or actually, as we'll see, into *tokens*)\n",
        "- *Numericalization*: Convert each word (or token) into a number.\n",
        "\n",
        "The details about how this is done actually depend on the particular model we use. So first we'll need to pick a model. There are thousands of models available, but a reasonable starting point for nearly any NLP problem is to use this (replace \"small\" with \"large\" for a slower but more accurate model, once you've finished exploring):"
      ]
    },
    {
      "cell_type": "code",
      "execution_count": 10,
      "id": "94f04956",
      "metadata": {
        "execution": {
          "iopub.execute_input": "2022-05-16T23:18:38.291309Z",
          "iopub.status.busy": "2022-05-16T23:18:38.290399Z",
          "iopub.status.idle": "2022-05-16T23:18:38.292739Z",
          "shell.execute_reply": "2022-05-16T23:18:38.292199Z",
          "shell.execute_reply.started": "2022-04-19T22:50:27.345436Z"
        },
        "papermill": {
          "duration": 0.103204,
          "end_time": "2022-05-16T23:18:38.292884",
          "exception": false,
          "start_time": "2022-05-16T23:18:38.189680",
          "status": "completed"
        },
        "tags": [],
        "id": "94f04956"
      },
      "outputs": [],
      "source": [
        "model_nm = 'microsoft/deberta-v3-small'"
      ]
    },
    {
      "cell_type": "markdown",
      "id": "f8a437e9",
      "metadata": {
        "papermill": {
          "duration": 0.08842,
          "end_time": "2022-05-16T23:18:38.471586",
          "exception": false,
          "start_time": "2022-05-16T23:18:38.383166",
          "status": "completed"
        },
        "tags": [],
        "id": "f8a437e9"
      },
      "source": [
        "`AutoTokenizer` will create a tokenizer appropriate for a given model:"
      ]
    },
    {
      "cell_type": "code",
      "execution_count": 11,
      "id": "9a7191a0",
      "metadata": {
        "execution": {
          "iopub.execute_input": "2022-05-16T23:18:38.655835Z",
          "iopub.status.busy": "2022-05-16T23:18:38.655114Z",
          "iopub.status.idle": "2022-05-16T23:18:44.932165Z",
          "shell.execute_reply": "2022-05-16T23:18:44.931194Z",
          "shell.execute_reply.started": "2022-04-19T22:50:27.353989Z"
        },
        "papermill": {
          "duration": 6.371289,
          "end_time": "2022-05-16T23:18:44.932308",
          "exception": false,
          "start_time": "2022-05-16T23:18:38.561019",
          "status": "completed"
        },
        "tags": [],
        "colab": {
          "base_uri": "https://localhost:8080/"
        },
        "id": "9a7191a0",
        "outputId": "8582db57-a873-4cd5-cb16-e670eeaa3091"
      },
      "outputs": [
        {
          "output_type": "stream",
          "name": "stderr",
          "text": [
            "Special tokens have been added in the vocabulary, make sure the associated word embeddings are fine-tuned or trained.\n",
            "/usr/local/lib/python3.7/dist-packages/transformers/convert_slow_tokenizer.py:447: UserWarning: The sentencepiece tokenizer that you are converting to a fast tokenizer uses the byte fallback option which is not implemented in the fast tokenizers. In practice this means that the fast version of the tokenizer can produce unknown tokens whereas the sentencepiece version would have converted these unknown tokens into a sequence of byte tokens matching the original piece of text.\n",
            "  \"The sentencepiece tokenizer that you are converting to a fast tokenizer uses the byte fallback option\"\n",
            "Special tokens have been added in the vocabulary, make sure the associated word embeddings are fine-tuned or trained.\n"
          ]
        }
      ],
      "source": [
        "from transformers import AutoModelForSequenceClassification,AutoTokenizer\n",
        "tokz = AutoTokenizer.from_pretrained(model_nm)"
      ]
    },
    {
      "cell_type": "markdown",
      "id": "bd495e28",
      "metadata": {
        "papermill": {
          "duration": 0.095077,
          "end_time": "2022-05-16T23:18:45.131869",
          "exception": false,
          "start_time": "2022-05-16T23:18:45.036792",
          "status": "completed"
        },
        "tags": [],
        "id": "bd495e28"
      },
      "source": [
        "Here's an example of how the tokenizer splits a text into \"tokens\" (which are like words, but can be sub-word pieces, as you see below):"
      ]
    },
    {
      "cell_type": "code",
      "execution_count": 12,
      "id": "2c972cb4",
      "metadata": {
        "execution": {
          "iopub.execute_input": "2022-05-16T23:18:45.320094Z",
          "iopub.status.busy": "2022-05-16T23:18:45.319492Z",
          "iopub.status.idle": "2022-05-16T23:18:45.322225Z",
          "shell.execute_reply": "2022-05-16T23:18:45.322660Z",
          "shell.execute_reply.started": "2022-04-19T22:50:32.889936Z"
        },
        "papermill": {
          "duration": 0.099704,
          "end_time": "2022-05-16T23:18:45.322809",
          "exception": false,
          "start_time": "2022-05-16T23:18:45.223105",
          "status": "completed"
        },
        "tags": [],
        "colab": {
          "base_uri": "https://localhost:8080/"
        },
        "id": "2c972cb4",
        "outputId": "f13471b2-e76f-4205-9da4-e05de0bfdd0b"
      },
      "outputs": [
        {
          "output_type": "execute_result",
          "data": {
            "text/plain": [
              "['▁G',\n",
              " \"'\",\n",
              " 'day',\n",
              " '▁folks',\n",
              " ',',\n",
              " '▁I',\n",
              " \"'\",\n",
              " 'm',\n",
              " '▁Jeremy',\n",
              " '▁from',\n",
              " '▁fast',\n",
              " '.',\n",
              " 'ai',\n",
              " '!']"
            ]
          },
          "metadata": {},
          "execution_count": 12
        }
      ],
      "source": [
        "tokz.tokenize(\"G'day folks, I'm Jeremy from fast.ai!\")"
      ]
    },
    {
      "cell_type": "markdown",
      "id": "e3d6eacc",
      "metadata": {
        "papermill": {
          "duration": 0.100207,
          "end_time": "2022-05-16T23:18:45.513113",
          "exception": false,
          "start_time": "2022-05-16T23:18:45.412906",
          "status": "completed"
        },
        "tags": [],
        "id": "e3d6eacc"
      },
      "source": [
        "Uncommon words will be split into pieces. The start of a new word is represented by `▁`:"
      ]
    },
    {
      "cell_type": "code",
      "execution_count": 13,
      "id": "a577550d",
      "metadata": {
        "execution": {
          "iopub.execute_input": "2022-05-16T23:18:45.709111Z",
          "iopub.status.busy": "2022-05-16T23:18:45.708496Z",
          "iopub.status.idle": "2022-05-16T23:18:45.711119Z",
          "shell.execute_reply": "2022-05-16T23:18:45.711568Z",
          "shell.execute_reply.started": "2022-04-19T22:50:32.904456Z"
        },
        "papermill": {
          "duration": 0.098427,
          "end_time": "2022-05-16T23:18:45.711709",
          "exception": false,
          "start_time": "2022-05-16T23:18:45.613282",
          "status": "completed"
        },
        "tags": [],
        "colab": {
          "base_uri": "https://localhost:8080/"
        },
        "id": "a577550d",
        "outputId": "9cec7db5-f59c-43a9-dbd1-685d872a651f"
      },
      "outputs": [
        {
          "output_type": "execute_result",
          "data": {
            "text/plain": [
              "['▁A',\n",
              " '▁platypus',\n",
              " '▁is',\n",
              " '▁an',\n",
              " '▁or',\n",
              " 'ni',\n",
              " 'tho',\n",
              " 'rhynch',\n",
              " 'us',\n",
              " '▁an',\n",
              " 'at',\n",
              " 'inus',\n",
              " '.']"
            ]
          },
          "metadata": {},
          "execution_count": 13
        }
      ],
      "source": [
        "tokz.tokenize(\"A platypus is an ornithorhynchus anatinus.\")"
      ]
    },
    {
      "cell_type": "markdown",
      "id": "9b98a677",
      "metadata": {
        "papermill": {
          "duration": 0.090466,
          "end_time": "2022-05-16T23:18:45.892899",
          "exception": false,
          "start_time": "2022-05-16T23:18:45.802433",
          "status": "completed"
        },
        "tags": [],
        "id": "9b98a677"
      },
      "source": [
        "Here's a simple function which tokenizes our inputs:"
      ]
    },
    {
      "cell_type": "code",
      "execution_count": 14,
      "id": "5b4df894",
      "metadata": {
        "execution": {
          "iopub.execute_input": "2022-05-16T23:18:46.081044Z",
          "iopub.status.busy": "2022-05-16T23:18:46.079465Z",
          "iopub.status.idle": "2022-05-16T23:18:46.081698Z",
          "shell.execute_reply": "2022-05-16T23:18:46.082102Z",
          "shell.execute_reply.started": "2022-04-19T22:50:32.9125Z"
        },
        "papermill": {
          "duration": 0.098195,
          "end_time": "2022-05-16T23:18:46.082230",
          "exception": false,
          "start_time": "2022-05-16T23:18:45.984035",
          "status": "completed"
        },
        "tags": [],
        "id": "5b4df894"
      },
      "outputs": [],
      "source": [
        "def tok_func(x): return tokz(x[\"input\"])"
      ]
    },
    {
      "cell_type": "markdown",
      "id": "5fc5b51f",
      "metadata": {
        "papermill": {
          "duration": 0.08984,
          "end_time": "2022-05-16T23:18:46.263955",
          "exception": false,
          "start_time": "2022-05-16T23:18:46.174115",
          "status": "completed"
        },
        "tags": [],
        "id": "5fc5b51f"
      },
      "source": [
        "To run this quickly in parallel on every row in our dataset, use `map`:"
      ]
    },
    {
      "cell_type": "code",
      "execution_count": 15,
      "id": "9dcae86d",
      "metadata": {
        "execution": {
          "iopub.execute_input": "2022-05-16T23:18:46.454144Z",
          "iopub.status.busy": "2022-05-16T23:18:46.453303Z",
          "iopub.status.idle": "2022-05-16T23:18:54.033052Z",
          "shell.execute_reply": "2022-05-16T23:18:54.032576Z",
          "shell.execute_reply.started": "2022-04-19T22:50:32.920244Z"
        },
        "papermill": {
          "duration": 7.678097,
          "end_time": "2022-05-16T23:18:54.033180",
          "exception": false,
          "start_time": "2022-05-16T23:18:46.355083",
          "status": "completed"
        },
        "tags": [],
        "colab": {
          "base_uri": "https://localhost:8080/",
          "height": 49,
          "referenced_widgets": [
            "1b842b48cd2f47af851065f0c68b11d4",
            "b817faddc5f147b39a0428c85e6a9dfd",
            "a031e1182ff04fde9268242b207fad64",
            "99f03fa2b29c4fed90fe1de51391328f",
            "ab18fef169da47f3b0712b59658affd1",
            "6878b603bba747c691bc4a7f34bc7357",
            "8dd3b2c3fe7c446db4a436b81832219e",
            "99f2124bedef4caba732ff8b9b59581b",
            "264714f9e569442e8a05516d21ca4f05",
            "27cea11393c34117a0cab9f9abbeb25e",
            "741bcb3db27b4827aec337415d29ab42"
          ]
        },
        "id": "9dcae86d",
        "outputId": "9c9bfab0-2c71-437e-eb4a-e7c60dd18ba3"
      },
      "outputs": [
        {
          "output_type": "display_data",
          "data": {
            "text/plain": [
              "  0%|          | 0/37 [00:00<?, ?ba/s]"
            ],
            "application/vnd.jupyter.widget-view+json": {
              "version_major": 2,
              "version_minor": 0,
              "model_id": "1b842b48cd2f47af851065f0c68b11d4"
            }
          },
          "metadata": {}
        }
      ],
      "source": [
        "tok_ds = ds.map(tok_func, batched=True)"
      ]
    },
    {
      "cell_type": "markdown",
      "id": "0dd77a16",
      "metadata": {
        "papermill": {
          "duration": 0.094896,
          "end_time": "2022-05-16T23:18:54.222495",
          "exception": false,
          "start_time": "2022-05-16T23:18:54.127599",
          "status": "completed"
        },
        "tags": [],
        "id": "0dd77a16"
      },
      "source": [
        "This adds a new item to our dataset called `input_ids`. For instance, here is the input and IDs for the first row of our data:"
      ]
    },
    {
      "cell_type": "code",
      "execution_count": 16,
      "id": "ef6401c5",
      "metadata": {
        "execution": {
          "iopub.execute_input": "2022-05-16T23:18:54.427236Z",
          "iopub.status.busy": "2022-05-16T23:18:54.426628Z",
          "iopub.status.idle": "2022-05-16T23:18:54.429396Z",
          "shell.execute_reply": "2022-05-16T23:18:54.429872Z",
          "shell.execute_reply.started": "2022-04-19T22:50:40.025726Z"
        },
        "papermill": {
          "duration": 0.10725,
          "end_time": "2022-05-16T23:18:54.430009",
          "exception": false,
          "start_time": "2022-05-16T23:18:54.322759",
          "status": "completed"
        },
        "tags": [],
        "colab": {
          "base_uri": "https://localhost:8080/"
        },
        "id": "ef6401c5",
        "outputId": "b987fcfc-7592-4d23-901a-df7b4b7931cd"
      },
      "outputs": [
        {
          "output_type": "execute_result",
          "data": {
            "text/plain": [
              "('TEXT1: A47; TEXT2: abatement of pollution; ANC1: abatement',\n",
              " [1,\n",
              "  54453,\n",
              "  435,\n",
              "  294,\n",
              "  336,\n",
              "  5753,\n",
              "  346,\n",
              "  54453,\n",
              "  445,\n",
              "  294,\n",
              "  47284,\n",
              "  265,\n",
              "  6435,\n",
              "  346,\n",
              "  23702,\n",
              "  435,\n",
              "  294,\n",
              "  47284,\n",
              "  2])"
            ]
          },
          "metadata": {},
          "execution_count": 16
        }
      ],
      "source": [
        "row = tok_ds[0]\n",
        "row['input'], row['input_ids']"
      ]
    },
    {
      "cell_type": "markdown",
      "id": "b5dafa61",
      "metadata": {
        "papermill": {
          "duration": 0.096597,
          "end_time": "2022-05-16T23:18:54.624153",
          "exception": false,
          "start_time": "2022-05-16T23:18:54.527556",
          "status": "completed"
        },
        "tags": [],
        "id": "b5dafa61"
      },
      "source": [
        "So, what are those IDs and where do they come from? The secret is that there's a list called `vocab` in the tokenizer which contains a unique integer for every possible token string. We can look them up like this, for instance to find the token for the word \"of\":"
      ]
    },
    {
      "cell_type": "code",
      "execution_count": 17,
      "id": "d15fe108",
      "metadata": {
        "execution": {
          "iopub.execute_input": "2022-05-16T23:18:54.834285Z",
          "iopub.status.busy": "2022-05-16T23:18:54.833617Z",
          "iopub.status.idle": "2022-05-16T23:18:54.836600Z",
          "shell.execute_reply": "2022-05-16T23:18:54.837081Z",
          "shell.execute_reply.started": "2022-04-19T22:50:40.035118Z"
        },
        "papermill": {
          "duration": 0.114718,
          "end_time": "2022-05-16T23:18:54.837222",
          "exception": false,
          "start_time": "2022-05-16T23:18:54.722504",
          "status": "completed"
        },
        "tags": [],
        "colab": {
          "base_uri": "https://localhost:8080/"
        },
        "id": "d15fe108",
        "outputId": "2578c43b-7a15-4800-c85c-16ae14890ba2"
      },
      "outputs": [
        {
          "output_type": "execute_result",
          "data": {
            "text/plain": [
              "265"
            ]
          },
          "metadata": {},
          "execution_count": 17
        }
      ],
      "source": [
        "tokz.vocab['▁of']"
      ]
    },
    {
      "cell_type": "markdown",
      "id": "eb58e8bc",
      "metadata": {
        "papermill": {
          "duration": 0.105436,
          "end_time": "2022-05-16T23:18:55.050112",
          "exception": false,
          "start_time": "2022-05-16T23:18:54.944676",
          "status": "completed"
        },
        "tags": [],
        "id": "eb58e8bc"
      },
      "source": [
        "Looking above at our input IDs, we do indeed see that `265` appears as expected.\n",
        "\n",
        "Finally, we need to prepare our labels. Transformers always assumes that your labels has the column name `labels`, but in our dataset it's currently `score`. Therefore, we need to rename it:"
      ]
    },
    {
      "cell_type": "code",
      "execution_count": 18,
      "id": "1872e8aa",
      "metadata": {
        "execution": {
          "iopub.execute_input": "2022-05-16T23:18:55.247145Z",
          "iopub.status.busy": "2022-05-16T23:18:55.246268Z",
          "iopub.status.idle": "2022-05-16T23:18:55.249927Z",
          "shell.execute_reply": "2022-05-16T23:18:55.249454Z",
          "shell.execute_reply.started": "2022-04-19T22:50:40.045156Z"
        },
        "papermill": {
          "duration": 0.101969,
          "end_time": "2022-05-16T23:18:55.250039",
          "exception": false,
          "start_time": "2022-05-16T23:18:55.148070",
          "status": "completed"
        },
        "tags": [],
        "id": "1872e8aa"
      },
      "outputs": [],
      "source": [
        "tok_ds = tok_ds.rename_columns({'score':'labels'})"
      ]
    },
    {
      "cell_type": "markdown",
      "id": "e458a967",
      "metadata": {
        "papermill": {
          "duration": 0.091676,
          "end_time": "2022-05-16T23:18:55.433347",
          "exception": false,
          "start_time": "2022-05-16T23:18:55.341671",
          "status": "completed"
        },
        "tags": [],
        "id": "e458a967"
      },
      "source": [
        "Now that we've prepared our tokens and labels, we need to create our validation set."
      ]
    },
    {
      "cell_type": "markdown",
      "id": "66c7a56c",
      "metadata": {
        "papermill": {
          "duration": 0.091929,
          "end_time": "2022-05-16T23:18:55.616679",
          "exception": false,
          "start_time": "2022-05-16T23:18:55.524750",
          "status": "completed"
        },
        "tags": [],
        "id": "66c7a56c"
      },
      "source": [
        "## Test and validation sets"
      ]
    },
    {
      "cell_type": "markdown",
      "id": "64dd7b30",
      "metadata": {
        "papermill": {
          "duration": 0.105152,
          "end_time": "2022-05-16T23:18:55.814337",
          "exception": false,
          "start_time": "2022-05-16T23:18:55.709185",
          "status": "completed"
        },
        "tags": [],
        "id": "64dd7b30"
      },
      "source": [
        "You may have noticed that our directory contained another file:"
      ]
    },
    {
      "cell_type": "code",
      "execution_count": 19,
      "id": "53780c56",
      "metadata": {
        "execution": {
          "iopub.execute_input": "2022-05-16T23:18:56.029583Z",
          "iopub.status.busy": "2022-05-16T23:18:56.028954Z",
          "iopub.status.idle": "2022-05-16T23:18:56.049673Z",
          "shell.execute_reply": "2022-05-16T23:18:56.050181Z",
          "shell.execute_reply.started": "2022-04-19T22:50:40.055398Z"
        },
        "papermill": {
          "duration": 0.130433,
          "end_time": "2022-05-16T23:18:56.050339",
          "exception": false,
          "start_time": "2022-05-16T23:18:55.919906",
          "status": "completed"
        },
        "tags": [],
        "colab": {
          "base_uri": "https://localhost:8080/",
          "height": 175
        },
        "id": "53780c56",
        "outputId": "14c95881-6b2e-4816-8990-02a2dbbdd16a"
      },
      "outputs": [
        {
          "output_type": "execute_result",
          "data": {
            "text/plain": [
              "                      id      anchor                         target context\n",
              "count                 36          36                             36      36\n",
              "unique                36          34                             36      29\n",
              "top     4112d61851461f60  el display  inorganic photoconductor drum     G02\n",
              "freq                   1           2                              1       3"
            ],
            "text/html": [
              "\n",
              "  <div id=\"df-6b9dc8b0-02b1-4ea3-a930-b4469fe712e7\">\n",
              "    <div class=\"colab-df-container\">\n",
              "      <div>\n",
              "<style scoped>\n",
              "    .dataframe tbody tr th:only-of-type {\n",
              "        vertical-align: middle;\n",
              "    }\n",
              "\n",
              "    .dataframe tbody tr th {\n",
              "        vertical-align: top;\n",
              "    }\n",
              "\n",
              "    .dataframe thead th {\n",
              "        text-align: right;\n",
              "    }\n",
              "</style>\n",
              "<table border=\"1\" class=\"dataframe\">\n",
              "  <thead>\n",
              "    <tr style=\"text-align: right;\">\n",
              "      <th></th>\n",
              "      <th>id</th>\n",
              "      <th>anchor</th>\n",
              "      <th>target</th>\n",
              "      <th>context</th>\n",
              "    </tr>\n",
              "  </thead>\n",
              "  <tbody>\n",
              "    <tr>\n",
              "      <th>count</th>\n",
              "      <td>36</td>\n",
              "      <td>36</td>\n",
              "      <td>36</td>\n",
              "      <td>36</td>\n",
              "    </tr>\n",
              "    <tr>\n",
              "      <th>unique</th>\n",
              "      <td>36</td>\n",
              "      <td>34</td>\n",
              "      <td>36</td>\n",
              "      <td>29</td>\n",
              "    </tr>\n",
              "    <tr>\n",
              "      <th>top</th>\n",
              "      <td>4112d61851461f60</td>\n",
              "      <td>el display</td>\n",
              "      <td>inorganic photoconductor drum</td>\n",
              "      <td>G02</td>\n",
              "    </tr>\n",
              "    <tr>\n",
              "      <th>freq</th>\n",
              "      <td>1</td>\n",
              "      <td>2</td>\n",
              "      <td>1</td>\n",
              "      <td>3</td>\n",
              "    </tr>\n",
              "  </tbody>\n",
              "</table>\n",
              "</div>\n",
              "      <button class=\"colab-df-convert\" onclick=\"convertToInteractive('df-6b9dc8b0-02b1-4ea3-a930-b4469fe712e7')\"\n",
              "              title=\"Convert this dataframe to an interactive table.\"\n",
              "              style=\"display:none;\">\n",
              "        \n",
              "  <svg xmlns=\"http://www.w3.org/2000/svg\" height=\"24px\"viewBox=\"0 0 24 24\"\n",
              "       width=\"24px\">\n",
              "    <path d=\"M0 0h24v24H0V0z\" fill=\"none\"/>\n",
              "    <path d=\"M18.56 5.44l.94 2.06.94-2.06 2.06-.94-2.06-.94-.94-2.06-.94 2.06-2.06.94zm-11 1L8.5 8.5l.94-2.06 2.06-.94-2.06-.94L8.5 2.5l-.94 2.06-2.06.94zm10 10l.94 2.06.94-2.06 2.06-.94-2.06-.94-.94-2.06-.94 2.06-2.06.94z\"/><path d=\"M17.41 7.96l-1.37-1.37c-.4-.4-.92-.59-1.43-.59-.52 0-1.04.2-1.43.59L10.3 9.45l-7.72 7.72c-.78.78-.78 2.05 0 2.83L4 21.41c.39.39.9.59 1.41.59.51 0 1.02-.2 1.41-.59l7.78-7.78 2.81-2.81c.8-.78.8-2.07 0-2.86zM5.41 20L4 18.59l7.72-7.72 1.47 1.35L5.41 20z\"/>\n",
              "  </svg>\n",
              "      </button>\n",
              "      \n",
              "  <style>\n",
              "    .colab-df-container {\n",
              "      display:flex;\n",
              "      flex-wrap:wrap;\n",
              "      gap: 12px;\n",
              "    }\n",
              "\n",
              "    .colab-df-convert {\n",
              "      background-color: #E8F0FE;\n",
              "      border: none;\n",
              "      border-radius: 50%;\n",
              "      cursor: pointer;\n",
              "      display: none;\n",
              "      fill: #1967D2;\n",
              "      height: 32px;\n",
              "      padding: 0 0 0 0;\n",
              "      width: 32px;\n",
              "    }\n",
              "\n",
              "    .colab-df-convert:hover {\n",
              "      background-color: #E2EBFA;\n",
              "      box-shadow: 0px 1px 2px rgba(60, 64, 67, 0.3), 0px 1px 3px 1px rgba(60, 64, 67, 0.15);\n",
              "      fill: #174EA6;\n",
              "    }\n",
              "\n",
              "    [theme=dark] .colab-df-convert {\n",
              "      background-color: #3B4455;\n",
              "      fill: #D2E3FC;\n",
              "    }\n",
              "\n",
              "    [theme=dark] .colab-df-convert:hover {\n",
              "      background-color: #434B5C;\n",
              "      box-shadow: 0px 1px 3px 1px rgba(0, 0, 0, 0.15);\n",
              "      filter: drop-shadow(0px 1px 2px rgba(0, 0, 0, 0.3));\n",
              "      fill: #FFFFFF;\n",
              "    }\n",
              "  </style>\n",
              "\n",
              "      <script>\n",
              "        const buttonEl =\n",
              "          document.querySelector('#df-6b9dc8b0-02b1-4ea3-a930-b4469fe712e7 button.colab-df-convert');\n",
              "        buttonEl.style.display =\n",
              "          google.colab.kernel.accessAllowed ? 'block' : 'none';\n",
              "\n",
              "        async function convertToInteractive(key) {\n",
              "          const element = document.querySelector('#df-6b9dc8b0-02b1-4ea3-a930-b4469fe712e7');\n",
              "          const dataTable =\n",
              "            await google.colab.kernel.invokeFunction('convertToInteractive',\n",
              "                                                     [key], {});\n",
              "          if (!dataTable) return;\n",
              "\n",
              "          const docLinkHtml = 'Like what you see? Visit the ' +\n",
              "            '<a target=\"_blank\" href=https://colab.research.google.com/notebooks/data_table.ipynb>data table notebook</a>'\n",
              "            + ' to learn more about interactive tables.';\n",
              "          element.innerHTML = '';\n",
              "          dataTable['output_type'] = 'display_data';\n",
              "          await google.colab.output.renderOutput(dataTable, element);\n",
              "          const docLink = document.createElement('div');\n",
              "          docLink.innerHTML = docLinkHtml;\n",
              "          element.appendChild(docLink);\n",
              "        }\n",
              "      </script>\n",
              "    </div>\n",
              "  </div>\n",
              "  "
            ]
          },
          "metadata": {},
          "execution_count": 19
        }
      ],
      "source": [
        "eval_df = pd.read_csv('test.csv')\n",
        "eval_df.describe()"
      ]
    },
    {
      "cell_type": "markdown",
      "id": "b72de683",
      "metadata": {
        "papermill": {
          "duration": 0.093872,
          "end_time": "2022-05-16T23:18:56.237423",
          "exception": false,
          "start_time": "2022-05-16T23:18:56.143551",
          "status": "completed"
        },
        "tags": [],
        "id": "b72de683"
      },
      "source": [
        "This is the *test set*. Possibly the most important idea in machine learning is that of having separate training, validation, and test data sets."
      ]
    },
    {
      "cell_type": "markdown",
      "id": "c80d0906",
      "metadata": {
        "heading_collapsed": true,
        "papermill": {
          "duration": 0.091766,
          "end_time": "2022-05-16T23:18:56.421195",
          "exception": false,
          "start_time": "2022-05-16T23:18:56.329429",
          "status": "completed"
        },
        "tags": [],
        "id": "c80d0906"
      },
      "source": [
        "### Validation set"
      ]
    },
    {
      "cell_type": "code",
      "execution_count": 21,
      "id": "b8b1e366",
      "metadata": {
        "execution": {
          "iopub.execute_input": "2022-05-16T23:19:02.734895Z",
          "iopub.status.busy": "2022-05-16T23:19:02.734114Z",
          "iopub.status.idle": "2022-05-16T23:19:02.754237Z",
          "shell.execute_reply": "2022-05-16T23:19:02.754678Z",
          "shell.execute_reply.started": "2022-04-19T22:50:42.182674Z"
        },
        "hidden": true,
        "papermill": {
          "duration": 0.122148,
          "end_time": "2022-05-16T23:19:02.754828",
          "exception": false,
          "start_time": "2022-05-16T23:19:02.632680",
          "status": "completed"
        },
        "tags": [],
        "colab": {
          "base_uri": "https://localhost:8080/"
        },
        "id": "b8b1e366",
        "outputId": "0102514c-bd48-4cfb-9cee-8cb4ea164489"
      },
      "outputs": [
        {
          "output_type": "execute_result",
          "data": {
            "text/plain": [
              "DatasetDict({\n",
              "    train: Dataset({\n",
              "        features: ['id', 'anchor', 'target', 'context', 'labels', 'input', 'input_ids', 'token_type_ids', 'attention_mask'],\n",
              "        num_rows: 27354\n",
              "    })\n",
              "    test: Dataset({\n",
              "        features: ['id', 'anchor', 'target', 'context', 'labels', 'input', 'input_ids', 'token_type_ids', 'attention_mask'],\n",
              "        num_rows: 9119\n",
              "    })\n",
              "})"
            ]
          },
          "metadata": {},
          "execution_count": 21
        }
      ],
      "source": [
        "dds = tok_ds.train_test_split(0.25, seed=42)\n",
        "dds"
      ]
    },
    {
      "cell_type": "markdown",
      "id": "776f4394",
      "metadata": {
        "hidden": true,
        "papermill": {
          "duration": 0.096073,
          "end_time": "2022-05-16T23:19:02.948686",
          "exception": false,
          "start_time": "2022-05-16T23:19:02.852613",
          "status": "completed"
        },
        "tags": [],
        "id": "776f4394"
      },
      "source": [
        "As you see above, the validation set here is called `test` and not `validate`, so be careful!\n",
        "\n",
        "In practice, a random split like we've used here might not be a good idea -- here's what Dr Rachel Thomas has to say about it:\n",
        "\n",
        "> \"*One of the most likely culprits for this disconnect between results in development vs results in production is a poorly chosen validation set (or even worse, no validation set at all). Depending on the nature of your data, choosing a validation set can be the most important step. Although sklearn offers a `train_test_split` method, this method takes a random subset of the data, which is a poor choice for many real-world problems.*\"\n",
        "\n",
        "I strongly recommend reading her article [How (and why) to create a good validation set](https://www.fast.ai/2017/11/13/validation-sets/) to more fully understand this critical topic."
      ]
    },
    {
      "cell_type": "markdown",
      "id": "dc1f53c9",
      "metadata": {
        "heading_collapsed": true,
        "papermill": {
          "duration": 0.096584,
          "end_time": "2022-05-16T23:19:03.142638",
          "exception": false,
          "start_time": "2022-05-16T23:19:03.046054",
          "status": "completed"
        },
        "tags": [],
        "id": "dc1f53c9"
      },
      "source": [
        "### Test set"
      ]
    },
    {
      "cell_type": "markdown",
      "id": "e665eb75",
      "metadata": {
        "hidden": true,
        "papermill": {
          "duration": 0.10414,
          "end_time": "2022-05-16T23:19:03.343573",
          "exception": false,
          "start_time": "2022-05-16T23:19:03.239433",
          "status": "completed"
        },
        "tags": [],
        "id": "e665eb75"
      },
      "source": [
        "So that's the validation set explained, and created. What about the \"test set\" then -- what's that for?\n",
        "\n",
        "The *test set* is yet another dataset that's held out from training. But it's held out from reporting metrics too! The accuracy of your model on the test set is only ever checked after you've completed your entire training process, including trying different models, training methods, data processing, etc.\n",
        "\n",
        "You see, as you try all these different things, to see their impact on the metrics on the validation set, you might just accidentally find a few things that entirely coincidentally improve your validation set metrics, but aren't really better in practice. Given enough time and experiments, you'll find lots of these coincidental improvements. That means you're actually over-fitting to your validation set!\n",
        "\n",
        "That's why we keep a test set held back. Kaggle's public leaderboard is like a test set that you can check from time to time. But don't check too often, or you'll be even over-fitting to the test set!\n",
        "\n",
        "Kaggle has a *second* test set, which is yet another held-out dataset that's only used at the *end* of the competition to assess your predictions. That's called the \"private leaderboard\". Here's a [great post](https://gregpark.io/blog/Kaggle-Psychopathy-Postmortem/) about what can happen if you overfit to the public leaderboard.\n",
        "\n",
        "We'll use `eval` as our name for the test set, to avoid confusion with the `test` dataset that was created above."
      ]
    },
    {
      "cell_type": "code",
      "execution_count": 22,
      "id": "3a064b7f",
      "metadata": {
        "execution": {
          "iopub.execute_input": "2022-05-16T23:19:03.544188Z",
          "iopub.status.busy": "2022-05-16T23:19:03.543651Z",
          "iopub.status.idle": "2022-05-16T23:19:04.825203Z",
          "shell.execute_reply": "2022-05-16T23:19:04.823967Z",
          "shell.execute_reply.started": "2022-04-19T22:50:42.209113Z"
        },
        "hidden": true,
        "papermill": {
          "duration": 1.38502,
          "end_time": "2022-05-16T23:19:04.825395",
          "exception": false,
          "start_time": "2022-05-16T23:19:03.440375",
          "status": "completed"
        },
        "tags": [],
        "colab": {
          "base_uri": "https://localhost:8080/",
          "height": 49,
          "referenced_widgets": [
            "63e4108955724f91bdd1fc8023d97af9",
            "40093b45fb274065b1a4c211cca16a50",
            "c4f7d2a3ed3448dca51b4d7d7986d46d",
            "cdcf53ff4cb44cacaa227ff2ad8e981d",
            "80b5fcd005e44c7fbee655d6244aab3d",
            "bb8d356a2c9d4045b2c9ce89479d23dc",
            "52795a2b9fb047e795ffe1b343bcb7ce",
            "2318226efa254a658cc44478105e42fe",
            "c403968bec544f8ab079d2b0f67a1172",
            "aa409fad5dfa423bac6c984ab312e995",
            "ba50cea20989430ea550aeef26581827"
          ]
        },
        "id": "3a064b7f",
        "outputId": "9986eec0-d785-4f68-905d-2d7200c23b2f"
      },
      "outputs": [
        {
          "output_type": "display_data",
          "data": {
            "text/plain": [
              "  0%|          | 0/1 [00:00<?, ?ba/s]"
            ],
            "application/vnd.jupyter.widget-view+json": {
              "version_major": 2,
              "version_minor": 0,
              "model_id": "63e4108955724f91bdd1fc8023d97af9"
            }
          },
          "metadata": {}
        }
      ],
      "source": [
        "eval_df['input'] = 'TEXT1: ' + eval_df.context + '; TEXT2: ' + eval_df.target + '; ANC1: ' + eval_df.anchor\n",
        "eval_ds = Dataset.from_pandas(eval_df).map(tok_func, batched=True)"
      ]
    },
    {
      "cell_type": "markdown",
      "id": "a782e55e",
      "metadata": {
        "heading_collapsed": true,
        "papermill": {
          "duration": 0.109004,
          "end_time": "2022-05-16T23:19:05.050664",
          "exception": false,
          "start_time": "2022-05-16T23:19:04.941660",
          "status": "completed"
        },
        "tags": [],
        "id": "a782e55e"
      },
      "source": [
        "## Metrics and correlation"
      ]
    },
    {
      "cell_type": "markdown",
      "id": "afde9fc3",
      "metadata": {
        "hidden": true,
        "papermill": {
          "duration": 0.097068,
          "end_time": "2022-05-16T23:19:05.244731",
          "exception": false,
          "start_time": "2022-05-16T23:19:05.147663",
          "status": "completed"
        },
        "tags": [],
        "id": "afde9fc3"
      },
      "source": [
        "When we're training a model, there will be one or more *metrics* that we're interested in maximising or minimising. These are the measurements that should, hopefully, represent how well our model will works for us.\n",
        "\n",
        "In real life, outside of Kaggle, things not easy... As my partner Dr Rachel Thomas notes in [The problem with metrics is a big problem for AI](https://www.fast.ai/2019/09/24/metrics/):\n",
        "\n",
        ">  At their heart, what most current AI approaches do is to optimize metrics. The practice of optimizing metrics is not new nor unique to AI, yet AI can be particularly efficient (even too efficient!) at doing so. This is important to understand, because any risks of optimizing metrics are heightened by AI. While metrics can be useful in their proper place, there are harms when they are unthinkingly applied. Some of the scariest instances of algorithms run amok all result from over-emphasizing metrics. We have to understand this dynamic in order to understand the urgent risks we are facing due to misuse of AI.\n",
        "\n",
        "In Kaggle, however, it's very straightforward to know what metric to use: Kaggle will tell you! According to this competition's [evaluation page](https://www.kaggle.com/competitions/us-patent-phrase-to-phrase-matching/overview/evaluation), \"*submissions are evaluated on the [Pearson correlation coefficient](https://en.wikipedia.org/wiki/Pearson_correlation_coefficient) between the predicted and actual similarity scores*.\" This coefficient is usually abbreviated using the single letter *r*. It is the most widely used measure of the degree of relationship between two variables.\n",
        "\n",
        "r can vary between `-1`, which means perfect inverse correlation, and `+1`, which means perfect positive correlation. The mathematical formula for it is much less important than getting a good intuition for what the different values look like. To start to get that intuition, let's look at some examples using the [California Housing](https://scikit-learn.org/stable/datasets/real_world.html#california-housing-dataset) dataset, which shows \"*is the median house value for California districts, expressed in hundreds of thousands of dollars*\". This dataset is provided by the excellent [scikit-learn](https://scikit-learn.org/stable/) library, which is the most widely used library for machine learning outside of deep learning."
      ]
    },
    {
      "cell_type": "code",
      "source": [
        "def corr_d(eval_pred): return {'pearson': corr(*eval_pred)}\n"
      ],
      "metadata": {
        "id": "GFzvVOFvS_TP"
      },
      "id": "GFzvVOFvS_TP",
      "execution_count": 27,
      "outputs": []
    },
    {
      "cell_type": "markdown",
      "id": "ed983c51",
      "metadata": {
        "papermill": {
          "duration": 0.102797,
          "end_time": "2022-05-16T23:19:13.819824",
          "exception": false,
          "start_time": "2022-05-16T23:19:13.717027",
          "status": "completed"
        },
        "tags": [],
        "id": "ed983c51"
      },
      "source": [
        "## Training"
      ]
    },
    {
      "cell_type": "markdown",
      "id": "352007a6",
      "metadata": {
        "papermill": {
          "duration": 0.118052,
          "end_time": "2022-05-16T23:19:14.047292",
          "exception": false,
          "start_time": "2022-05-16T23:19:13.929240",
          "status": "completed"
        },
        "tags": [],
        "id": "352007a6"
      },
      "source": [
        "## Training our model"
      ]
    },
    {
      "cell_type": "markdown",
      "id": "7cc0a49a",
      "metadata": {
        "papermill": {
          "duration": 0.102335,
          "end_time": "2022-05-16T23:19:14.253540",
          "exception": false,
          "start_time": "2022-05-16T23:19:14.151205",
          "status": "completed"
        },
        "tags": [],
        "id": "7cc0a49a"
      },
      "source": [
        "To train a model in Transformers we'll need this:"
      ]
    },
    {
      "cell_type": "code",
      "execution_count": 23,
      "id": "811f584f",
      "metadata": {
        "execution": {
          "iopub.execute_input": "2022-05-16T23:19:14.466565Z",
          "iopub.status.busy": "2022-05-16T23:19:14.465852Z",
          "iopub.status.idle": "2022-05-16T23:19:18.918169Z",
          "shell.execute_reply": "2022-05-16T23:19:18.917243Z",
          "shell.execute_reply.started": "2022-04-19T22:50:46.722181Z"
        },
        "papermill": {
          "duration": 4.55931,
          "end_time": "2022-05-16T23:19:18.918306",
          "exception": false,
          "start_time": "2022-05-16T23:19:14.358996",
          "status": "completed"
        },
        "tags": [],
        "id": "811f584f"
      },
      "outputs": [],
      "source": [
        "from transformers import TrainingArguments,Trainer"
      ]
    },
    {
      "cell_type": "markdown",
      "id": "bef40f65",
      "metadata": {
        "papermill": {
          "duration": 0.103363,
          "end_time": "2022-05-16T23:19:19.125535",
          "exception": false,
          "start_time": "2022-05-16T23:19:19.022172",
          "status": "completed"
        },
        "tags": [],
        "id": "bef40f65"
      },
      "source": [
        "We pick a batch size that fits our GPU, and small number of epochs so we can run experiments quickly:"
      ]
    },
    {
      "cell_type": "code",
      "execution_count": 24,
      "id": "9a7f73b8",
      "metadata": {
        "execution": {
          "iopub.execute_input": "2022-05-16T23:19:19.336295Z",
          "iopub.status.busy": "2022-05-16T23:19:19.334700Z",
          "iopub.status.idle": "2022-05-16T23:19:19.336896Z",
          "shell.execute_reply": "2022-05-16T23:19:19.337294Z",
          "shell.execute_reply.started": "2022-04-19T22:50:50.493351Z"
        },
        "papermill": {
          "duration": 0.109762,
          "end_time": "2022-05-16T23:19:19.337450",
          "exception": false,
          "start_time": "2022-05-16T23:19:19.227688",
          "status": "completed"
        },
        "tags": [],
        "id": "9a7f73b8"
      },
      "outputs": [],
      "source": [
        "bs = 128\n",
        "epochs = 4"
      ]
    },
    {
      "cell_type": "markdown",
      "id": "1b9defba",
      "metadata": {
        "papermill": {
          "duration": 0.104127,
          "end_time": "2022-05-16T23:19:19.544960",
          "exception": false,
          "start_time": "2022-05-16T23:19:19.440833",
          "status": "completed"
        },
        "tags": [],
        "id": "1b9defba"
      },
      "source": [
        "The most important hyperparameter is the learning rate. fastai provides a learning rate finder to help you figure this out, but Transformers doesn't, so you'll just have to use trial and error. The idea is to find the largest value you can, but which doesn't result in training failing."
      ]
    },
    {
      "cell_type": "code",
      "execution_count": 25,
      "id": "95d56aa8",
      "metadata": {
        "execution": {
          "iopub.execute_input": "2022-05-16T23:19:19.756018Z",
          "iopub.status.busy": "2022-05-16T23:19:19.755174Z",
          "iopub.status.idle": "2022-05-16T23:19:19.757522Z",
          "shell.execute_reply": "2022-05-16T23:19:19.756988Z",
          "shell.execute_reply.started": "2022-04-19T22:50:50.499493Z"
        },
        "papermill": {
          "duration": 0.109843,
          "end_time": "2022-05-16T23:19:19.757641",
          "exception": false,
          "start_time": "2022-05-16T23:19:19.647798",
          "status": "completed"
        },
        "tags": [],
        "id": "95d56aa8"
      },
      "outputs": [],
      "source": [
        "lr = 8e-5"
      ]
    },
    {
      "cell_type": "markdown",
      "id": "456eba4a",
      "metadata": {
        "papermill": {
          "duration": 0.104473,
          "end_time": "2022-05-16T23:19:19.964659",
          "exception": false,
          "start_time": "2022-05-16T23:19:19.860186",
          "status": "completed"
        },
        "tags": [],
        "id": "456eba4a"
      },
      "source": [
        "Transformers uses the `TrainingArguments` class to set up arguments. Don't worry too much about the values we're using here -- they should generally work fine in most cases. It's just the 3 parameters above that you may need to change for different models."
      ]
    },
    {
      "cell_type": "code",
      "execution_count": 26,
      "id": "e009173f",
      "metadata": {
        "execution": {
          "iopub.execute_input": "2022-05-16T23:19:20.241601Z",
          "iopub.status.busy": "2022-05-16T23:19:20.178470Z",
          "iopub.status.idle": "2022-05-16T23:19:20.247751Z",
          "shell.execute_reply": "2022-05-16T23:19:20.247289Z",
          "shell.execute_reply.started": "2022-04-19T22:50:50.511653Z"
        },
        "papermill": {
          "duration": 0.178531,
          "end_time": "2022-05-16T23:19:20.247877",
          "exception": false,
          "start_time": "2022-05-16T23:19:20.069346",
          "status": "completed"
        },
        "tags": [],
        "id": "e009173f"
      },
      "outputs": [],
      "source": [
        "args = TrainingArguments('outputs', learning_rate=lr, warmup_ratio=0.1, lr_scheduler_type='cosine', fp16=True,\n",
        "    evaluation_strategy=\"epoch\", per_device_train_batch_size=bs, per_device_eval_batch_size=bs*2,\n",
        "    num_train_epochs=epochs, weight_decay=0.01, report_to='none')"
      ]
    },
    {
      "cell_type": "markdown",
      "id": "c6f09673",
      "metadata": {
        "papermill": {
          "duration": 0.10325,
          "end_time": "2022-05-16T23:19:20.455326",
          "exception": false,
          "start_time": "2022-05-16T23:19:20.352076",
          "status": "completed"
        },
        "tags": [],
        "id": "c6f09673"
      },
      "source": [
        "We can now create our model, and `Trainer`, which is a class which combines the data and model together (just like `Learner` in fastai):"
      ]
    },
    {
      "cell_type": "code",
      "source": [
        "def corr(x,y): return np.corrcoef(x,y)[0][1]\n"
      ],
      "metadata": {
        "id": "hyCIS3E3Teb-"
      },
      "id": "hyCIS3E3Teb-",
      "execution_count": 30,
      "outputs": []
    },
    {
      "cell_type": "code",
      "execution_count": 31,
      "id": "c242e16d",
      "metadata": {
        "execution": {
          "iopub.execute_input": "2022-05-16T23:19:20.669564Z",
          "iopub.status.busy": "2022-05-16T23:19:20.668967Z",
          "iopub.status.idle": "2022-05-16T23:19:41.632888Z",
          "shell.execute_reply": "2022-05-16T23:19:41.632215Z",
          "shell.execute_reply.started": "2022-04-19T22:50:50.57276Z"
        },
        "papermill": {
          "duration": 21.075395,
          "end_time": "2022-05-16T23:19:41.633043",
          "exception": false,
          "start_time": "2022-05-16T23:19:20.557648",
          "status": "completed"
        },
        "tags": [],
        "colab": {
          "base_uri": "https://localhost:8080/"
        },
        "id": "c242e16d",
        "outputId": "f9eaf983-ceaf-4794-8092-867908c10490"
      },
      "outputs": [
        {
          "output_type": "stream",
          "name": "stderr",
          "text": [
            "loading configuration file config.json from cache at /root/.cache/huggingface/hub/models--microsoft--deberta-v3-small/snapshots/a36c739020e01763fe789b4b85e2df55d6180012/config.json\n",
            "Model config DebertaV2Config {\n",
            "  \"_name_or_path\": \"microsoft/deberta-v3-small\",\n",
            "  \"attention_probs_dropout_prob\": 0.1,\n",
            "  \"hidden_act\": \"gelu\",\n",
            "  \"hidden_dropout_prob\": 0.1,\n",
            "  \"hidden_size\": 768,\n",
            "  \"id2label\": {\n",
            "    \"0\": \"LABEL_0\"\n",
            "  },\n",
            "  \"initializer_range\": 0.02,\n",
            "  \"intermediate_size\": 3072,\n",
            "  \"label2id\": {\n",
            "    \"LABEL_0\": 0\n",
            "  },\n",
            "  \"layer_norm_eps\": 1e-07,\n",
            "  \"max_position_embeddings\": 512,\n",
            "  \"max_relative_positions\": -1,\n",
            "  \"model_type\": \"deberta-v2\",\n",
            "  \"norm_rel_ebd\": \"layer_norm\",\n",
            "  \"num_attention_heads\": 12,\n",
            "  \"num_hidden_layers\": 6,\n",
            "  \"pad_token_id\": 0,\n",
            "  \"pooler_dropout\": 0,\n",
            "  \"pooler_hidden_act\": \"gelu\",\n",
            "  \"pooler_hidden_size\": 768,\n",
            "  \"pos_att_type\": [\n",
            "    \"p2c\",\n",
            "    \"c2p\"\n",
            "  ],\n",
            "  \"position_biased_input\": false,\n",
            "  \"position_buckets\": 256,\n",
            "  \"relative_attention\": true,\n",
            "  \"share_att_key\": true,\n",
            "  \"transformers_version\": \"4.24.0\",\n",
            "  \"type_vocab_size\": 0,\n",
            "  \"vocab_size\": 128100\n",
            "}\n",
            "\n",
            "loading weights file pytorch_model.bin from cache at /root/.cache/huggingface/hub/models--microsoft--deberta-v3-small/snapshots/a36c739020e01763fe789b4b85e2df55d6180012/pytorch_model.bin\n",
            "Some weights of the model checkpoint at microsoft/deberta-v3-small were not used when initializing DebertaV2ForSequenceClassification: ['lm_predictions.lm_head.bias', 'mask_predictions.dense.weight', 'mask_predictions.LayerNorm.bias', 'lm_predictions.lm_head.LayerNorm.bias', 'lm_predictions.lm_head.dense.weight', 'lm_predictions.lm_head.dense.bias', 'mask_predictions.classifier.bias', 'mask_predictions.LayerNorm.weight', 'mask_predictions.dense.bias', 'lm_predictions.lm_head.LayerNorm.weight', 'mask_predictions.classifier.weight']\n",
            "- This IS expected if you are initializing DebertaV2ForSequenceClassification from the checkpoint of a model trained on another task or with another architecture (e.g. initializing a BertForSequenceClassification model from a BertForPreTraining model).\n",
            "- This IS NOT expected if you are initializing DebertaV2ForSequenceClassification from the checkpoint of a model that you expect to be exactly identical (initializing a BertForSequenceClassification model from a BertForSequenceClassification model).\n",
            "Some weights of DebertaV2ForSequenceClassification were not initialized from the model checkpoint at microsoft/deberta-v3-small and are newly initialized: ['classifier.weight', 'pooler.dense.bias', 'pooler.dense.weight', 'classifier.bias']\n",
            "You should probably TRAIN this model on a down-stream task to be able to use it for predictions and inference.\n",
            "Using cuda_amp half precision backend\n"
          ]
        }
      ],
      "source": [
        "model = AutoModelForSequenceClassification.from_pretrained(model_nm, num_labels=1)\n",
        "trainer = Trainer(model, args, train_dataset=dds['train'], eval_dataset=dds['test'],\n",
        "                  tokenizer=tokz, compute_metrics=corr_d)"
      ]
    },
    {
      "cell_type": "markdown",
      "id": "e88b0728",
      "metadata": {
        "papermill": {
          "duration": 0.103838,
          "end_time": "2022-05-16T23:19:41.843310",
          "exception": false,
          "start_time": "2022-05-16T23:19:41.739472",
          "status": "completed"
        },
        "tags": [],
        "id": "e88b0728"
      },
      "source": [
        "As you see, Transformers spits out lots of warnings. You can safely ignore them.\n",
        "\n",
        "Let's train our model!"
      ]
    },
    {
      "cell_type": "code",
      "source": [
        "import numpy as np"
      ],
      "metadata": {
        "id": "qp94qIsLTxtV"
      },
      "id": "qp94qIsLTxtV",
      "execution_count": 33,
      "outputs": []
    },
    {
      "cell_type": "code",
      "execution_count": 34,
      "id": "1a8f21fc",
      "metadata": {
        "execution": {
          "iopub.execute_input": "2022-05-16T23:19:42.058507Z",
          "iopub.status.busy": "2022-05-16T23:19:42.057901Z",
          "iopub.status.idle": "2022-05-16T23:24:41.844317Z",
          "shell.execute_reply": "2022-05-16T23:24:41.843875Z",
          "shell.execute_reply.started": "2022-04-19T22:51:06.370314Z"
        },
        "papermill": {
          "duration": 299.896532,
          "end_time": "2022-05-16T23:24:41.844469",
          "exception": false,
          "start_time": "2022-05-16T23:19:41.947937",
          "status": "completed"
        },
        "tags": [],
        "colab": {
          "base_uri": "https://localhost:8080/",
          "height": 907
        },
        "id": "1a8f21fc",
        "outputId": "21eb0a28-055f-4e57-ac63-6f9d6ed7d847"
      },
      "outputs": [
        {
          "output_type": "stream",
          "name": "stderr",
          "text": [
            "The following columns in the training set don't have a corresponding argument in `DebertaV2ForSequenceClassification.forward` and have been ignored: context, input, target, id, anchor. If context, input, target, id, anchor are not expected by `DebertaV2ForSequenceClassification.forward`,  you can safely ignore this message.\n",
            "***** Running training *****\n",
            "  Num examples = 27354\n",
            "  Num Epochs = 4\n",
            "  Instantaneous batch size per device = 128\n",
            "  Total train batch size (w. parallel, distributed & accumulation) = 128\n",
            "  Gradient Accumulation steps = 1\n",
            "  Total optimization steps = 856\n",
            "  Number of trainable parameters = 141895681\n"
          ]
        },
        {
          "output_type": "display_data",
          "data": {
            "text/plain": [
              "<IPython.core.display.HTML object>"
            ],
            "text/html": [
              "\n",
              "    <div>\n",
              "      \n",
              "      <progress value='856' max='856' style='width:300px; height:20px; vertical-align: middle;'></progress>\n",
              "      [856/856 03:37, Epoch 4/4]\n",
              "    </div>\n",
              "    <table border=\"1\" class=\"dataframe\">\n",
              "  <thead>\n",
              " <tr style=\"text-align: left;\">\n",
              "      <th>Epoch</th>\n",
              "      <th>Training Loss</th>\n",
              "      <th>Validation Loss</th>\n",
              "      <th>Pearson</th>\n",
              "    </tr>\n",
              "  </thead>\n",
              "  <tbody>\n",
              "    <tr>\n",
              "      <td>1</td>\n",
              "      <td>No log</td>\n",
              "      <td>0.024078</td>\n",
              "      <td>0.819462</td>\n",
              "    </tr>\n",
              "    <tr>\n",
              "      <td>2</td>\n",
              "      <td>No log</td>\n",
              "      <td>0.021759</td>\n",
              "      <td>0.832181</td>\n",
              "    </tr>\n",
              "    <tr>\n",
              "      <td>3</td>\n",
              "      <td>0.017600</td>\n",
              "      <td>0.022517</td>\n",
              "      <td>0.833143</td>\n",
              "    </tr>\n",
              "    <tr>\n",
              "      <td>4</td>\n",
              "      <td>0.017600</td>\n",
              "      <td>0.023073</td>\n",
              "      <td>0.833946</td>\n",
              "    </tr>\n",
              "  </tbody>\n",
              "</table><p>"
            ]
          },
          "metadata": {}
        },
        {
          "output_type": "stream",
          "name": "stderr",
          "text": [
            "The following columns in the evaluation set don't have a corresponding argument in `DebertaV2ForSequenceClassification.forward` and have been ignored: context, input, target, id, anchor. If context, input, target, id, anchor are not expected by `DebertaV2ForSequenceClassification.forward`,  you can safely ignore this message.\n",
            "***** Running Evaluation *****\n",
            "  Num examples = 9119\n",
            "  Batch size = 256\n"
          ]
        },
        {
          "output_type": "display_data",
          "data": {
            "text/plain": [
              "<IPython.core.display.HTML object>"
            ],
            "text/html": [
              "\n",
              "    <div>\n",
              "      \n",
              "      <progress value='215' max='856' style='width:300px; height:20px; vertical-align: middle;'></progress>\n",
              "      [215/856 00:47 < 02:22, 4.49 it/s, Epoch 1/4]\n",
              "    </div>\n",
              "    <table border=\"1\" class=\"dataframe\">\n",
              "  <thead>\n",
              " <tr style=\"text-align: left;\">\n",
              "      <th>Epoch</th>\n",
              "      <th>Training Loss</th>\n",
              "      <th>Validation Loss</th>\n",
              "    </tr>\n",
              "  </thead>\n",
              "  <tbody>\n",
              "  </tbody>\n",
              "</table><p>\n",
              "    <div>\n",
              "      \n",
              "      <progress value='72' max='36' style='width:300px; height:20px; vertical-align: middle;'></progress>\n",
              "      [36/36 01:19]\n",
              "    </div>\n",
              "    "
            ]
          },
          "metadata": {}
        },
        {
          "output_type": "stream",
          "name": "stderr",
          "text": [
            "The following columns in the evaluation set don't have a corresponding argument in `DebertaV2ForSequenceClassification.forward` and have been ignored: context, input, target, id, anchor. If context, input, target, id, anchor are not expected by `DebertaV2ForSequenceClassification.forward`,  you can safely ignore this message.\n",
            "***** Running Evaluation *****\n",
            "  Num examples = 9119\n",
            "  Batch size = 256\n",
            "Saving model checkpoint to outputs/checkpoint-500\n",
            "Configuration saved in outputs/checkpoint-500/config.json\n",
            "Model weights saved in outputs/checkpoint-500/pytorch_model.bin\n",
            "tokenizer config file saved in outputs/checkpoint-500/tokenizer_config.json\n",
            "Special tokens file saved in outputs/checkpoint-500/special_tokens_map.json\n",
            "The following columns in the evaluation set don't have a corresponding argument in `DebertaV2ForSequenceClassification.forward` and have been ignored: context, input, target, id, anchor. If context, input, target, id, anchor are not expected by `DebertaV2ForSequenceClassification.forward`,  you can safely ignore this message.\n",
            "***** Running Evaluation *****\n",
            "  Num examples = 9119\n",
            "  Batch size = 256\n",
            "The following columns in the evaluation set don't have a corresponding argument in `DebertaV2ForSequenceClassification.forward` and have been ignored: context, input, target, id, anchor. If context, input, target, id, anchor are not expected by `DebertaV2ForSequenceClassification.forward`,  you can safely ignore this message.\n",
            "***** Running Evaluation *****\n",
            "  Num examples = 9119\n",
            "  Batch size = 256\n",
            "\n",
            "\n",
            "Training completed. Do not forget to share your model on huggingface.co/models =)\n",
            "\n",
            "\n"
          ]
        }
      ],
      "source": [
        "trainer.train();"
      ]
    },
    {
      "cell_type": "markdown",
      "id": "f71e4a43",
      "metadata": {
        "papermill": {
          "duration": 0.128839,
          "end_time": "2022-05-16T23:24:42.089146",
          "exception": false,
          "start_time": "2022-05-16T23:24:41.960307",
          "status": "completed"
        },
        "tags": [],
        "id": "f71e4a43"
      },
      "source": [
        "Lots more warning from Transformers again -- you can ignore these as before.\n",
        "\n",
        "The key thing to look at is the \"Pearson\" value in table above. As you see, it's increasing, and is already above 0.8. That's great news! We can now submit our predictions to Kaggle if we want them to be scored on the official leaderboard. Let's get some predictions on the test set:"
      ]
    },
    {
      "cell_type": "code",
      "execution_count": 35,
      "id": "cc9ff8a9",
      "metadata": {
        "execution": {
          "iopub.execute_input": "2022-05-16T23:24:42.337547Z",
          "iopub.status.busy": "2022-05-16T23:24:42.336666Z",
          "iopub.status.idle": "2022-05-16T23:24:42.387175Z",
          "shell.execute_reply": "2022-05-16T23:24:42.387621Z",
          "shell.execute_reply.started": "2022-04-19T22:56:03.886175Z"
        },
        "papermill": {
          "duration": 0.176198,
          "end_time": "2022-05-16T23:24:42.387780",
          "exception": false,
          "start_time": "2022-05-16T23:24:42.211582",
          "status": "completed"
        },
        "tags": [],
        "colab": {
          "base_uri": "https://localhost:8080/",
          "height": 731
        },
        "id": "cc9ff8a9",
        "outputId": "1fb14508-909f-497c-c5eb-bda277ab7c6d"
      },
      "outputs": [
        {
          "output_type": "stream",
          "name": "stderr",
          "text": [
            "The following columns in the test set don't have a corresponding argument in `DebertaV2ForSequenceClassification.forward` and have been ignored: context, input, target, id, anchor. If context, input, target, id, anchor are not expected by `DebertaV2ForSequenceClassification.forward`,  you can safely ignore this message.\n",
            "***** Running Prediction *****\n",
            "  Num examples = 36\n",
            "  Batch size = 256\n"
          ]
        },
        {
          "output_type": "display_data",
          "data": {
            "text/plain": [
              "<IPython.core.display.HTML object>"
            ],
            "text/html": []
          },
          "metadata": {}
        },
        {
          "output_type": "execute_result",
          "data": {
            "text/plain": [
              "array([[ 0.51367188],\n",
              "       [ 0.58740234],\n",
              "       [ 0.60595703],\n",
              "       [ 0.31103516],\n",
              "       [-0.04733276],\n",
              "       [ 0.56005859],\n",
              "       [ 0.54101562],\n",
              "       [-0.05160522],\n",
              "       [ 0.27490234],\n",
              "       [ 1.12207031],\n",
              "       [ 0.28295898],\n",
              "       [ 0.22460938],\n",
              "       [ 0.73339844],\n",
              "       [ 0.95361328],\n",
              "       [ 0.73974609],\n",
              "       [ 0.45581055],\n",
              "       [ 0.31713867],\n",
              "       [-0.0562439 ],\n",
              "       [ 0.65966797],\n",
              "       [ 0.37670898],\n",
              "       [ 0.55175781],\n",
              "       [ 0.22900391],\n",
              "       [ 0.12719727],\n",
              "       [ 0.22631836],\n",
              "       [ 0.59423828],\n",
              "       [-0.05130005],\n",
              "       [-0.05340576],\n",
              "       [-0.0501709 ],\n",
              "       [-0.05636597],\n",
              "       [ 0.66064453],\n",
              "       [ 0.3293457 ],\n",
              "       [-0.0196991 ],\n",
              "       [ 0.71826172],\n",
              "       [ 0.47290039],\n",
              "       [ 0.46020508],\n",
              "       [ 0.20178223]])"
            ]
          },
          "metadata": {},
          "execution_count": 35
        }
      ],
      "source": [
        "preds = trainer.predict(eval_ds).predictions.astype(float)\n",
        "preds"
      ]
    },
    {
      "cell_type": "markdown",
      "id": "e7f99fe2",
      "metadata": {
        "papermill": {
          "duration": 0.118083,
          "end_time": "2022-05-16T23:24:42.627541",
          "exception": false,
          "start_time": "2022-05-16T23:24:42.509458",
          "status": "completed"
        },
        "tags": [],
        "id": "e7f99fe2"
      },
      "source": [
        "Look out - some of our predictions are <0, or >1! This once again shows the value of remember to actually *look* at your data. Let's fix those out-of-bounds predictions:"
      ]
    },
    {
      "cell_type": "code",
      "execution_count": 36,
      "id": "87e31c26",
      "metadata": {
        "execution": {
          "iopub.execute_input": "2022-05-16T23:24:42.887528Z",
          "iopub.status.busy": "2022-05-16T23:24:42.886610Z",
          "iopub.status.idle": "2022-05-16T23:24:42.888262Z",
          "shell.execute_reply": "2022-05-16T23:24:42.888836Z",
          "shell.execute_reply.started": "2022-04-19T22:56:03.940986Z"
        },
        "papermill": {
          "duration": 0.130653,
          "end_time": "2022-05-16T23:24:42.888988",
          "exception": false,
          "start_time": "2022-05-16T23:24:42.758335",
          "status": "completed"
        },
        "tags": [],
        "id": "87e31c26"
      },
      "outputs": [],
      "source": [
        "preds = np.clip(preds, 0, 1)"
      ]
    },
    {
      "cell_type": "code",
      "execution_count": 37,
      "id": "73ce77ef",
      "metadata": {
        "execution": {
          "iopub.execute_input": "2022-05-16T23:24:43.130852Z",
          "iopub.status.busy": "2022-05-16T23:24:43.130226Z",
          "iopub.status.idle": "2022-05-16T23:24:43.133011Z",
          "shell.execute_reply": "2022-05-16T23:24:43.133433Z",
          "shell.execute_reply.started": "2022-04-19T22:56:03.946586Z"
        },
        "papermill": {
          "duration": 0.126485,
          "end_time": "2022-05-16T23:24:43.133567",
          "exception": false,
          "start_time": "2022-05-16T23:24:43.007082",
          "status": "completed"
        },
        "tags": [],
        "colab": {
          "base_uri": "https://localhost:8080/"
        },
        "id": "73ce77ef",
        "outputId": "800fd366-0560-4e65-a455-6af42cbd8c84"
      },
      "outputs": [
        {
          "output_type": "execute_result",
          "data": {
            "text/plain": [
              "array([[0.51367188],\n",
              "       [0.58740234],\n",
              "       [0.60595703],\n",
              "       [0.31103516],\n",
              "       [0.        ],\n",
              "       [0.56005859],\n",
              "       [0.54101562],\n",
              "       [0.        ],\n",
              "       [0.27490234],\n",
              "       [1.        ],\n",
              "       [0.28295898],\n",
              "       [0.22460938],\n",
              "       [0.73339844],\n",
              "       [0.95361328],\n",
              "       [0.73974609],\n",
              "       [0.45581055],\n",
              "       [0.31713867],\n",
              "       [0.        ],\n",
              "       [0.65966797],\n",
              "       [0.37670898],\n",
              "       [0.55175781],\n",
              "       [0.22900391],\n",
              "       [0.12719727],\n",
              "       [0.22631836],\n",
              "       [0.59423828],\n",
              "       [0.        ],\n",
              "       [0.        ],\n",
              "       [0.        ],\n",
              "       [0.        ],\n",
              "       [0.66064453],\n",
              "       [0.3293457 ],\n",
              "       [0.        ],\n",
              "       [0.71826172],\n",
              "       [0.47290039],\n",
              "       [0.46020508],\n",
              "       [0.20178223]])"
            ]
          },
          "metadata": {},
          "execution_count": 37
        }
      ],
      "source": [
        "preds"
      ]
    },
    {
      "cell_type": "markdown",
      "id": "613fd9ce",
      "metadata": {
        "papermill": {
          "duration": 0.1167,
          "end_time": "2022-05-16T23:24:43.367254",
          "exception": false,
          "start_time": "2022-05-16T23:24:43.250554",
          "status": "completed"
        },
        "tags": [],
        "id": "613fd9ce"
      },
      "source": [
        "OK, now we're ready to create our submission file. If you save a CSV in your notebook, you will get the option to submit it later."
      ]
    },
    {
      "cell_type": "code",
      "execution_count": 38,
      "id": "7b89fb1f",
      "metadata": {
        "execution": {
          "iopub.execute_input": "2022-05-16T23:24:43.662645Z",
          "iopub.status.busy": "2022-05-16T23:24:43.661829Z",
          "iopub.status.idle": "2022-05-16T23:24:43.714350Z",
          "shell.execute_reply": "2022-05-16T23:24:43.712706Z",
          "shell.execute_reply.started": "2022-04-19T22:56:03.959351Z"
        },
        "papermill": {
          "duration": 0.173814,
          "end_time": "2022-05-16T23:24:43.714480",
          "exception": false,
          "start_time": "2022-05-16T23:24:43.540666",
          "status": "completed"
        },
        "tags": [],
        "colab": {
          "base_uri": "https://localhost:8080/",
          "height": 66,
          "referenced_widgets": [
            "bf9ad314992e47c1bbb1d2918b8ff9df",
            "1c1fbbaac4484e02900d074ff5931620",
            "9af9fd41b4b94dc69e6694c8fd93f640",
            "da79450ba1a446c4805ff34620542b06",
            "45aa668742284375baa5bb87c10bcab4",
            "628befcef7434bb1b86fc9deb2bd187d",
            "34d598236afe4c35bb1cc75f2abdd001",
            "1d9fac0343414ef9a9c7cd6facb40c83",
            "f899f5d4fbfe4f63bb1b6976e3e19508",
            "c135688938b841039e4491da816e0b53",
            "6a2a3722e42947d78d8628417fd2409f"
          ]
        },
        "id": "7b89fb1f",
        "outputId": "6bf7dd3a-8434-45c6-8392-4be74c37805d"
      },
      "outputs": [
        {
          "output_type": "display_data",
          "data": {
            "text/plain": [
              "Creating CSV from Arrow format:   0%|          | 0/1 [00:00<?, ?ba/s]"
            ],
            "application/vnd.jupyter.widget-view+json": {
              "version_major": 2,
              "version_minor": 0,
              "model_id": "bf9ad314992e47c1bbb1d2918b8ff9df"
            }
          },
          "metadata": {}
        },
        {
          "output_type": "execute_result",
          "data": {
            "text/plain": [
              "1016"
            ]
          },
          "metadata": {},
          "execution_count": 38
        }
      ],
      "source": [
        "import datasets\n",
        "\n",
        "submission = datasets.Dataset.from_dict({\n",
        "    'id': eval_ds['id'],\n",
        "    'score': preds\n",
        "})\n",
        "\n",
        "submission.to_csv('submission.csv', index=False)"
      ]
    },
    {
      "cell_type": "markdown",
      "id": "b4b0e3cf",
      "metadata": {
        "papermill": {
          "duration": 0.118094,
          "end_time": "2022-05-16T23:24:43.950959",
          "exception": false,
          "start_time": "2022-05-16T23:24:43.832865",
          "status": "completed"
        },
        "tags": [],
        "id": "b4b0e3cf"
      },
      "source": [
        "Unfortunately this is a *code competition* and internet access is disabled. That means the `pip install datasets` command we used above won't work if you want to submit to Kaggle. To fix this, you'll need to download the pip installers to Kaggle first, as [described here](https://www.kaggle.com/c/severstal-steel-defect-detection/discussion/113195). Once you've done that, disable internet in your notebook, go to the Kaggle leaderboards page, and click the *Submission* button."
      ]
    },
    {
      "cell_type": "markdown",
      "id": "5cfab1d5",
      "metadata": {
        "papermill": {
          "duration": 0.118314,
          "end_time": "2022-05-16T23:24:44.201057",
          "exception": false,
          "start_time": "2022-05-16T23:24:44.082743",
          "status": "completed"
        },
        "tags": [],
        "id": "5cfab1d5"
      },
      "source": [
        "## The end"
      ]
    },
    {
      "cell_type": "markdown",
      "id": "59e989c1",
      "metadata": {
        "papermill": {
          "duration": 0.11781,
          "end_time": "2022-05-16T23:24:44.439635",
          "exception": false,
          "start_time": "2022-05-16T23:24:44.321825",
          "status": "completed"
        },
        "tags": [],
        "id": "59e989c1"
      },
      "source": [
        "Once you're ready to go deeper, take a look at my [Iterate Like a Grandmaster](https://www.kaggle.com/code/jhoward/iterate-like-a-grandmaster/) notebook.\n",
        "\n",
        "Thanks for reading! This has been a bit of an experiment for me -- I've never done an \"absolute beginners\" guide before on Kaggle. I hope you like it! If you do, I'd greatly appreciate an upvote. Don't hesitate to add a comment if you have any questions or thoughts to add."
      ]
    }
  ],
  "metadata": {
    "kernelspec": {
      "display_name": "Python 3",
      "language": "python",
      "name": "python3"
    },
    "language_info": {
      "codemirror_mode": {
        "name": "ipython",
        "version": 3
      },
      "file_extension": ".py",
      "mimetype": "text/x-python",
      "name": "python",
      "nbconvert_exporter": "python",
      "pygments_lexer": "ipython3",
      "version": "3.7.12"
    },
    "papermill": {
      "default_parameters": {},
      "duration": 396.918297,
      "end_time": "2022-05-16T23:24:47.551396",
      "environment_variables": {},
      "exception": null,
      "input_path": "__notebook__.ipynb",
      "output_path": "__notebook__.ipynb",
      "parameters": {},
      "start_time": "2022-05-16T23:18:10.633099",
      "version": "2.3.3"
    },
    "widgets": {
      "application/vnd.jupyter.widget-state+json": {
        "1b842b48cd2f47af851065f0c68b11d4": {
          "model_module": "@jupyter-widgets/controls",
          "model_name": "HBoxModel",
          "model_module_version": "1.5.0",
          "state": {
            "_dom_classes": [],
            "_model_module": "@jupyter-widgets/controls",
            "_model_module_version": "1.5.0",
            "_model_name": "HBoxModel",
            "_view_count": null,
            "_view_module": "@jupyter-widgets/controls",
            "_view_module_version": "1.5.0",
            "_view_name": "HBoxView",
            "box_style": "",
            "children": [
              "IPY_MODEL_b817faddc5f147b39a0428c85e6a9dfd",
              "IPY_MODEL_a031e1182ff04fde9268242b207fad64",
              "IPY_MODEL_99f03fa2b29c4fed90fe1de51391328f"
            ],
            "layout": "IPY_MODEL_ab18fef169da47f3b0712b59658affd1"
          }
        },
        "b817faddc5f147b39a0428c85e6a9dfd": {
          "model_module": "@jupyter-widgets/controls",
          "model_name": "HTMLModel",
          "model_module_version": "1.5.0",
          "state": {
            "_dom_classes": [],
            "_model_module": "@jupyter-widgets/controls",
            "_model_module_version": "1.5.0",
            "_model_name": "HTMLModel",
            "_view_count": null,
            "_view_module": "@jupyter-widgets/controls",
            "_view_module_version": "1.5.0",
            "_view_name": "HTMLView",
            "description": "",
            "description_tooltip": null,
            "layout": "IPY_MODEL_6878b603bba747c691bc4a7f34bc7357",
            "placeholder": "​",
            "style": "IPY_MODEL_8dd3b2c3fe7c446db4a436b81832219e",
            "value": "100%"
          }
        },
        "a031e1182ff04fde9268242b207fad64": {
          "model_module": "@jupyter-widgets/controls",
          "model_name": "FloatProgressModel",
          "model_module_version": "1.5.0",
          "state": {
            "_dom_classes": [],
            "_model_module": "@jupyter-widgets/controls",
            "_model_module_version": "1.5.0",
            "_model_name": "FloatProgressModel",
            "_view_count": null,
            "_view_module": "@jupyter-widgets/controls",
            "_view_module_version": "1.5.0",
            "_view_name": "ProgressView",
            "bar_style": "success",
            "description": "",
            "description_tooltip": null,
            "layout": "IPY_MODEL_99f2124bedef4caba732ff8b9b59581b",
            "max": 37,
            "min": 0,
            "orientation": "horizontal",
            "style": "IPY_MODEL_264714f9e569442e8a05516d21ca4f05",
            "value": 37
          }
        },
        "99f03fa2b29c4fed90fe1de51391328f": {
          "model_module": "@jupyter-widgets/controls",
          "model_name": "HTMLModel",
          "model_module_version": "1.5.0",
          "state": {
            "_dom_classes": [],
            "_model_module": "@jupyter-widgets/controls",
            "_model_module_version": "1.5.0",
            "_model_name": "HTMLModel",
            "_view_count": null,
            "_view_module": "@jupyter-widgets/controls",
            "_view_module_version": "1.5.0",
            "_view_name": "HTMLView",
            "description": "",
            "description_tooltip": null,
            "layout": "IPY_MODEL_27cea11393c34117a0cab9f9abbeb25e",
            "placeholder": "​",
            "style": "IPY_MODEL_741bcb3db27b4827aec337415d29ab42",
            "value": " 37/37 [00:01&lt;00:00, 20.82ba/s]"
          }
        },
        "ab18fef169da47f3b0712b59658affd1": {
          "model_module": "@jupyter-widgets/base",
          "model_name": "LayoutModel",
          "model_module_version": "1.2.0",
          "state": {
            "_model_module": "@jupyter-widgets/base",
            "_model_module_version": "1.2.0",
            "_model_name": "LayoutModel",
            "_view_count": null,
            "_view_module": "@jupyter-widgets/base",
            "_view_module_version": "1.2.0",
            "_view_name": "LayoutView",
            "align_content": null,
            "align_items": null,
            "align_self": null,
            "border": null,
            "bottom": null,
            "display": null,
            "flex": null,
            "flex_flow": null,
            "grid_area": null,
            "grid_auto_columns": null,
            "grid_auto_flow": null,
            "grid_auto_rows": null,
            "grid_column": null,
            "grid_gap": null,
            "grid_row": null,
            "grid_template_areas": null,
            "grid_template_columns": null,
            "grid_template_rows": null,
            "height": null,
            "justify_content": null,
            "justify_items": null,
            "left": null,
            "margin": null,
            "max_height": null,
            "max_width": null,
            "min_height": null,
            "min_width": null,
            "object_fit": null,
            "object_position": null,
            "order": null,
            "overflow": null,
            "overflow_x": null,
            "overflow_y": null,
            "padding": null,
            "right": null,
            "top": null,
            "visibility": null,
            "width": null
          }
        },
        "6878b603bba747c691bc4a7f34bc7357": {
          "model_module": "@jupyter-widgets/base",
          "model_name": "LayoutModel",
          "model_module_version": "1.2.0",
          "state": {
            "_model_module": "@jupyter-widgets/base",
            "_model_module_version": "1.2.0",
            "_model_name": "LayoutModel",
            "_view_count": null,
            "_view_module": "@jupyter-widgets/base",
            "_view_module_version": "1.2.0",
            "_view_name": "LayoutView",
            "align_content": null,
            "align_items": null,
            "align_self": null,
            "border": null,
            "bottom": null,
            "display": null,
            "flex": null,
            "flex_flow": null,
            "grid_area": null,
            "grid_auto_columns": null,
            "grid_auto_flow": null,
            "grid_auto_rows": null,
            "grid_column": null,
            "grid_gap": null,
            "grid_row": null,
            "grid_template_areas": null,
            "grid_template_columns": null,
            "grid_template_rows": null,
            "height": null,
            "justify_content": null,
            "justify_items": null,
            "left": null,
            "margin": null,
            "max_height": null,
            "max_width": null,
            "min_height": null,
            "min_width": null,
            "object_fit": null,
            "object_position": null,
            "order": null,
            "overflow": null,
            "overflow_x": null,
            "overflow_y": null,
            "padding": null,
            "right": null,
            "top": null,
            "visibility": null,
            "width": null
          }
        },
        "8dd3b2c3fe7c446db4a436b81832219e": {
          "model_module": "@jupyter-widgets/controls",
          "model_name": "DescriptionStyleModel",
          "model_module_version": "1.5.0",
          "state": {
            "_model_module": "@jupyter-widgets/controls",
            "_model_module_version": "1.5.0",
            "_model_name": "DescriptionStyleModel",
            "_view_count": null,
            "_view_module": "@jupyter-widgets/base",
            "_view_module_version": "1.2.0",
            "_view_name": "StyleView",
            "description_width": ""
          }
        },
        "99f2124bedef4caba732ff8b9b59581b": {
          "model_module": "@jupyter-widgets/base",
          "model_name": "LayoutModel",
          "model_module_version": "1.2.0",
          "state": {
            "_model_module": "@jupyter-widgets/base",
            "_model_module_version": "1.2.0",
            "_model_name": "LayoutModel",
            "_view_count": null,
            "_view_module": "@jupyter-widgets/base",
            "_view_module_version": "1.2.0",
            "_view_name": "LayoutView",
            "align_content": null,
            "align_items": null,
            "align_self": null,
            "border": null,
            "bottom": null,
            "display": null,
            "flex": null,
            "flex_flow": null,
            "grid_area": null,
            "grid_auto_columns": null,
            "grid_auto_flow": null,
            "grid_auto_rows": null,
            "grid_column": null,
            "grid_gap": null,
            "grid_row": null,
            "grid_template_areas": null,
            "grid_template_columns": null,
            "grid_template_rows": null,
            "height": null,
            "justify_content": null,
            "justify_items": null,
            "left": null,
            "margin": null,
            "max_height": null,
            "max_width": null,
            "min_height": null,
            "min_width": null,
            "object_fit": null,
            "object_position": null,
            "order": null,
            "overflow": null,
            "overflow_x": null,
            "overflow_y": null,
            "padding": null,
            "right": null,
            "top": null,
            "visibility": null,
            "width": null
          }
        },
        "264714f9e569442e8a05516d21ca4f05": {
          "model_module": "@jupyter-widgets/controls",
          "model_name": "ProgressStyleModel",
          "model_module_version": "1.5.0",
          "state": {
            "_model_module": "@jupyter-widgets/controls",
            "_model_module_version": "1.5.0",
            "_model_name": "ProgressStyleModel",
            "_view_count": null,
            "_view_module": "@jupyter-widgets/base",
            "_view_module_version": "1.2.0",
            "_view_name": "StyleView",
            "bar_color": null,
            "description_width": ""
          }
        },
        "27cea11393c34117a0cab9f9abbeb25e": {
          "model_module": "@jupyter-widgets/base",
          "model_name": "LayoutModel",
          "model_module_version": "1.2.0",
          "state": {
            "_model_module": "@jupyter-widgets/base",
            "_model_module_version": "1.2.0",
            "_model_name": "LayoutModel",
            "_view_count": null,
            "_view_module": "@jupyter-widgets/base",
            "_view_module_version": "1.2.0",
            "_view_name": "LayoutView",
            "align_content": null,
            "align_items": null,
            "align_self": null,
            "border": null,
            "bottom": null,
            "display": null,
            "flex": null,
            "flex_flow": null,
            "grid_area": null,
            "grid_auto_columns": null,
            "grid_auto_flow": null,
            "grid_auto_rows": null,
            "grid_column": null,
            "grid_gap": null,
            "grid_row": null,
            "grid_template_areas": null,
            "grid_template_columns": null,
            "grid_template_rows": null,
            "height": null,
            "justify_content": null,
            "justify_items": null,
            "left": null,
            "margin": null,
            "max_height": null,
            "max_width": null,
            "min_height": null,
            "min_width": null,
            "object_fit": null,
            "object_position": null,
            "order": null,
            "overflow": null,
            "overflow_x": null,
            "overflow_y": null,
            "padding": null,
            "right": null,
            "top": null,
            "visibility": null,
            "width": null
          }
        },
        "741bcb3db27b4827aec337415d29ab42": {
          "model_module": "@jupyter-widgets/controls",
          "model_name": "DescriptionStyleModel",
          "model_module_version": "1.5.0",
          "state": {
            "_model_module": "@jupyter-widgets/controls",
            "_model_module_version": "1.5.0",
            "_model_name": "DescriptionStyleModel",
            "_view_count": null,
            "_view_module": "@jupyter-widgets/base",
            "_view_module_version": "1.2.0",
            "_view_name": "StyleView",
            "description_width": ""
          }
        },
        "63e4108955724f91bdd1fc8023d97af9": {
          "model_module": "@jupyter-widgets/controls",
          "model_name": "HBoxModel",
          "model_module_version": "1.5.0",
          "state": {
            "_dom_classes": [],
            "_model_module": "@jupyter-widgets/controls",
            "_model_module_version": "1.5.0",
            "_model_name": "HBoxModel",
            "_view_count": null,
            "_view_module": "@jupyter-widgets/controls",
            "_view_module_version": "1.5.0",
            "_view_name": "HBoxView",
            "box_style": "",
            "children": [
              "IPY_MODEL_40093b45fb274065b1a4c211cca16a50",
              "IPY_MODEL_c4f7d2a3ed3448dca51b4d7d7986d46d",
              "IPY_MODEL_cdcf53ff4cb44cacaa227ff2ad8e981d"
            ],
            "layout": "IPY_MODEL_80b5fcd005e44c7fbee655d6244aab3d"
          }
        },
        "40093b45fb274065b1a4c211cca16a50": {
          "model_module": "@jupyter-widgets/controls",
          "model_name": "HTMLModel",
          "model_module_version": "1.5.0",
          "state": {
            "_dom_classes": [],
            "_model_module": "@jupyter-widgets/controls",
            "_model_module_version": "1.5.0",
            "_model_name": "HTMLModel",
            "_view_count": null,
            "_view_module": "@jupyter-widgets/controls",
            "_view_module_version": "1.5.0",
            "_view_name": "HTMLView",
            "description": "",
            "description_tooltip": null,
            "layout": "IPY_MODEL_bb8d356a2c9d4045b2c9ce89479d23dc",
            "placeholder": "​",
            "style": "IPY_MODEL_52795a2b9fb047e795ffe1b343bcb7ce",
            "value": "100%"
          }
        },
        "c4f7d2a3ed3448dca51b4d7d7986d46d": {
          "model_module": "@jupyter-widgets/controls",
          "model_name": "FloatProgressModel",
          "model_module_version": "1.5.0",
          "state": {
            "_dom_classes": [],
            "_model_module": "@jupyter-widgets/controls",
            "_model_module_version": "1.5.0",
            "_model_name": "FloatProgressModel",
            "_view_count": null,
            "_view_module": "@jupyter-widgets/controls",
            "_view_module_version": "1.5.0",
            "_view_name": "ProgressView",
            "bar_style": "success",
            "description": "",
            "description_tooltip": null,
            "layout": "IPY_MODEL_2318226efa254a658cc44478105e42fe",
            "max": 1,
            "min": 0,
            "orientation": "horizontal",
            "style": "IPY_MODEL_c403968bec544f8ab079d2b0f67a1172",
            "value": 1
          }
        },
        "cdcf53ff4cb44cacaa227ff2ad8e981d": {
          "model_module": "@jupyter-widgets/controls",
          "model_name": "HTMLModel",
          "model_module_version": "1.5.0",
          "state": {
            "_dom_classes": [],
            "_model_module": "@jupyter-widgets/controls",
            "_model_module_version": "1.5.0",
            "_model_name": "HTMLModel",
            "_view_count": null,
            "_view_module": "@jupyter-widgets/controls",
            "_view_module_version": "1.5.0",
            "_view_name": "HTMLView",
            "description": "",
            "description_tooltip": null,
            "layout": "IPY_MODEL_aa409fad5dfa423bac6c984ab312e995",
            "placeholder": "​",
            "style": "IPY_MODEL_ba50cea20989430ea550aeef26581827",
            "value": " 1/1 [00:00&lt;00:00, 12.96ba/s]"
          }
        },
        "80b5fcd005e44c7fbee655d6244aab3d": {
          "model_module": "@jupyter-widgets/base",
          "model_name": "LayoutModel",
          "model_module_version": "1.2.0",
          "state": {
            "_model_module": "@jupyter-widgets/base",
            "_model_module_version": "1.2.0",
            "_model_name": "LayoutModel",
            "_view_count": null,
            "_view_module": "@jupyter-widgets/base",
            "_view_module_version": "1.2.0",
            "_view_name": "LayoutView",
            "align_content": null,
            "align_items": null,
            "align_self": null,
            "border": null,
            "bottom": null,
            "display": null,
            "flex": null,
            "flex_flow": null,
            "grid_area": null,
            "grid_auto_columns": null,
            "grid_auto_flow": null,
            "grid_auto_rows": null,
            "grid_column": null,
            "grid_gap": null,
            "grid_row": null,
            "grid_template_areas": null,
            "grid_template_columns": null,
            "grid_template_rows": null,
            "height": null,
            "justify_content": null,
            "justify_items": null,
            "left": null,
            "margin": null,
            "max_height": null,
            "max_width": null,
            "min_height": null,
            "min_width": null,
            "object_fit": null,
            "object_position": null,
            "order": null,
            "overflow": null,
            "overflow_x": null,
            "overflow_y": null,
            "padding": null,
            "right": null,
            "top": null,
            "visibility": null,
            "width": null
          }
        },
        "bb8d356a2c9d4045b2c9ce89479d23dc": {
          "model_module": "@jupyter-widgets/base",
          "model_name": "LayoutModel",
          "model_module_version": "1.2.0",
          "state": {
            "_model_module": "@jupyter-widgets/base",
            "_model_module_version": "1.2.0",
            "_model_name": "LayoutModel",
            "_view_count": null,
            "_view_module": "@jupyter-widgets/base",
            "_view_module_version": "1.2.0",
            "_view_name": "LayoutView",
            "align_content": null,
            "align_items": null,
            "align_self": null,
            "border": null,
            "bottom": null,
            "display": null,
            "flex": null,
            "flex_flow": null,
            "grid_area": null,
            "grid_auto_columns": null,
            "grid_auto_flow": null,
            "grid_auto_rows": null,
            "grid_column": null,
            "grid_gap": null,
            "grid_row": null,
            "grid_template_areas": null,
            "grid_template_columns": null,
            "grid_template_rows": null,
            "height": null,
            "justify_content": null,
            "justify_items": null,
            "left": null,
            "margin": null,
            "max_height": null,
            "max_width": null,
            "min_height": null,
            "min_width": null,
            "object_fit": null,
            "object_position": null,
            "order": null,
            "overflow": null,
            "overflow_x": null,
            "overflow_y": null,
            "padding": null,
            "right": null,
            "top": null,
            "visibility": null,
            "width": null
          }
        },
        "52795a2b9fb047e795ffe1b343bcb7ce": {
          "model_module": "@jupyter-widgets/controls",
          "model_name": "DescriptionStyleModel",
          "model_module_version": "1.5.0",
          "state": {
            "_model_module": "@jupyter-widgets/controls",
            "_model_module_version": "1.5.0",
            "_model_name": "DescriptionStyleModel",
            "_view_count": null,
            "_view_module": "@jupyter-widgets/base",
            "_view_module_version": "1.2.0",
            "_view_name": "StyleView",
            "description_width": ""
          }
        },
        "2318226efa254a658cc44478105e42fe": {
          "model_module": "@jupyter-widgets/base",
          "model_name": "LayoutModel",
          "model_module_version": "1.2.0",
          "state": {
            "_model_module": "@jupyter-widgets/base",
            "_model_module_version": "1.2.0",
            "_model_name": "LayoutModel",
            "_view_count": null,
            "_view_module": "@jupyter-widgets/base",
            "_view_module_version": "1.2.0",
            "_view_name": "LayoutView",
            "align_content": null,
            "align_items": null,
            "align_self": null,
            "border": null,
            "bottom": null,
            "display": null,
            "flex": null,
            "flex_flow": null,
            "grid_area": null,
            "grid_auto_columns": null,
            "grid_auto_flow": null,
            "grid_auto_rows": null,
            "grid_column": null,
            "grid_gap": null,
            "grid_row": null,
            "grid_template_areas": null,
            "grid_template_columns": null,
            "grid_template_rows": null,
            "height": null,
            "justify_content": null,
            "justify_items": null,
            "left": null,
            "margin": null,
            "max_height": null,
            "max_width": null,
            "min_height": null,
            "min_width": null,
            "object_fit": null,
            "object_position": null,
            "order": null,
            "overflow": null,
            "overflow_x": null,
            "overflow_y": null,
            "padding": null,
            "right": null,
            "top": null,
            "visibility": null,
            "width": null
          }
        },
        "c403968bec544f8ab079d2b0f67a1172": {
          "model_module": "@jupyter-widgets/controls",
          "model_name": "ProgressStyleModel",
          "model_module_version": "1.5.0",
          "state": {
            "_model_module": "@jupyter-widgets/controls",
            "_model_module_version": "1.5.0",
            "_model_name": "ProgressStyleModel",
            "_view_count": null,
            "_view_module": "@jupyter-widgets/base",
            "_view_module_version": "1.2.0",
            "_view_name": "StyleView",
            "bar_color": null,
            "description_width": ""
          }
        },
        "aa409fad5dfa423bac6c984ab312e995": {
          "model_module": "@jupyter-widgets/base",
          "model_name": "LayoutModel",
          "model_module_version": "1.2.0",
          "state": {
            "_model_module": "@jupyter-widgets/base",
            "_model_module_version": "1.2.0",
            "_model_name": "LayoutModel",
            "_view_count": null,
            "_view_module": "@jupyter-widgets/base",
            "_view_module_version": "1.2.0",
            "_view_name": "LayoutView",
            "align_content": null,
            "align_items": null,
            "align_self": null,
            "border": null,
            "bottom": null,
            "display": null,
            "flex": null,
            "flex_flow": null,
            "grid_area": null,
            "grid_auto_columns": null,
            "grid_auto_flow": null,
            "grid_auto_rows": null,
            "grid_column": null,
            "grid_gap": null,
            "grid_row": null,
            "grid_template_areas": null,
            "grid_template_columns": null,
            "grid_template_rows": null,
            "height": null,
            "justify_content": null,
            "justify_items": null,
            "left": null,
            "margin": null,
            "max_height": null,
            "max_width": null,
            "min_height": null,
            "min_width": null,
            "object_fit": null,
            "object_position": null,
            "order": null,
            "overflow": null,
            "overflow_x": null,
            "overflow_y": null,
            "padding": null,
            "right": null,
            "top": null,
            "visibility": null,
            "width": null
          }
        },
        "ba50cea20989430ea550aeef26581827": {
          "model_module": "@jupyter-widgets/controls",
          "model_name": "DescriptionStyleModel",
          "model_module_version": "1.5.0",
          "state": {
            "_model_module": "@jupyter-widgets/controls",
            "_model_module_version": "1.5.0",
            "_model_name": "DescriptionStyleModel",
            "_view_count": null,
            "_view_module": "@jupyter-widgets/base",
            "_view_module_version": "1.2.0",
            "_view_name": "StyleView",
            "description_width": ""
          }
        },
        "bf9ad314992e47c1bbb1d2918b8ff9df": {
          "model_module": "@jupyter-widgets/controls",
          "model_name": "HBoxModel",
          "model_module_version": "1.5.0",
          "state": {
            "_dom_classes": [],
            "_model_module": "@jupyter-widgets/controls",
            "_model_module_version": "1.5.0",
            "_model_name": "HBoxModel",
            "_view_count": null,
            "_view_module": "@jupyter-widgets/controls",
            "_view_module_version": "1.5.0",
            "_view_name": "HBoxView",
            "box_style": "",
            "children": [
              "IPY_MODEL_1c1fbbaac4484e02900d074ff5931620",
              "IPY_MODEL_9af9fd41b4b94dc69e6694c8fd93f640",
              "IPY_MODEL_da79450ba1a446c4805ff34620542b06"
            ],
            "layout": "IPY_MODEL_45aa668742284375baa5bb87c10bcab4"
          }
        },
        "1c1fbbaac4484e02900d074ff5931620": {
          "model_module": "@jupyter-widgets/controls",
          "model_name": "HTMLModel",
          "model_module_version": "1.5.0",
          "state": {
            "_dom_classes": [],
            "_model_module": "@jupyter-widgets/controls",
            "_model_module_version": "1.5.0",
            "_model_name": "HTMLModel",
            "_view_count": null,
            "_view_module": "@jupyter-widgets/controls",
            "_view_module_version": "1.5.0",
            "_view_name": "HTMLView",
            "description": "",
            "description_tooltip": null,
            "layout": "IPY_MODEL_628befcef7434bb1b86fc9deb2bd187d",
            "placeholder": "​",
            "style": "IPY_MODEL_34d598236afe4c35bb1cc75f2abdd001",
            "value": "Creating CSV from Arrow format: 100%"
          }
        },
        "9af9fd41b4b94dc69e6694c8fd93f640": {
          "model_module": "@jupyter-widgets/controls",
          "model_name": "FloatProgressModel",
          "model_module_version": "1.5.0",
          "state": {
            "_dom_classes": [],
            "_model_module": "@jupyter-widgets/controls",
            "_model_module_version": "1.5.0",
            "_model_name": "FloatProgressModel",
            "_view_count": null,
            "_view_module": "@jupyter-widgets/controls",
            "_view_module_version": "1.5.0",
            "_view_name": "ProgressView",
            "bar_style": "success",
            "description": "",
            "description_tooltip": null,
            "layout": "IPY_MODEL_1d9fac0343414ef9a9c7cd6facb40c83",
            "max": 1,
            "min": 0,
            "orientation": "horizontal",
            "style": "IPY_MODEL_f899f5d4fbfe4f63bb1b6976e3e19508",
            "value": 1
          }
        },
        "da79450ba1a446c4805ff34620542b06": {
          "model_module": "@jupyter-widgets/controls",
          "model_name": "HTMLModel",
          "model_module_version": "1.5.0",
          "state": {
            "_dom_classes": [],
            "_model_module": "@jupyter-widgets/controls",
            "_model_module_version": "1.5.0",
            "_model_name": "HTMLModel",
            "_view_count": null,
            "_view_module": "@jupyter-widgets/controls",
            "_view_module_version": "1.5.0",
            "_view_name": "HTMLView",
            "description": "",
            "description_tooltip": null,
            "layout": "IPY_MODEL_c135688938b841039e4491da816e0b53",
            "placeholder": "​",
            "style": "IPY_MODEL_6a2a3722e42947d78d8628417fd2409f",
            "value": " 1/1 [00:00&lt;00:00, 20.75ba/s]"
          }
        },
        "45aa668742284375baa5bb87c10bcab4": {
          "model_module": "@jupyter-widgets/base",
          "model_name": "LayoutModel",
          "model_module_version": "1.2.0",
          "state": {
            "_model_module": "@jupyter-widgets/base",
            "_model_module_version": "1.2.0",
            "_model_name": "LayoutModel",
            "_view_count": null,
            "_view_module": "@jupyter-widgets/base",
            "_view_module_version": "1.2.0",
            "_view_name": "LayoutView",
            "align_content": null,
            "align_items": null,
            "align_self": null,
            "border": null,
            "bottom": null,
            "display": null,
            "flex": null,
            "flex_flow": null,
            "grid_area": null,
            "grid_auto_columns": null,
            "grid_auto_flow": null,
            "grid_auto_rows": null,
            "grid_column": null,
            "grid_gap": null,
            "grid_row": null,
            "grid_template_areas": null,
            "grid_template_columns": null,
            "grid_template_rows": null,
            "height": null,
            "justify_content": null,
            "justify_items": null,
            "left": null,
            "margin": null,
            "max_height": null,
            "max_width": null,
            "min_height": null,
            "min_width": null,
            "object_fit": null,
            "object_position": null,
            "order": null,
            "overflow": null,
            "overflow_x": null,
            "overflow_y": null,
            "padding": null,
            "right": null,
            "top": null,
            "visibility": null,
            "width": null
          }
        },
        "628befcef7434bb1b86fc9deb2bd187d": {
          "model_module": "@jupyter-widgets/base",
          "model_name": "LayoutModel",
          "model_module_version": "1.2.0",
          "state": {
            "_model_module": "@jupyter-widgets/base",
            "_model_module_version": "1.2.0",
            "_model_name": "LayoutModel",
            "_view_count": null,
            "_view_module": "@jupyter-widgets/base",
            "_view_module_version": "1.2.0",
            "_view_name": "LayoutView",
            "align_content": null,
            "align_items": null,
            "align_self": null,
            "border": null,
            "bottom": null,
            "display": null,
            "flex": null,
            "flex_flow": null,
            "grid_area": null,
            "grid_auto_columns": null,
            "grid_auto_flow": null,
            "grid_auto_rows": null,
            "grid_column": null,
            "grid_gap": null,
            "grid_row": null,
            "grid_template_areas": null,
            "grid_template_columns": null,
            "grid_template_rows": null,
            "height": null,
            "justify_content": null,
            "justify_items": null,
            "left": null,
            "margin": null,
            "max_height": null,
            "max_width": null,
            "min_height": null,
            "min_width": null,
            "object_fit": null,
            "object_position": null,
            "order": null,
            "overflow": null,
            "overflow_x": null,
            "overflow_y": null,
            "padding": null,
            "right": null,
            "top": null,
            "visibility": null,
            "width": null
          }
        },
        "34d598236afe4c35bb1cc75f2abdd001": {
          "model_module": "@jupyter-widgets/controls",
          "model_name": "DescriptionStyleModel",
          "model_module_version": "1.5.0",
          "state": {
            "_model_module": "@jupyter-widgets/controls",
            "_model_module_version": "1.5.0",
            "_model_name": "DescriptionStyleModel",
            "_view_count": null,
            "_view_module": "@jupyter-widgets/base",
            "_view_module_version": "1.2.0",
            "_view_name": "StyleView",
            "description_width": ""
          }
        },
        "1d9fac0343414ef9a9c7cd6facb40c83": {
          "model_module": "@jupyter-widgets/base",
          "model_name": "LayoutModel",
          "model_module_version": "1.2.0",
          "state": {
            "_model_module": "@jupyter-widgets/base",
            "_model_module_version": "1.2.0",
            "_model_name": "LayoutModel",
            "_view_count": null,
            "_view_module": "@jupyter-widgets/base",
            "_view_module_version": "1.2.0",
            "_view_name": "LayoutView",
            "align_content": null,
            "align_items": null,
            "align_self": null,
            "border": null,
            "bottom": null,
            "display": null,
            "flex": null,
            "flex_flow": null,
            "grid_area": null,
            "grid_auto_columns": null,
            "grid_auto_flow": null,
            "grid_auto_rows": null,
            "grid_column": null,
            "grid_gap": null,
            "grid_row": null,
            "grid_template_areas": null,
            "grid_template_columns": null,
            "grid_template_rows": null,
            "height": null,
            "justify_content": null,
            "justify_items": null,
            "left": null,
            "margin": null,
            "max_height": null,
            "max_width": null,
            "min_height": null,
            "min_width": null,
            "object_fit": null,
            "object_position": null,
            "order": null,
            "overflow": null,
            "overflow_x": null,
            "overflow_y": null,
            "padding": null,
            "right": null,
            "top": null,
            "visibility": null,
            "width": null
          }
        },
        "f899f5d4fbfe4f63bb1b6976e3e19508": {
          "model_module": "@jupyter-widgets/controls",
          "model_name": "ProgressStyleModel",
          "model_module_version": "1.5.0",
          "state": {
            "_model_module": "@jupyter-widgets/controls",
            "_model_module_version": "1.5.0",
            "_model_name": "ProgressStyleModel",
            "_view_count": null,
            "_view_module": "@jupyter-widgets/base",
            "_view_module_version": "1.2.0",
            "_view_name": "StyleView",
            "bar_color": null,
            "description_width": ""
          }
        },
        "c135688938b841039e4491da816e0b53": {
          "model_module": "@jupyter-widgets/base",
          "model_name": "LayoutModel",
          "model_module_version": "1.2.0",
          "state": {
            "_model_module": "@jupyter-widgets/base",
            "_model_module_version": "1.2.0",
            "_model_name": "LayoutModel",
            "_view_count": null,
            "_view_module": "@jupyter-widgets/base",
            "_view_module_version": "1.2.0",
            "_view_name": "LayoutView",
            "align_content": null,
            "align_items": null,
            "align_self": null,
            "border": null,
            "bottom": null,
            "display": null,
            "flex": null,
            "flex_flow": null,
            "grid_area": null,
            "grid_auto_columns": null,
            "grid_auto_flow": null,
            "grid_auto_rows": null,
            "grid_column": null,
            "grid_gap": null,
            "grid_row": null,
            "grid_template_areas": null,
            "grid_template_columns": null,
            "grid_template_rows": null,
            "height": null,
            "justify_content": null,
            "justify_items": null,
            "left": null,
            "margin": null,
            "max_height": null,
            "max_width": null,
            "min_height": null,
            "min_width": null,
            "object_fit": null,
            "object_position": null,
            "order": null,
            "overflow": null,
            "overflow_x": null,
            "overflow_y": null,
            "padding": null,
            "right": null,
            "top": null,
            "visibility": null,
            "width": null
          }
        },
        "6a2a3722e42947d78d8628417fd2409f": {
          "model_module": "@jupyter-widgets/controls",
          "model_name": "DescriptionStyleModel",
          "model_module_version": "1.5.0",
          "state": {
            "_model_module": "@jupyter-widgets/controls",
            "_model_module_version": "1.5.0",
            "_model_name": "DescriptionStyleModel",
            "_view_count": null,
            "_view_module": "@jupyter-widgets/base",
            "_view_module_version": "1.2.0",
            "_view_name": "StyleView",
            "description_width": ""
          }
        }
      }
    },
    "colab": {
      "provenance": [],
      "include_colab_link": true
    },
    "accelerator": "GPU",
    "gpuClass": "standard"
  },
  "nbformat": 4,
  "nbformat_minor": 5
}